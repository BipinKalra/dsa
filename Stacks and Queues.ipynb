{
 "cells": [
  {
   "cell_type": "code",
   "execution_count": 1,
   "id": "f0a23b80",
   "metadata": {},
   "outputs": [],
   "source": [
    "class Node:\n",
    "    def __init__(self, value):\n",
    "        self.value = value\n",
    "        self.next = None"
   ]
  },
  {
   "cell_type": "code",
   "execution_count": 20,
   "id": "198882d6",
   "metadata": {},
   "outputs": [],
   "source": [
    "class Stack:\n",
    "    def __init__(self, value):\n",
    "        new_node = Node(value)\n",
    "        \n",
    "        self.top = new_node\n",
    "        self.height = 1\n",
    "        \n",
    "    def push(self, value):\n",
    "        new_node = Node(value)\n",
    "        \n",
    "        if self.height == 0:\n",
    "            self.top = new_node\n",
    "        else:\n",
    "            new_node.next = self.top\n",
    "            self.top = new_node\n",
    "        \n",
    "        self.height += 1\n",
    "        \n",
    "        return True\n",
    "    \n",
    "    def pop(self):\n",
    "        if self.height == 0:\n",
    "            return None\n",
    "        \n",
    "        temp = self.top\n",
    "        self.top = self.top.next\n",
    "        \n",
    "        self.height -= 1\n",
    "        \n",
    "        temp.next = None\n",
    "        \n",
    "        return temp\n",
    "    \n",
    "    def print_stack(self):\n",
    "        temp = self.top\n",
    "        \n",
    "        while temp is not None:\n",
    "            print(temp.value)\n",
    "            temp = temp.next"
   ]
  },
  {
   "cell_type": "code",
   "execution_count": 21,
   "id": "70d43ad8",
   "metadata": {},
   "outputs": [
    {
     "data": {
      "text/plain": [
       "True"
      ]
     },
     "execution_count": 21,
     "metadata": {},
     "output_type": "execute_result"
    }
   ],
   "source": [
    "s = Stack(1)\n",
    "s.push(2)\n",
    "s.push(3)\n",
    "s.push(4)\n",
    "s.push(5)"
   ]
  },
  {
   "cell_type": "code",
   "execution_count": 22,
   "id": "e836651d",
   "metadata": {},
   "outputs": [
    {
     "name": "stdout",
     "output_type": "stream",
     "text": [
      "5\n",
      "4\n",
      "3\n",
      "2\n",
      "1\n"
     ]
    }
   ],
   "source": [
    "s.print_stack()"
   ]
  },
  {
   "cell_type": "code",
   "execution_count": 23,
   "id": "48a4e688",
   "metadata": {},
   "outputs": [
    {
     "data": {
      "text/plain": [
       "<__main__.Node at 0x7f797952cf70>"
      ]
     },
     "execution_count": 23,
     "metadata": {},
     "output_type": "execute_result"
    }
   ],
   "source": [
    "s.pop()"
   ]
  },
  {
   "cell_type": "code",
   "execution_count": 24,
   "id": "109b7b80",
   "metadata": {},
   "outputs": [
    {
     "name": "stdout",
     "output_type": "stream",
     "text": [
      "4\n",
      "3\n",
      "2\n",
      "1\n"
     ]
    }
   ],
   "source": [
    "s.print_stack()"
   ]
  },
  {
   "cell_type": "code",
   "execution_count": 25,
   "id": "e295b759",
   "metadata": {},
   "outputs": [
    {
     "data": {
      "text/plain": [
       "<__main__.Node at 0x7f797952c370>"
      ]
     },
     "execution_count": 25,
     "metadata": {},
     "output_type": "execute_result"
    }
   ],
   "source": [
    "s.pop()"
   ]
  },
  {
   "cell_type": "code",
   "execution_count": 26,
   "id": "a02a730e",
   "metadata": {},
   "outputs": [
    {
     "name": "stdout",
     "output_type": "stream",
     "text": [
      "3\n",
      "2\n",
      "1\n"
     ]
    }
   ],
   "source": [
    "s.print_stack()"
   ]
  },
  {
   "cell_type": "code",
   "execution_count": 40,
   "id": "ee991ea0",
   "metadata": {},
   "outputs": [],
   "source": [
    "class Queue:\n",
    "    def __init__(self, value):\n",
    "        new_node = Node(value)\n",
    "        \n",
    "        self.first = new_node\n",
    "        self.last = new_node\n",
    "        self.length = 1\n",
    "        \n",
    "    def enqueue(self, value):\n",
    "        new_node = Node(value)\n",
    "        \n",
    "        if self.length == 0:\n",
    "            self.first = new_node\n",
    "            self.last = new_node\n",
    "        else:\n",
    "            self.last.next = new_node\n",
    "            self.last = new_node\n",
    "        \n",
    "        self.length += 1\n",
    "        \n",
    "        return True\n",
    "    \n",
    "    def dequeue(self):\n",
    "        if self.length == 0:\n",
    "            return None\n",
    "        \n",
    "        temp = self.first\n",
    "        self.first = self.first.next\n",
    "        temp.next = None\n",
    "        \n",
    "        self.length -= 1\n",
    "        \n",
    "        if self.length == 0:\n",
    "            self.last = None\n",
    "        \n",
    "        return temp\n",
    "    \n",
    "    def print_queue(self):\n",
    "        temp = self.first\n",
    "        \n",
    "        while temp is not None:\n",
    "            print(temp.value)\n",
    "            temp = temp.next"
   ]
  },
  {
   "cell_type": "code",
   "execution_count": 41,
   "id": "43a2a02d",
   "metadata": {},
   "outputs": [
    {
     "data": {
      "text/plain": [
       "True"
      ]
     },
     "execution_count": 41,
     "metadata": {},
     "output_type": "execute_result"
    }
   ],
   "source": [
    "q = Queue(1)\n",
    "q.enqueue(2)\n",
    "q.enqueue(3)\n",
    "q.enqueue(4)\n",
    "q.enqueue(5)"
   ]
  },
  {
   "cell_type": "code",
   "execution_count": 42,
   "id": "5bc75edb",
   "metadata": {},
   "outputs": [
    {
     "name": "stdout",
     "output_type": "stream",
     "text": [
      "1\n",
      "2\n",
      "3\n",
      "4\n",
      "5\n"
     ]
    }
   ],
   "source": [
    "q.print_queue()"
   ]
  },
  {
   "cell_type": "code",
   "execution_count": 43,
   "id": "1092624b",
   "metadata": {},
   "outputs": [
    {
     "data": {
      "text/plain": [
       "<__main__.Node at 0x7f7979b5ff10>"
      ]
     },
     "execution_count": 43,
     "metadata": {},
     "output_type": "execute_result"
    }
   ],
   "source": [
    "q.dequeue()"
   ]
  },
  {
   "cell_type": "code",
   "execution_count": 44,
   "id": "81e1c668",
   "metadata": {},
   "outputs": [
    {
     "name": "stdout",
     "output_type": "stream",
     "text": [
      "2\n",
      "3\n",
      "4\n",
      "5\n"
     ]
    }
   ],
   "source": [
    "q.print_queue()"
   ]
  },
  {
   "cell_type": "code",
   "execution_count": 49,
   "id": "a31662b0",
   "metadata": {},
   "outputs": [
    {
     "name": "stdout",
     "output_type": "stream",
     "text": [
      "--------------------\n"
     ]
    }
   ],
   "source": [
    "q.dequeue()\n",
    "q.print_queue()\n",
    "print(\"-\" * 20)"
   ]
  },
  {
   "cell_type": "code",
   "execution_count": 52,
   "id": "821e10b9",
   "metadata": {},
   "outputs": [],
   "source": [
    "class ListStack:\n",
    "    def __init__(self):\n",
    "        self.stack_list = []\n",
    "\n",
    "    def print_stack(self):\n",
    "        for i in range(len(self.stack_list)-1, -1, -1):\n",
    "            print(self.stack_list[i])\n",
    "\n",
    "    def is_empty(self):\n",
    "        return len(self.stack_list) == 0\n",
    "\n",
    "    def peek(self):\n",
    "        if self.is_empty():\n",
    "            return None\n",
    "        else:\n",
    "            return self.stack_list[-1]\n",
    "\n",
    "    def size(self):\n",
    "        return len(self.stack_list)\n",
    "\n",
    "    def push(self, value):\n",
    "        self.stack_list.append(value)\n",
    "\n",
    "    def pop(self):\n",
    "        if self.is_empty():\n",
    "            return None\n",
    "        else:\n",
    "            return self.stack_list.pop()"
   ]
  },
  {
   "cell_type": "code",
   "execution_count": 59,
   "id": "c05bc896",
   "metadata": {},
   "outputs": [],
   "source": [
    "def reverse_string(s):\n",
    "    stack = ListStack()\n",
    "    \n",
    "    for i in s:\n",
    "        stack.push(i)\n",
    "        print(stack.stack_list)\n",
    "        \n",
    "    result = \"\"\n",
    "    \n",
    "    while stack.stack_list:\n",
    "        result += stack.pop()\n",
    "        print(result)\n",
    "        \n",
    "    return result"
   ]
  },
  {
   "cell_type": "code",
   "execution_count": 60,
   "id": "77598ff1",
   "metadata": {},
   "outputs": [
    {
     "name": "stdout",
     "output_type": "stream",
     "text": [
      "['b']\n",
      "['b', 'i']\n",
      "['b', 'i', 'p']\n",
      "['b', 'i', 'p', 'i']\n",
      "['b', 'i', 'p', 'i', 'n']\n",
      "n\n",
      "ni\n",
      "nip\n",
      "nipi\n",
      "nipib\n"
     ]
    },
    {
     "data": {
      "text/plain": [
       "'nipib'"
      ]
     },
     "execution_count": 60,
     "metadata": {},
     "output_type": "execute_result"
    }
   ],
   "source": [
    "reverse_string(\"bipin\")"
   ]
  },
  {
   "cell_type": "code",
   "execution_count": null,
   "id": "5e27558d",
   "metadata": {},
   "outputs": [],
   "source": []
  }
 ],
 "metadata": {
  "kernelspec": {
   "display_name": "Python 3 (ipykernel)",
   "language": "python",
   "name": "python3"
  },
  "language_info": {
   "codemirror_mode": {
    "name": "ipython",
    "version": 3
   },
   "file_extension": ".py",
   "mimetype": "text/x-python",
   "name": "python",
   "nbconvert_exporter": "python",
   "pygments_lexer": "ipython3",
   "version": "3.9.5"
  }
 },
 "nbformat": 4,
 "nbformat_minor": 5
}
