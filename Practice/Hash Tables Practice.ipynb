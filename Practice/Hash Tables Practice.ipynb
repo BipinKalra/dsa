{
 "cells": [
  {
   "cell_type": "markdown",
   "id": "dd3655b9-f184-43bc-8f7d-0c49e6478396",
   "metadata": {},
   "source": [
    "### Q1 -> Item in Common\n",
    "- Takes two lists as input and returns True if there is a common element, otherwise returns False"
   ]
  },
  {
   "cell_type": "code",
   "execution_count": 1,
   "id": "7657cfa6-e0ca-4899-83f9-9c859b98f351",
   "metadata": {},
   "outputs": [],
   "source": [
    "def check_common_element(list1, list2):\n",
    "    unique_list1 = set(list1)\n",
    "\n",
    "    for element in list2:\n",
    "        if element in unique_list1:\n",
    "            return True\n",
    "\n",
    "    return False"
   ]
  },
  {
   "cell_type": "code",
   "execution_count": 2,
   "id": "2441d7b2-d600-4250-85d9-71151befb8b5",
   "metadata": {},
   "outputs": [
    {
     "data": {
      "text/plain": [
       "False"
      ]
     },
     "execution_count": 2,
     "metadata": {},
     "output_type": "execute_result"
    }
   ],
   "source": [
    "check_common_element([], [1, 2, 3])"
   ]
  },
  {
   "cell_type": "code",
   "execution_count": 3,
   "id": "786c0fc1-6e9a-4a82-b7b6-ad9f29dd4772",
   "metadata": {},
   "outputs": [
    {
     "data": {
      "text/plain": [
       "False"
      ]
     },
     "execution_count": 3,
     "metadata": {},
     "output_type": "execute_result"
    }
   ],
   "source": [
    "check_common_element([4, 5, 6, 7], [1, 2, 3])"
   ]
  },
  {
   "cell_type": "code",
   "execution_count": 4,
   "id": "d4bc4ff6-645a-4f3f-b209-843475051c00",
   "metadata": {},
   "outputs": [
    {
     "data": {
      "text/plain": [
       "True"
      ]
     },
     "execution_count": 4,
     "metadata": {},
     "output_type": "execute_result"
    }
   ],
   "source": [
    "check_common_element([2, 3, 4], [1, 2, 3])"
   ]
  },
  {
   "cell_type": "markdown",
   "id": "5e1eeccc-de87-437a-97ce-5e169ab04752",
   "metadata": {},
   "source": [
    "### Q2 -> Find Duplicates\n",
    "- Given an array of numbers, return a list of numbers which appear more than once\n",
    "- Returned list should be empty if the list contains no duplicates"
   ]
  },
  {
   "cell_type": "code",
   "execution_count": 8,
   "id": "997d331f-6132-4d76-a1ae-bbfc08ba0579",
   "metadata": {},
   "outputs": [],
   "source": [
    "def find_duplicates(l):\n",
    "    unique = set()\n",
    "    duplicates = []\n",
    "\n",
    "    for element in l:\n",
    "        if element in unique:\n",
    "            duplicates.append(element)\n",
    "        else:\n",
    "            unique.add(element)\n",
    "\n",
    "    return duplicates"
   ]
  },
  {
   "cell_type": "code",
   "execution_count": 9,
   "id": "06877806-56b1-4d7d-b54d-7c1e70d33c46",
   "metadata": {},
   "outputs": [
    {
     "data": {
      "text/plain": [
       "[3, 6, 2, 1]"
      ]
     },
     "execution_count": 9,
     "metadata": {},
     "output_type": "execute_result"
    }
   ],
   "source": [
    "find_duplicates([1,2,3,3,4,5,6,6,7,2,1])"
   ]
  },
  {
   "cell_type": "code",
   "execution_count": 10,
   "id": "81c5c377-0669-4125-bc43-709c0665092d",
   "metadata": {},
   "outputs": [
    {
     "data": {
      "text/plain": [
       "[]"
      ]
     },
     "execution_count": 10,
     "metadata": {},
     "output_type": "execute_result"
    }
   ],
   "source": [
    "find_duplicates([1,2,3,4])"
   ]
  },
  {
   "cell_type": "markdown",
   "id": "6e0962e2-04cf-4a9a-828d-e8c49a18895c",
   "metadata": {},
   "source": [
    "### Q3 -> First Non Repeating Character\n",
    "- A string of lower case letters is given\n",
    "- Function should return the first character which is not repeated\n",
    "- It should return None if every character is repeated"
   ]
  },
  {
   "cell_type": "code",
   "execution_count": 26,
   "id": "1a1d0d1c-f628-4f67-b13a-07519b8b3bc7",
   "metadata": {},
   "outputs": [],
   "source": [
    "def first_non_repeating_character(string):\n",
    "    character_counts = {}\n",
    "\n",
    "    for char in string:\n",
    "        if char in character_counts:\n",
    "            character_counts[char] += 1\n",
    "        else:\n",
    "            character_counts[char] = 1\n",
    "\n",
    "    for key, value in character_counts.items():\n",
    "        if value == 1:\n",
    "            return key\n",
    "\n",
    "    return None"
   ]
  },
  {
   "cell_type": "code",
   "execution_count": 27,
   "id": "e156254a-1dc8-4c3a-8bda-a59cca1f4828",
   "metadata": {},
   "outputs": [
    {
     "data": {
      "text/plain": [
       "'h'"
      ]
     },
     "execution_count": 27,
     "metadata": {},
     "output_type": "execute_result"
    }
   ],
   "source": [
    "first_non_repeating_character(\"hello\")"
   ]
  },
  {
   "cell_type": "code",
   "execution_count": 28,
   "id": "17c06abe-4038-4e23-b745-3ae9ae3a1428",
   "metadata": {},
   "outputs": [],
   "source": [
    "first_non_repeating_character(\"aaabbccdd\")"
   ]
  },
  {
   "cell_type": "code",
   "execution_count": 29,
   "id": "16ee8a6f-443e-45ca-ace5-8fdb77e1ff3d",
   "metadata": {},
   "outputs": [
    {
     "data": {
      "text/plain": [
       "'b'"
      ]
     },
     "execution_count": 29,
     "metadata": {},
     "output_type": "execute_result"
    }
   ],
   "source": [
    "first_non_repeating_character(\"abcca\")"
   ]
  },
  {
   "cell_type": "markdown",
   "id": "14a9d7bd-30cb-4a59-95b1-0658f673334e",
   "metadata": {},
   "source": [
    "### Q4 -> Group Anagrams\n",
    "- An array of strings is provided where each string contains lower case english letters\n",
    "- Output needs to be a list of lists where each internal list contains all the strings which are anagrams"
   ]
  },
  {
   "cell_type": "code",
   "execution_count": 46,
   "id": "f98d74ae-1e1e-4a36-bd11-4be6f709e734",
   "metadata": {},
   "outputs": [],
   "source": [
    "def check_anagram(string1, string2):\n",
    "    if len(string1) != len(string2):\n",
    "        return False\n",
    "\n",
    "    diff = {}\n",
    "    for i in range(len(string1)):\n",
    "        diff[string1[i]] = diff.get(string1[i], 0) + 1\n",
    "        diff[string2[i]] = diff.get(string2[i], 0) - 1\n",
    "\n",
    "    for value in diff.values():\n",
    "        if value != 0:\n",
    "            return False\n",
    "\n",
    "    return True"
   ]
  },
  {
   "cell_type": "code",
   "execution_count": 59,
   "id": "4e4c7b93-34c8-4a6d-840a-ee904d616e76",
   "metadata": {},
   "outputs": [],
   "source": [
    "def group_anagrams(strings):\n",
    "    anagram_groups = {}\n",
    "\n",
    "    for string in strings:\n",
    "        is_anagram = False\n",
    "        \n",
    "        for group in anagram_groups:\n",
    "            is_anagram = check_anagram(string, group)\n",
    "\n",
    "            if is_anagram:\n",
    "                anagram_groups[group].append(string)\n",
    "                break\n",
    "\n",
    "        if not is_anagram:\n",
    "            anagram_groups[string] = [string]\n",
    "\n",
    "    result = []\n",
    "\n",
    "    for group in anagram_groups.values():\n",
    "        result.append(group)\n",
    "\n",
    "    return result"
   ]
  },
  {
   "cell_type": "code",
   "execution_count": 60,
   "id": "cbcd3d93-84b7-4fda-ba07-ae249d745884",
   "metadata": {},
   "outputs": [],
   "source": [
    "list_of_words = [\"eat\", \"tea\", \"tan\", \"ate\", \"nat\", \"bat\"]"
   ]
  },
  {
   "cell_type": "code",
   "execution_count": 61,
   "id": "6ce9451a-ab3c-4554-b7cd-5cacc7fa2257",
   "metadata": {},
   "outputs": [
    {
     "data": {
      "text/plain": [
       "[['eat', 'tea', 'ate'], ['tan', 'nat'], ['bat']]"
      ]
     },
     "execution_count": 61,
     "metadata": {},
     "output_type": "execute_result"
    }
   ],
   "source": [
    "group_anagrams(list_of_words)"
   ]
  },
  {
   "cell_type": "code",
   "execution_count": 63,
   "id": "e164fb89-698e-4a5a-91cb-29c7fd229069",
   "metadata": {},
   "outputs": [],
   "source": [
    "# ANOTHER APPROACH USING SORTING\n",
    "\n",
    "def group_anagrams(strings):\n",
    "    anagram_groups = {}\n",
    "\n",
    "    for string in strings:\n",
    "        sorted_string = \"\".join(sorted(string))\n",
    "\n",
    "        if sorted_string in anagram_groups:\n",
    "            anagram_groups[sorted_string].append(string)\n",
    "        else:\n",
    "            anagram_groups[sorted_string] = [string]\n",
    "\n",
    "    return list(anagram_groups.values())"
   ]
  },
  {
   "cell_type": "code",
   "execution_count": 64,
   "id": "e74366e5-968c-4ab3-b3d9-a2c7bc29d538",
   "metadata": {},
   "outputs": [
    {
     "data": {
      "text/plain": [
       "[['eat', 'tea', 'ate'], ['tan', 'nat'], ['bat']]"
      ]
     },
     "execution_count": 64,
     "metadata": {},
     "output_type": "execute_result"
    }
   ],
   "source": [
    "group_anagrams(list_of_words)"
   ]
  },
  {
   "cell_type": "markdown",
   "id": "cf1bc589-57cc-43dd-af76-a602d8f947df",
   "metadata": {},
   "source": [
    "### Q5 -> Two Sum\n",
    "- Given an array of integers and a target sum, return the indices of two numbers that add upto that target\n",
    "- Needs to be solved in O(n) i.e. single iteration over the array"
   ]
  },
  {
   "cell_type": "code",
   "execution_count": 69,
   "id": "dc058650-3bf7-425f-82fb-2c2269c16f46",
   "metadata": {},
   "outputs": [],
   "source": [
    "def two_sum(integers, target):\n",
    "    passed_values = {}\n",
    "\n",
    "    for index, element in enumerate(integers):\n",
    "        if target - element in passed_values:\n",
    "            return [passed_values[target - element], index]\n",
    "        \n",
    "        passed_values[element] = index\n",
    "\n",
    "    return []"
   ]
  },
  {
   "cell_type": "code",
   "execution_count": 71,
   "id": "88893e0b-2d4e-498d-8c20-0c311c12f008",
   "metadata": {},
   "outputs": [
    {
     "name": "stdout",
     "output_type": "stream",
     "text": [
      "[1, 4]\n",
      "[1, 3]\n",
      "[0, 3]\n",
      "[1, 3]\n",
      "[]\n",
      "[2, 3]\n",
      "[0, 1]\n",
      "[]\n"
     ]
    }
   ],
   "source": [
    "print(two_sum([5, 1, 7, 2, 9, 3], 10))  \n",
    "print(two_sum([4, 2, 11, 7, 6, 3], 9))  \n",
    "print(two_sum([10, 15, 5, 2, 8, 1, 7], 12))  \n",
    "print(two_sum([1, 3, 5, 7, 9], 10))  \n",
    "print(two_sum([1, 2, 3, 4, 5], 10))\n",
    "print(two_sum([1, 2, 3, 4, 5], 7))\n",
    "print(two_sum([1, 2, 3, 4, 5], 3))\n",
    "print(two_sum([], 0))"
   ]
  },
  {
   "cell_type": "markdown",
   "id": "e9f21e3c-3aea-4d9f-8770-49d9dc6b4d24",
   "metadata": {},
   "source": [
    "### Q6 -> Subarray Sum\n",
    "- An array of integers and a target are provided as input\n",
    "- Return the starting and ending index of a contiguous subarray that has a sum equal to the target\n",
    "- If multiple such subarrays exist then return any one of them"
   ]
  },
  {
   "cell_type": "code",
   "execution_count": 96,
   "id": "fde6ab55-d08f-4dae-98e1-86083de9f442",
   "metadata": {},
   "outputs": [],
   "source": [
    "def subarray_sum(nums, target):\n",
    "    cumulative_sums = {0: -1}\n",
    "    running_sum = 0\n",
    "\n",
    "    for index, number in enumerate(nums):\n",
    "        running_sum += number\n",
    "\n",
    "        if running_sum - target in cumulative_sums:\n",
    "            start = cumulative_sums[running_sum - target] + 1\n",
    "\n",
    "            return [start, index]\n",
    "\n",
    "        cumulative_sums[running_sum] = index\n",
    "\n",
    "    return []"
   ]
  },
  {
   "cell_type": "code",
   "execution_count": 97,
   "id": "03125f15-4c25-42c9-a3d4-3e2b82864dbd",
   "metadata": {},
   "outputs": [
    {
     "data": {
      "text/plain": [
       "[1, 3]"
      ]
     },
     "execution_count": 97,
     "metadata": {},
     "output_type": "execute_result"
    }
   ],
   "source": [
    "subarray_sum([1, 2, 3, 4, 5], 9)"
   ]
  },
  {
   "cell_type": "code",
   "execution_count": 99,
   "id": "e2304508-e760-4b95-b2b8-0eeb33bacacc",
   "metadata": {},
   "outputs": [
    {
     "name": "stdout",
     "output_type": "stream",
     "text": [
      "[1, 3]\n",
      "[0, 3]\n",
      "[1, 1]\n",
      "[]\n"
     ]
    }
   ],
   "source": [
    "nums = [1, 2, 3, 4, 5]\n",
    "target = 9\n",
    "print(subarray_sum(nums, target))\n",
    "\n",
    "nums = [-1, 2, 3, -4, 5]\n",
    "target = 0\n",
    "print(subarray_sum(nums, target))\n",
    "\n",
    "nums = [2, 3, 4, 5, 6]\n",
    "target = 3\n",
    "print(subarray_sum(nums, target))\n",
    "\n",
    "nums = []\n",
    "target = 0\n",
    "print(subarray_sum(nums, target))"
   ]
  },
  {
   "cell_type": "markdown",
   "id": "db397cf1-3df3-4ea2-8381-cc5d70c66c21",
   "metadata": {},
   "source": [
    "### Q7 -> Remove duplicates\n",
    "- A list of values is provided\n",
    "- Return a new list which contains only the unique values (duplicates removed)"
   ]
  },
  {
   "cell_type": "code",
   "execution_count": 100,
   "id": "5e0b8a3a-4c0a-41d6-909e-0cc28af136a2",
   "metadata": {},
   "outputs": [],
   "source": [
    "def remove_duplicates(l):\n",
    "    return list(set(l))"
   ]
  },
  {
   "cell_type": "code",
   "execution_count": 101,
   "id": "3b9544e1-f6da-4d69-9314-40d5fe16a6c7",
   "metadata": {},
   "outputs": [
    {
     "data": {
      "text/plain": [
       "[0, 1, 2, 3, 4, 5, 6, 7, 8, 9]"
      ]
     },
     "execution_count": 101,
     "metadata": {},
     "output_type": "execute_result"
    }
   ],
   "source": [
    "remove_duplicates([8,9,0,1,2,3,1,2,3,4,5,6,5,6,7,8,9,0,9,8,7,6,5,4,3,2,1])"
   ]
  },
  {
   "cell_type": "markdown",
   "id": "b60f27c0-d959-40bf-892b-76fb3a86e289",
   "metadata": {},
   "source": [
    "### Q8 -> Has Unique Chars\n",
    "- Take a string as input\n",
    "- Return True if all characters inside the string are unique else return False"
   ]
  },
  {
   "cell_type": "code",
   "execution_count": 102,
   "id": "e250939f-6831-455c-86f9-d0c94a283967",
   "metadata": {},
   "outputs": [],
   "source": [
    "def has_unique_chars(string):\n",
    "    if len(string) == len(set(string)):\n",
    "        return True\n",
    "    else:\n",
    "        return False"
   ]
  },
  {
   "cell_type": "code",
   "execution_count": 104,
   "id": "d722a81c-c6da-476b-9fac-2f48c270e4f7",
   "metadata": {},
   "outputs": [
    {
     "data": {
      "text/plain": [
       "False"
      ]
     },
     "execution_count": 104,
     "metadata": {},
     "output_type": "execute_result"
    }
   ],
   "source": [
    "has_unique_chars(\"abcddefef\")"
   ]
  },
  {
   "cell_type": "markdown",
   "id": "819cca62-4200-435b-9f0d-e51053d54f3c",
   "metadata": {},
   "source": [
    "### Q9 -> Find Pairs\n",
    "- Given two lists of arrays containing unique numbers and a target\n",
    "- Generate all possible pairs of numbers picking one from each list that add up to the target"
   ]
  },
  {
   "cell_type": "code",
   "execution_count": 105,
   "id": "c819df79-fa5f-47f6-b577-1a0526e9d7d3",
   "metadata": {},
   "outputs": [],
   "source": [
    "def find_pairs(l1, l2, target):\n",
    "    set_l1 = set(l1)\n",
    "    result = []\n",
    "\n",
    "    for number in l2:\n",
    "        if target - number in l1:\n",
    "            result.append((target - number, number))\n",
    "\n",
    "    return result"
   ]
  },
  {
   "cell_type": "code",
   "execution_count": 106,
   "id": "87f766d1-a43f-4525-9729-2f578882b71c",
   "metadata": {},
   "outputs": [
    {
     "name": "stdout",
     "output_type": "stream",
     "text": [
      "[(5, 2), (3, 4), (1, 6)]\n"
     ]
    }
   ],
   "source": [
    "arr1 = [1, 2, 3, 4, 5]\n",
    "arr2 = [2, 4, 6, 8, 10]\n",
    "target = 7\n",
    "\n",
    "print(find_pairs(arr1, arr2, target))"
   ]
  },
  {
   "cell_type": "markdown",
   "id": "3ba4af09-9ac0-46dd-b13c-61a5fb2558b8",
   "metadata": {},
   "source": [
    "### Q10 -> Longest Consecutive Increasing Sequence\n",
    "- An array of unsorted numbers is provided\n",
    "- Return the length of the longest sequence which is strictly icreasing and consecutive (each element is 1 greater than the previous element)"
   ]
  },
  {
   "cell_type": "code",
   "execution_count": 110,
   "id": "86834b68-e118-48a2-a312-40be0c260b6d",
   "metadata": {},
   "outputs": [],
   "source": [
    "def longest_consecutive_sequence(nums):\n",
    "    unique = set(nums)\n",
    "    longest_length = 0\n",
    "\n",
    "    for i in nums:\n",
    "        if i - 1 not in unique:\n",
    "            start = i\n",
    "            current_longest_length = 1\n",
    "\n",
    "            while start + 1 in unique:\n",
    "                start += 1\n",
    "                current_longest_length += 1\n",
    "\n",
    "            if current_longest_length > longest_length:\n",
    "                longest_length = current_longest_length\n",
    "\n",
    "    return longest_length"
   ]
  },
  {
   "cell_type": "code",
   "execution_count": 111,
   "id": "b8669fd3-c139-4a7b-b15f-12b18c515a64",
   "metadata": {},
   "outputs": [],
   "source": [
    "a = [100, 4, 200, 3, 2, 1, 5]"
   ]
  },
  {
   "cell_type": "code",
   "execution_count": 112,
   "id": "1fefb8d0-dc70-4e80-beed-ffb8cf02e332",
   "metadata": {},
   "outputs": [
    {
     "data": {
      "text/plain": [
       "5"
      ]
     },
     "execution_count": 112,
     "metadata": {},
     "output_type": "execute_result"
    }
   ],
   "source": [
    "longest_consecutive_sequence(a)"
   ]
  },
  {
   "cell_type": "code",
   "execution_count": null,
   "id": "477bbc12-a6e2-43b4-b3ee-76787e307dbe",
   "metadata": {},
   "outputs": [],
   "source": []
  }
 ],
 "metadata": {
  "kernelspec": {
   "display_name": "Python 3 (ipykernel)",
   "language": "python",
   "name": "python3"
  },
  "language_info": {
   "codemirror_mode": {
    "name": "ipython",
    "version": 3
   },
   "file_extension": ".py",
   "mimetype": "text/x-python",
   "name": "python",
   "nbconvert_exporter": "python",
   "pygments_lexer": "ipython3",
   "version": "3.11.9"
  }
 },
 "nbformat": 4,
 "nbformat_minor": 5
}
