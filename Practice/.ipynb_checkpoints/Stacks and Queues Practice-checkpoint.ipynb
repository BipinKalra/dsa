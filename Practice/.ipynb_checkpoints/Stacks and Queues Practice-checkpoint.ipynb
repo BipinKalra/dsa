{
 "cells": [
  {
   "cell_type": "code",
   "execution_count": 11,
   "id": "2a4a53f1-72dc-4ebe-bbf5-7ff06791489d",
   "metadata": {},
   "outputs": [],
   "source": [
    "class Node:\n",
    "    def __init__(self, value):\n",
    "        self.value = value\n",
    "        self.next = None\n",
    "\n",
    "class Stack:\n",
    "    def __init__(self, value):\n",
    "        new_node = Node(value)\n",
    "        self.top = new_node\n",
    "        self.height = 1\n",
    "\n",
    "    def empty_stack(self):\n",
    "        self.top = None\n",
    "        self.height = 0\n",
    "\n",
    "    def print_stack(self):\n",
    "        temp = self.top\n",
    "\n",
    "        while temp is not None:\n",
    "            print(temp.value)\n",
    "            temp = temp.next\n",
    "\n",
    "    def push(self, value):\n",
    "        new_node = Node(value)\n",
    "\n",
    "        new_node.next = self.top\n",
    "        self.top = new_node\n",
    "\n",
    "        self.height += 1\n",
    "\n",
    "        return True\n",
    "\n",
    "    def pop(self):\n",
    "        if self.height == 0:\n",
    "            return None\n",
    "        \n",
    "        temp = self.top\n",
    "\n",
    "        self.top = self.top.next\n",
    "        temp.next = None\n",
    "\n",
    "        self.height -= 1\n",
    "\n",
    "        return temp"
   ]
  },
  {
   "cell_type": "code",
   "execution_count": 12,
   "id": "64772717-85b4-43c8-b6cf-3362e56e69c6",
   "metadata": {},
   "outputs": [],
   "source": [
    "s = Stack(10)"
   ]
  },
  {
   "cell_type": "code",
   "execution_count": 30,
   "id": "8c9b705c-f0c6-44c8-982f-e5354e4b5ac2",
   "metadata": {},
   "outputs": [],
   "source": [
    "class Node:\n",
    "    def __init__(self, value):\n",
    "        self.value = value\n",
    "        self.next = None\n",
    "\n",
    "class Queue:\n",
    "    def __init__(self, value):\n",
    "        new_node = Node(value)\n",
    "\n",
    "        self.first = new_node\n",
    "        self.last = new_node\n",
    "        self.length = 1\n",
    "\n",
    "    def empty_queue(self):\n",
    "        self.first, self.last = None, None\n",
    "        self.length = 0\n",
    "\n",
    "    def print_queue(self):\n",
    "        temp = self.first\n",
    "\n",
    "        while temp is not None:\n",
    "            print(temp.value, end = \" \")\n",
    "            temp = temp.next\n",
    "\n",
    "    def enqueue(self, value):\n",
    "        new_node = Node(value)\n",
    "\n",
    "        if self.length == 0:\n",
    "            self.first = new_node\n",
    "            self.last = new_node\n",
    "        else:\n",
    "            self.last.next = new_node\n",
    "            self.last = new_node\n",
    "\n",
    "        self.length += 1\n",
    "\n",
    "        return True\n",
    "\n",
    "    def dequeue(self):\n",
    "        if self.length == 0:\n",
    "            return None\n",
    "            \n",
    "        temp = self.first\n",
    "\n",
    "        if self.length == 1:\n",
    "            self.first = None\n",
    "            self.last = None\n",
    "\n",
    "            self.length -= 1\n",
    "\n",
    "            return temp, temp.value\n",
    "\n",
    "        self.first = self.first.next\n",
    "        temp.next = None\n",
    "\n",
    "        self.length -= 1\n",
    "\n",
    "        return temp, temp.value"
   ]
  },
  {
   "cell_type": "code",
   "execution_count": 31,
   "id": "979315bd-1952-4250-8cde-8c751944c9dc",
   "metadata": {},
   "outputs": [
    {
     "data": {
      "text/plain": [
       "True"
      ]
     },
     "execution_count": 31,
     "metadata": {},
     "output_type": "execute_result"
    }
   ],
   "source": [
    "q = Queue(10)\n",
    "q.enqueue(20)\n",
    "q.enqueue(30)\n",
    "q.enqueue(40)\n",
    "q.enqueue(50)"
   ]
  },
  {
   "cell_type": "markdown",
   "id": "60b15592-bfcd-4972-9ae0-413e4e979ab0",
   "metadata": {},
   "source": [
    "### Q1 -> Implement Stacks using a list"
   ]
  },
  {
   "cell_type": "code",
   "execution_count": 47,
   "id": "39c69981-160b-46aa-befd-5d598c58e2ef",
   "metadata": {},
   "outputs": [],
   "source": [
    "class Stack:\n",
    "    def __init__(self):\n",
    "        self.stack_list = []\n",
    "        \n",
    "    def is_empty(self):\n",
    "        return len(self.stack_list) == 0\n",
    "\n",
    "    def print_stack(self):\n",
    "        for i in range(len(self.stack_list) - 1, -1, -1):\n",
    "            print(self.stack_list[i])\n",
    "            \n",
    "    def push(self, value):\n",
    "        self.stack_list.append(value)\n",
    "        \n",
    "        return True\n",
    "\n",
    "    def peek(self):\n",
    "        if self.is_empty():\n",
    "            return None\n",
    "        else:\n",
    "            return self.stack_list[-1]\n",
    "\n",
    "    def size(self):\n",
    "        return len(self.stack_list)\n",
    "\n",
    "    def pop(self):\n",
    "        return self.stack_list.pop() if len(self.stack_list) != 0 else None"
   ]
  },
  {
   "cell_type": "markdown",
   "id": "c8b0a064-d84f-4a61-a724-add3b51984f0",
   "metadata": {},
   "source": [
    "### Q2 -> Balance Paranthesis\n",
    "- Given a string which contains paranthesis, return True if they are balanced\n"
   ]
  },
  {
   "cell_type": "code",
   "execution_count": 50,
   "id": "9bcc67bf-02dd-4182-837f-2ce99d2d93dc",
   "metadata": {},
   "outputs": [],
   "source": [
    "def balanced_paranthesis(string):\n",
    "    stack = Stack()\n",
    "\n",
    "    for i in string:\n",
    "        if i == \")\" and stack.peek() != \"(\":\n",
    "            return False\n",
    "        elif i == \")\" and stack.peek() == \"(\":\n",
    "            stack.pop()\n",
    "        elif i == \"(\":\n",
    "            stack.push(\"(\")\n",
    "\n",
    "    return True if stack.size() == 0 else False"
   ]
  },
  {
   "cell_type": "code",
   "execution_count": 51,
   "id": "fd9195f0-8eae-4a4d-a575-bab996da78d1",
   "metadata": {},
   "outputs": [
    {
     "ename": "AttributeError",
     "evalue": "'Stack' object has no attribute 'is_empty'",
     "output_type": "error",
     "traceback": [
      "\u001b[0;31m---------------------------------------------------------------------------\u001b[0m",
      "\u001b[0;31mAttributeError\u001b[0m                            Traceback (most recent call last)",
      "Cell \u001b[0;32mIn[51], line 1\u001b[0m\n\u001b[0;32m----> 1\u001b[0m \u001b[43mbalanced_paranthesis\u001b[49m\u001b[43m(\u001b[49m\u001b[38;5;124;43m\"\u001b[39;49m\u001b[38;5;124;43m((()))\u001b[39;49m\u001b[38;5;124;43m\"\u001b[39;49m\u001b[43m)\u001b[49m\n",
      "Cell \u001b[0;32mIn[50], line 5\u001b[0m, in \u001b[0;36mbalanced_paranthesis\u001b[0;34m(string)\u001b[0m\n\u001b[1;32m      2\u001b[0m stack \u001b[38;5;241m=\u001b[39m Stack()\n\u001b[1;32m      4\u001b[0m \u001b[38;5;28;01mfor\u001b[39;00m i \u001b[38;5;129;01min\u001b[39;00m string:\n\u001b[0;32m----> 5\u001b[0m     \u001b[38;5;28;01mif\u001b[39;00m i \u001b[38;5;241m==\u001b[39m \u001b[38;5;124m\"\u001b[39m\u001b[38;5;124m)\u001b[39m\u001b[38;5;124m\"\u001b[39m \u001b[38;5;129;01mand\u001b[39;00m \u001b[43mstack\u001b[49m\u001b[38;5;241;43m.\u001b[39;49m\u001b[43mpeek\u001b[49m\u001b[43m(\u001b[49m\u001b[43m)\u001b[49m \u001b[38;5;241m!=\u001b[39m \u001b[38;5;124m\"\u001b[39m\u001b[38;5;124m(\u001b[39m\u001b[38;5;124m\"\u001b[39m:\n\u001b[1;32m      6\u001b[0m         \u001b[38;5;28;01mreturn\u001b[39;00m \u001b[38;5;28;01mFalse\u001b[39;00m\n\u001b[1;32m      7\u001b[0m     \u001b[38;5;28;01melif\u001b[39;00m i \u001b[38;5;241m==\u001b[39m \u001b[38;5;124m\"\u001b[39m\u001b[38;5;124m)\u001b[39m\u001b[38;5;124m\"\u001b[39m \u001b[38;5;129;01mand\u001b[39;00m stack\u001b[38;5;241m.\u001b[39mpeek() \u001b[38;5;241m==\u001b[39m \u001b[38;5;124m\"\u001b[39m\u001b[38;5;124m(\u001b[39m\u001b[38;5;124m\"\u001b[39m:\n",
      "Cell \u001b[0;32mIn[47], line 15\u001b[0m, in \u001b[0;36mStack.peek\u001b[0;34m(self)\u001b[0m\n\u001b[1;32m     14\u001b[0m \u001b[38;5;28;01mdef\u001b[39;00m \u001b[38;5;21mpeek\u001b[39m(\u001b[38;5;28mself\u001b[39m):\n\u001b[0;32m---> 15\u001b[0m     \u001b[38;5;28;01mif\u001b[39;00m \u001b[38;5;28;43mself\u001b[39;49m\u001b[38;5;241;43m.\u001b[39;49m\u001b[43mis_empty\u001b[49m():\n\u001b[1;32m     16\u001b[0m         \u001b[38;5;28;01mreturn\u001b[39;00m \u001b[38;5;28;01mNone\u001b[39;00m\n\u001b[1;32m     17\u001b[0m     \u001b[38;5;28;01melse\u001b[39;00m:\n",
      "\u001b[0;31mAttributeError\u001b[0m: 'Stack' object has no attribute 'is_empty'"
     ]
    }
   ],
   "source": [
    "balanced_paranthesis(\"((()))\")"
   ]
  },
  {
   "cell_type": "code",
   "execution_count": null,
   "id": "ccaf5347-f998-4d89-9f27-328e100c940e",
   "metadata": {},
   "outputs": [],
   "source": []
  }
 ],
 "metadata": {
  "kernelspec": {
   "display_name": "Python 3 (ipykernel)",
   "language": "python",
   "name": "python3"
  },
  "language_info": {
   "codemirror_mode": {
    "name": "ipython",
    "version": 3
   },
   "file_extension": ".py",
   "mimetype": "text/x-python",
   "name": "python",
   "nbconvert_exporter": "python",
   "pygments_lexer": "ipython3",
   "version": "3.11.9"
  }
 },
 "nbformat": 4,
 "nbformat_minor": 5
}
