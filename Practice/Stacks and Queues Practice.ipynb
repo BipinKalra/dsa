{
 "cells": [
  {
   "cell_type": "code",
   "execution_count": 11,
   "id": "2a4a53f1-72dc-4ebe-bbf5-7ff06791489d",
   "metadata": {},
   "outputs": [],
   "source": [
    "class Node:\n",
    "    def __init__(self, value):\n",
    "        self.value = value\n",
    "        self.next = None\n",
    "\n",
    "class Stack:\n",
    "    def __init__(self, value):\n",
    "        new_node = Node(value)\n",
    "        self.top = new_node\n",
    "        self.height = 1\n",
    "\n",
    "    def empty_stack(self):\n",
    "        self.top = None\n",
    "        self.height = 0\n",
    "\n",
    "    def print_stack(self):\n",
    "        temp = self.top\n",
    "\n",
    "        while temp is not None:\n",
    "            print(temp.value)\n",
    "            temp = temp.next\n",
    "\n",
    "    def push(self, value):\n",
    "        new_node = Node(value)\n",
    "\n",
    "        new_node.next = self.top\n",
    "        self.top = new_node\n",
    "\n",
    "        self.height += 1\n",
    "\n",
    "        return True\n",
    "\n",
    "    def pop(self):\n",
    "        if self.height == 0:\n",
    "            return None\n",
    "        \n",
    "        temp = self.top\n",
    "\n",
    "        self.top = self.top.next\n",
    "        temp.next = None\n",
    "\n",
    "        self.height -= 1\n",
    "\n",
    "        return temp"
   ]
  },
  {
   "cell_type": "code",
   "execution_count": 12,
   "id": "64772717-85b4-43c8-b6cf-3362e56e69c6",
   "metadata": {},
   "outputs": [],
   "source": [
    "s = Stack(10)"
   ]
  },
  {
   "cell_type": "code",
   "execution_count": 30,
   "id": "8c9b705c-f0c6-44c8-982f-e5354e4b5ac2",
   "metadata": {},
   "outputs": [],
   "source": [
    "class Node:\n",
    "    def __init__(self, value):\n",
    "        self.value = value\n",
    "        self.next = None\n",
    "\n",
    "class Queue:\n",
    "    def __init__(self, value):\n",
    "        new_node = Node(value)\n",
    "\n",
    "        self.first = new_node\n",
    "        self.last = new_node\n",
    "        self.length = 1\n",
    "\n",
    "    def empty_queue(self):\n",
    "        self.first, self.last = None, None\n",
    "        self.length = 0\n",
    "\n",
    "    def print_queue(self):\n",
    "        temp = self.first\n",
    "\n",
    "        while temp is not None:\n",
    "            print(temp.value, end = \" \")\n",
    "            temp = temp.next\n",
    "\n",
    "    def enqueue(self, value):\n",
    "        new_node = Node(value)\n",
    "\n",
    "        if self.length == 0:\n",
    "            self.first = new_node\n",
    "            self.last = new_node\n",
    "        else:\n",
    "            self.last.next = new_node\n",
    "            self.last = new_node\n",
    "\n",
    "        self.length += 1\n",
    "\n",
    "        return True\n",
    "\n",
    "    def dequeue(self):\n",
    "        if self.length == 0:\n",
    "            return None\n",
    "            \n",
    "        temp = self.first\n",
    "\n",
    "        if self.length == 1:\n",
    "            self.first = None\n",
    "            self.last = None\n",
    "\n",
    "            self.length -= 1\n",
    "\n",
    "            return temp, temp.value\n",
    "\n",
    "        self.first = self.first.next\n",
    "        temp.next = None\n",
    "\n",
    "        self.length -= 1\n",
    "\n",
    "        return temp, temp.value"
   ]
  },
  {
   "cell_type": "code",
   "execution_count": 31,
   "id": "979315bd-1952-4250-8cde-8c751944c9dc",
   "metadata": {},
   "outputs": [
    {
     "data": {
      "text/plain": [
       "True"
      ]
     },
     "execution_count": 31,
     "metadata": {},
     "output_type": "execute_result"
    }
   ],
   "source": [
    "q = Queue(10)\n",
    "q.enqueue(20)\n",
    "q.enqueue(30)\n",
    "q.enqueue(40)\n",
    "q.enqueue(50)"
   ]
  },
  {
   "cell_type": "markdown",
   "id": "60b15592-bfcd-4972-9ae0-413e4e979ab0",
   "metadata": {},
   "source": [
    "### Q1 -> Implement Stacks using a list"
   ]
  },
  {
   "cell_type": "code",
   "execution_count": 52,
   "id": "39c69981-160b-46aa-befd-5d598c58e2ef",
   "metadata": {},
   "outputs": [],
   "source": [
    "class Stack:\n",
    "    def __init__(self):\n",
    "        self.stack_list = []\n",
    "        \n",
    "    def is_empty(self):\n",
    "        return len(self.stack_list) == 0\n",
    "\n",
    "    def print_stack(self):\n",
    "        for i in range(len(self.stack_list) - 1, -1, -1):\n",
    "            print(self.stack_list[i])\n",
    "            \n",
    "    def push(self, value):\n",
    "        self.stack_list.append(value)\n",
    "        \n",
    "        return True\n",
    "\n",
    "    def peek(self):\n",
    "        if self.is_empty():\n",
    "            return None\n",
    "        else:\n",
    "            return self.stack_list[-1]\n",
    "\n",
    "    def size(self):\n",
    "        return len(self.stack_list)\n",
    "\n",
    "    def pop(self):\n",
    "        return self.stack_list.pop() if len(self.stack_list) != 0 else None"
   ]
  },
  {
   "cell_type": "markdown",
   "id": "c8b0a064-d84f-4a61-a724-add3b51984f0",
   "metadata": {},
   "source": [
    "### Q2 -> Balance Paranthesis\n",
    "- Given a string which contains paranthesis, return True if they are balanced\n"
   ]
  },
  {
   "cell_type": "code",
   "execution_count": 53,
   "id": "9bcc67bf-02dd-4182-837f-2ce99d2d93dc",
   "metadata": {},
   "outputs": [],
   "source": [
    "def balanced_paranthesis(string):\n",
    "    stack = Stack()\n",
    "\n",
    "    for i in string:\n",
    "        if i == \")\" and stack.peek() != \"(\":\n",
    "            return False\n",
    "        elif i == \")\" and stack.peek() == \"(\":\n",
    "            stack.pop()\n",
    "        elif i == \"(\":\n",
    "            stack.push(\"(\")\n",
    "\n",
    "    return True if stack.size() == 0 else False"
   ]
  },
  {
   "cell_type": "markdown",
   "id": "b2a5ed40-ca82-4c13-a19f-c71c8a99d56d",
   "metadata": {},
   "source": [
    "### Q3 -> Sort Stack\n",
    "- Sort the elements in a stack using one additional stack"
   ]
  },
  {
   "cell_type": "code",
   "execution_count": 59,
   "id": "fcf42bb2-ef13-4e1d-92cb-eed609541bdf",
   "metadata": {},
   "outputs": [],
   "source": [
    "def sort_stack(stack):\n",
    "    sorted_stack = Stack()\n",
    "\n",
    "    while not stack.is_empty():\n",
    "        temp = stack.pop()\n",
    "\n",
    "        while (not sorted_stack.is_empty()) and temp < sorted_stack.peek():\n",
    "            temp2 = sorted_stack.pop()\n",
    "            stack.push(temp2)\n",
    "\n",
    "        sorted_stack.push(temp)\n",
    "\n",
    "    while not sorted_stack.is_empty():\n",
    "        temp = sorted_stack.pop()\n",
    "        stack.push(temp)\n",
    "\n",
    "    return stack"
   ]
  },
  {
   "cell_type": "code",
   "execution_count": 60,
   "id": "4122c4a4-3886-4e3a-8099-bddcae2945d2",
   "metadata": {},
   "outputs": [
    {
     "data": {
      "text/plain": [
       "True"
      ]
     },
     "execution_count": 60,
     "metadata": {},
     "output_type": "execute_result"
    }
   ],
   "source": [
    "my_stack = Stack()\n",
    "my_stack.push(3)\n",
    "my_stack.push(1)\n",
    "my_stack.push(5)\n",
    "my_stack.push(4)\n",
    "my_stack.push(2)"
   ]
  },
  {
   "cell_type": "code",
   "execution_count": 62,
   "id": "3a8cfa8a-9045-4c1c-81cd-9447f7738acb",
   "metadata": {},
   "outputs": [],
   "source": [
    "result = sort_stack(my_stack)"
   ]
  },
  {
   "cell_type": "code",
   "execution_count": 63,
   "id": "b4bc92c1-7bff-42ea-a5ab-e541fbe13780",
   "metadata": {},
   "outputs": [
    {
     "data": {
      "text/plain": [
       "[5, 4, 3, 2, 1]"
      ]
     },
     "execution_count": 63,
     "metadata": {},
     "output_type": "execute_result"
    }
   ],
   "source": [
    "result.stack_list"
   ]
  },
  {
   "cell_type": "code",
   "execution_count": 64,
   "id": "f562a512-4489-4526-b0ee-57af5efc12e9",
   "metadata": {},
   "outputs": [
    {
     "name": "stdout",
     "output_type": "stream",
     "text": [
      "1\n",
      "2\n",
      "3\n",
      "4\n",
      "5\n"
     ]
    }
   ],
   "source": [
    "result.print_stack()"
   ]
  },
  {
   "cell_type": "code",
   "execution_count": null,
   "id": "03fba888-32fd-4506-8ffe-7e5f9dd7e2fe",
   "metadata": {},
   "outputs": [],
   "source": []
  }
 ],
 "metadata": {
  "kernelspec": {
   "display_name": "Python 3 (ipykernel)",
   "language": "python",
   "name": "python3"
  },
  "language_info": {
   "codemirror_mode": {
    "name": "ipython",
    "version": 3
   },
   "file_extension": ".py",
   "mimetype": "text/x-python",
   "name": "python",
   "nbconvert_exporter": "python",
   "pygments_lexer": "ipython3",
   "version": "3.11.9"
  }
 },
 "nbformat": 4,
 "nbformat_minor": 5
}
