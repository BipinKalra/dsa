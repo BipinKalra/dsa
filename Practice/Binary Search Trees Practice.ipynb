{
 "cells": [
  {
   "cell_type": "code",
   "execution_count": 45,
   "id": "450abfa5-c746-49c1-8476-9be39b2020a2",
   "metadata": {},
   "outputs": [],
   "source": [
    "class Node:\n",
    "    def __init__(self, value):\n",
    "        self.value = value\n",
    "        self.left = None\n",
    "        self.right = None\n",
    "\n",
    "class BinarySearchTree:\n",
    "    def __init__(self):\n",
    "        self.root = None\n",
    "\n",
    "    def insert(self, value):\n",
    "        if self.root is None:\n",
    "            new_node = Node(value)\n",
    "            self.root = new_node\n",
    "\n",
    "            return True\n",
    "\n",
    "        current = self.root\n",
    "\n",
    "        while True:\n",
    "            if value == current.value:\n",
    "                return False\n",
    "            elif value < current.value:\n",
    "                new_node = Node(value)\n",
    "                \n",
    "                if current.left is None:\n",
    "                    current.left = new_node\n",
    "                    \n",
    "                    return True\n",
    "                    \n",
    "                current = current.left\n",
    "            else:\n",
    "                new_node = Node(value)\n",
    "\n",
    "                if current.right is None:\n",
    "                    current.right = new_node\n",
    "                    \n",
    "                    return True\n",
    "                    \n",
    "                current = current.right\n",
    "\n",
    "    def contains(self, value):\n",
    "        if self.root is None:\n",
    "            return False\n",
    "\n",
    "        current = self.root\n",
    "\n",
    "        while current is not None:\n",
    "            if value == current.value:\n",
    "                return True\n",
    "\n",
    "            if value < current.value:\n",
    "                current = current.left\n",
    "            else:\n",
    "                current = current.right\n",
    "\n",
    "        return False"
   ]
  },
  {
   "cell_type": "code",
   "execution_count": 46,
   "id": "c54afada-7f62-40b4-acbb-bbc90d94d53f",
   "metadata": {},
   "outputs": [],
   "source": [
    "bst = BinarySearchTree()"
   ]
  },
  {
   "cell_type": "code",
   "execution_count": 47,
   "id": "52cd3776-54e1-47de-91ec-48af31f9e987",
   "metadata": {},
   "outputs": [
    {
     "data": {
      "text/plain": [
       "True"
      ]
     },
     "execution_count": 47,
     "metadata": {},
     "output_type": "execute_result"
    }
   ],
   "source": [
    "bst.insert(5)\n",
    "bst.insert(3)\n",
    "bst.insert(4)\n",
    "bst.insert(2)\n",
    "bst.insert(6)\n",
    "bst.insert(1)"
   ]
  },
  {
   "cell_type": "code",
   "execution_count": 50,
   "id": "fcc6c585-2fea-42f7-a969-202dbeda79c5",
   "metadata": {},
   "outputs": [
    {
     "data": {
      "text/plain": [
       "False"
      ]
     },
     "execution_count": 50,
     "metadata": {},
     "output_type": "execute_result"
    }
   ],
   "source": [
    "bst.contains(8)"
   ]
  },
  {
   "cell_type": "code",
   "execution_count": null,
   "id": "c4ba62f0-79c0-4c05-99ed-738085a83c41",
   "metadata": {},
   "outputs": [],
   "source": []
  }
 ],
 "metadata": {
  "kernelspec": {
   "display_name": "Python 3 (ipykernel)",
   "language": "python",
   "name": "python3"
  },
  "language_info": {
   "codemirror_mode": {
    "name": "ipython",
    "version": 3
   },
   "file_extension": ".py",
   "mimetype": "text/x-python",
   "name": "python",
   "nbconvert_exporter": "python",
   "pygments_lexer": "ipython3",
   "version": "3.11.9"
  }
 },
 "nbformat": 4,
 "nbformat_minor": 5
}
