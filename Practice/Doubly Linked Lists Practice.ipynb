{
 "cells": [
  {
   "cell_type": "code",
   "execution_count": 43,
   "id": "d653f34b-90d4-4430-aa88-bf434ac98ec2",
   "metadata": {},
   "outputs": [],
   "source": [
    "class Node:\n",
    "    def __init__(self, value):\n",
    "        self.value = value\n",
    "        self.next = None\n",
    "        self.prev = None\n",
    "\n",
    "class DoublyLinkedList:\n",
    "    def __init__(self, value):\n",
    "        new_node = Node(value)\n",
    "        self.head = new_node\n",
    "        self.tail = new_node\n",
    "        self.length = 1\n",
    "\n",
    "    def empty_list(self):\n",
    "        self.head = None\n",
    "        self.tail = None\n",
    "        self.length = 0\n",
    "\n",
    "    def print_list(self):\n",
    "        temp = self.head\n",
    "\n",
    "        while temp is not None:\n",
    "            print(f\"{temp.value} -> \", end = \"\")\n",
    "            temp = temp.next\n",
    "            \n",
    "\n",
    "    def append(self, value):\n",
    "        new_node = Node(value)\n",
    "        \n",
    "        if self.length == 0:\n",
    "            self.head = new_node\n",
    "            self.tail = new_node\n",
    "        else:\n",
    "            self.tail.next = new_node\n",
    "            new_node.prev = self.tail\n",
    "            self.tail = new_node\n",
    "\n",
    "        self.length += 1\n",
    "\n",
    "        return True\n",
    "\n",
    "    def prepend(self, value):\n",
    "        new_node = Node(value)\n",
    "\n",
    "        if self.length == 0:\n",
    "            self.head = new_node\n",
    "            self.tail = new_node\n",
    "        else:\n",
    "            new_node.next = self.head\n",
    "            self.head.prev = new_node\n",
    "            self.head = new_node\n",
    "\n",
    "        self.length += 1\n",
    "\n",
    "        return True\n",
    "\n",
    "    def pop(self):\n",
    "        if self.length == 0:\n",
    "            return None\n",
    "        \n",
    "        temp = self.tail\n",
    "        \n",
    "        if self.length == 1:\n",
    "            self.tail = None\n",
    "            self.head = None\n",
    "            self.length -= 1\n",
    "\n",
    "            return temp\n",
    "\n",
    "        self.tail = self.tail.prev\n",
    "        self.tail.next = None\n",
    "        temp.prev = None\n",
    "\n",
    "        self.length -= 1\n",
    "\n",
    "        return temp\n",
    "\n",
    "    def pop_first(self):\n",
    "        if self.length == 0:\n",
    "            return None\n",
    "\n",
    "        temp = self.head\n",
    "\n",
    "        if self.length == 1:\n",
    "            self.head = None\n",
    "            self.tail = None\n",
    "            self.length -= 1\n",
    "\n",
    "            return temp\n",
    "\n",
    "        self.head = self.head.next\n",
    "        self.head.prev = None\n",
    "        temp.next = None\n",
    "\n",
    "        self.length -= 1\n",
    "\n",
    "        return temp\n",
    "\n",
    "    def get(self, index):\n",
    "        if index < 0 or index >= self.length:\n",
    "            return None\n",
    "\n",
    "        if index <= self.length // 2:\n",
    "            temp = self.head\n",
    "\n",
    "            for _ in range(index):\n",
    "                temp = temp.next\n",
    "        else:\n",
    "            temp = self.tail\n",
    "\n",
    "            for _ in range(self.length - index - 1):\n",
    "                temp = temp.prev\n",
    "\n",
    "        return temp\n",
    "\n",
    "    def set(self, index, value):\n",
    "        temp = self.get(index)\n",
    "\n",
    "        if not temp:\n",
    "            return False\n",
    "\n",
    "        temp.value = value\n",
    "\n",
    "        return True\n",
    "\n",
    "    def insert(self, index, value):\n",
    "        if index < 0 or index > self.length:\n",
    "            return False\n",
    "\n",
    "        if index == 0:\n",
    "            return self.prepend(value)\n",
    "\n",
    "        if index == self.length:\n",
    "            return self.append(value)\n",
    "\n",
    "        previous = self.get(index - 1)\n",
    "        new_node = Node(value)\n",
    "\n",
    "        new_node.next = previous.next\n",
    "        new_node.prev = previous\n",
    "        previous.next = new_node\n",
    "        new_node.next.prev = new_node\n",
    "\n",
    "        self.length += 1\n",
    "\n",
    "        return True\n",
    "\n",
    "    def remove(self, index):\n",
    "        if index < 0 or index >= self.length:\n",
    "            return None\n",
    "\n",
    "        if index == 0:\n",
    "            return self.pop_first()\n",
    "\n",
    "        if index == self.length - 1:\n",
    "            return self.pop()\n",
    "\n",
    "        temp = self.get(index)\n",
    "\n",
    "        temp.prev.next = temp.next\n",
    "        temp.next.prev = temp.prev\n",
    "        temp.next, temp.prev = None, None\n",
    "\n",
    "        return temp"
   ]
  },
  {
   "cell_type": "code",
   "execution_count": 44,
   "id": "8a7579c6-1fa5-4d1d-9185-0a7ee1c5ba0f",
   "metadata": {},
   "outputs": [
    {
     "data": {
      "text/plain": [
       "True"
      ]
     },
     "execution_count": 44,
     "metadata": {},
     "output_type": "execute_result"
    }
   ],
   "source": [
    "d = DoublyLinkedList(10)\n",
    "d.append(20)\n",
    "d.append(30)\n",
    "d.append(40)\n",
    "d.append(50)\n",
    "d.append(60)"
   ]
  },
  {
   "cell_type": "markdown",
   "id": "b3196d96-eb1a-4576-a8a1-989106f23703",
   "metadata": {},
   "source": [
    "### Q1 -> Swap first and last\n",
    "- Swap the first and last nodes' values"
   ]
  },
  {
   "cell_type": "code",
   "execution_count": 51,
   "id": "16ac666d-9287-4cd7-be10-cab7d84d6f5a",
   "metadata": {},
   "outputs": [],
   "source": [
    "def swap_first_last(d):\n",
    "    if d.length == 0:\n",
    "        return d\n",
    "        \n",
    "    d.head.value, d.tail.value = d.tail.value, d.head.value\n",
    "\n",
    "    return d"
   ]
  },
  {
   "cell_type": "code",
   "execution_count": 52,
   "id": "977ef990-4b16-497a-b5ca-f4fee2f9e255",
   "metadata": {},
   "outputs": [
    {
     "data": {
      "text/plain": [
       "True"
      ]
     },
     "execution_count": 52,
     "metadata": {},
     "output_type": "execute_result"
    }
   ],
   "source": [
    "d = DoublyLinkedList(10)\n",
    "d.append(20)\n",
    "d.append(30)\n",
    "d.append(40)\n",
    "d.append(50)\n",
    "d.append(60)"
   ]
  },
  {
   "cell_type": "code",
   "execution_count": 54,
   "id": "bd200451-7aca-4a73-accb-bbdfe93787bc",
   "metadata": {},
   "outputs": [],
   "source": [
    "result = swap_first_last(d)"
   ]
  },
  {
   "cell_type": "code",
   "execution_count": 56,
   "id": "46dbe211-73fe-42d7-be99-36c95e976f56",
   "metadata": {},
   "outputs": [
    {
     "name": "stdout",
     "output_type": "stream",
     "text": [
      "60 -> 20 -> 30 -> 40 -> 50 -> 10 -> "
     ]
    }
   ],
   "source": [
    "result.print_list()"
   ]
  },
  {
   "cell_type": "markdown",
   "id": "4c78e4b2-6905-44e7-93c2-cfc98a7fcbbc",
   "metadata": {},
   "source": [
    "### Q2 -> Reverse\n",
    "- Reverse all the pointers in the linked list in place"
   ]
  },
  {
   "cell_type": "code",
   "execution_count": 80,
   "id": "761b509e-e2e3-4c14-842f-0b6a61873698",
   "metadata": {},
   "outputs": [],
   "source": [
    "def reverse(d):\n",
    "    if d.length <= 1:\n",
    "        return d\n",
    "\n",
    "    temp = d.head\n",
    "\n",
    "    while temp is not None:\n",
    "        temp.next, temp.prev = temp.prev, temp.next\n",
    "\n",
    "        temp = temp.prev\n",
    "\n",
    "    d.head, d.tail = d.tail, d.head\n",
    "\n",
    "    return d"
   ]
  },
  {
   "cell_type": "code",
   "execution_count": 81,
   "id": "c3790c5f-7ae0-4140-a657-394b2e274504",
   "metadata": {},
   "outputs": [
    {
     "data": {
      "text/plain": [
       "True"
      ]
     },
     "execution_count": 81,
     "metadata": {},
     "output_type": "execute_result"
    }
   ],
   "source": [
    "d = DoublyLinkedList(10)\n",
    "d.append(20)\n",
    "d.append(30)\n",
    "d.append(40)\n",
    "d.append(50)\n",
    "d.append(60)"
   ]
  },
  {
   "cell_type": "code",
   "execution_count": 82,
   "id": "15edeeb4-a696-45fb-bc11-90ecbe94e0be",
   "metadata": {},
   "outputs": [],
   "source": [
    "result = reverse(d)"
   ]
  },
  {
   "cell_type": "code",
   "execution_count": 83,
   "id": "015c728b-be4a-4419-9dab-a7d4d8133f96",
   "metadata": {},
   "outputs": [
    {
     "name": "stdout",
     "output_type": "stream",
     "text": [
      "60 -> 50 -> 40 -> 30 -> 20 -> 10 -> "
     ]
    }
   ],
   "source": [
    "result.print_list()"
   ]
  },
  {
   "cell_type": "markdown",
   "id": "f0d7bdfb-7add-43cf-9801-c4ecf86dda6e",
   "metadata": {},
   "source": [
    "### Q3 -> Palindrome Checker\n",
    "- Code to check is a doubly linked list is palindromic"
   ]
  },
  {
   "cell_type": "code",
   "execution_count": 100,
   "id": "d8765d37-7414-4003-bb9c-96361b14641d",
   "metadata": {},
   "outputs": [],
   "source": [
    "def palindrome_checker(d):\n",
    "    if d.length <= 1:\n",
    "        return True\n",
    "    \n",
    "    start = d.head\n",
    "    end = d.tail\n",
    "    is_palindrome = True\n",
    "\n",
    "    for i in range(d.length // 2 + 1):\n",
    "        if start.value != end.value:\n",
    "            return not is_palindrome\n",
    "\n",
    "        start = start.next\n",
    "        end = end.prev\n",
    "\n",
    "    return is_palindrome"
   ]
  },
  {
   "cell_type": "code",
   "execution_count": 101,
   "id": "fb93057e-a36e-447c-ba93-8bde08f8d33d",
   "metadata": {},
   "outputs": [
    {
     "data": {
      "text/plain": [
       "True"
      ]
     },
     "execution_count": 101,
     "metadata": {},
     "output_type": "execute_result"
    }
   ],
   "source": [
    "d = DoublyLinkedList(10)\n",
    "d.append(20)\n",
    "d.append(30)\n",
    "d.append(40)\n",
    "d.append(50)\n",
    "d.append(60)"
   ]
  },
  {
   "cell_type": "code",
   "execution_count": 102,
   "id": "590a0bf2-9069-428d-92d8-5c8282668b13",
   "metadata": {},
   "outputs": [
    {
     "data": {
      "text/plain": [
       "False"
      ]
     },
     "execution_count": 102,
     "metadata": {},
     "output_type": "execute_result"
    }
   ],
   "source": [
    "palindrome_checker(d)"
   ]
  },
  {
   "cell_type": "code",
   "execution_count": 103,
   "id": "f781a2f5-4f75-4a22-a922-b066ada669cb",
   "metadata": {},
   "outputs": [
    {
     "data": {
      "text/plain": [
       "True"
      ]
     },
     "execution_count": 103,
     "metadata": {},
     "output_type": "execute_result"
    }
   ],
   "source": [
    "d2 = DoublyLinkedList(10)\n",
    "d2.append(20)\n",
    "d2.append(30)\n",
    "d2.append(30)\n",
    "d2.append(20)\n",
    "d2.append(10)"
   ]
  },
  {
   "cell_type": "code",
   "execution_count": 104,
   "id": "5295f303-1f09-4ff1-938c-f0bdda114b90",
   "metadata": {},
   "outputs": [
    {
     "data": {
      "text/plain": [
       "True"
      ]
     },
     "execution_count": 104,
     "metadata": {},
     "output_type": "execute_result"
    }
   ],
   "source": [
    "palindrome_checker(d2)"
   ]
  },
  {
   "cell_type": "markdown",
   "id": "6a168705-c215-4b0e-bd92-480733732bcf",
   "metadata": {},
   "source": [
    "### Q4 -> Swap nodes in pairs\n",
    "- Swap Values of adjacent nodes in a doubly linked list\n",
    "- The values of first and second nodes should be swapped, similarly third and fourth should be swapped...\n",
    "- No tail pointer exists"
   ]
  },
  {
   "cell_type": "code",
   "execution_count": 143,
   "id": "67f2372a-2143-4dc4-8889-f548aee0817f",
   "metadata": {},
   "outputs": [],
   "source": [
    "def swap_pairs(d):\n",
    "    A = d.head\n",
    "    B = d.head.next\n",
    "\n",
    "    d.head = B\n",
    "    \n",
    "    while A is not None and B is not None:\n",
    "        A.next = B.next\n",
    "        B.next = A\n",
    "        B.prev = A.prev\n",
    "        A.prev = B\n",
    "        \n",
    "        if A.next:\n",
    "            A.next.prev = A\n",
    "    \n",
    "        if B.prev:\n",
    "            B.prev.next = B\n",
    "    \n",
    "        A = A.next\n",
    "\n",
    "        if A:\n",
    "            B = A.next\n",
    "\n",
    "    return d"
   ]
  },
  {
   "cell_type": "code",
   "execution_count": 144,
   "id": "efe68715-04e6-4d9b-9865-7c0de83f9961",
   "metadata": {},
   "outputs": [
    {
     "data": {
      "text/plain": [
       "True"
      ]
     },
     "execution_count": 144,
     "metadata": {},
     "output_type": "execute_result"
    }
   ],
   "source": [
    "d = DoublyLinkedList(10)\n",
    "d.append(20)\n",
    "d.append(30)\n",
    "d.append(40)\n",
    "d.append(50)\n",
    "d.append(60)"
   ]
  },
  {
   "cell_type": "code",
   "execution_count": 145,
   "id": "e03d06c6-8527-4bc0-9296-7bf8fe838504",
   "metadata": {},
   "outputs": [],
   "source": [
    "result = swap_pairs(d)"
   ]
  },
  {
   "cell_type": "code",
   "execution_count": 146,
   "id": "1b258bc9-7dd7-45e4-95d8-aab35265b81c",
   "metadata": {},
   "outputs": [
    {
     "name": "stdout",
     "output_type": "stream",
     "text": [
      "20 -> 10 -> 40 -> 30 -> 60 -> 50 -> "
     ]
    }
   ],
   "source": [
    "result.print_list()"
   ]
  },
  {
   "cell_type": "code",
   "execution_count": null,
   "id": "cae4cb9d-1f8b-4734-a68d-06dba50925a2",
   "metadata": {},
   "outputs": [],
   "source": []
  }
 ],
 "metadata": {
  "kernelspec": {
   "display_name": "Python 3 (ipykernel)",
   "language": "python",
   "name": "python3"
  },
  "language_info": {
   "codemirror_mode": {
    "name": "ipython",
    "version": 3
   },
   "file_extension": ".py",
   "mimetype": "text/x-python",
   "name": "python",
   "nbconvert_exporter": "python",
   "pygments_lexer": "ipython3",
   "version": "3.11.9"
  }
 },
 "nbformat": 4,
 "nbformat_minor": 5
}
