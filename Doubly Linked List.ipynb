{
 "cells": [
  {
   "cell_type": "code",
   "execution_count": 139,
   "id": "5a7c289c",
   "metadata": {},
   "outputs": [],
   "source": [
    "class Node:\n",
    "    def __init__(self, value):\n",
    "        self.value = value\n",
    "        self.next = None\n",
    "        self.prev = None\n",
    "        \n",
    "class DoublyLinkedList:\n",
    "    def __init__(self, value):\n",
    "        new_node = Node(value)\n",
    "        self.head = new_node\n",
    "        self.tail = new_node\n",
    "        self.length = 1\n",
    "        \n",
    "    def print_list(self):\n",
    "        temp = self.head\n",
    "        \n",
    "        while temp is not None:\n",
    "            print(temp.value)\n",
    "            temp = temp.next\n",
    "            \n",
    "    def append(self, value):\n",
    "        new_node = Node(value)\n",
    "        \n",
    "        if self.length != 0:\n",
    "            self.tail.next = new_node\n",
    "            new_node.prev = self.tail\n",
    "            self.tail = new_node\n",
    "        else:\n",
    "            self.tail = new_node\n",
    "            self.head = new_node\n",
    "        \n",
    "        self.length += 1\n",
    "        \n",
    "        return True\n",
    "    \n",
    "    def prepend(self, value):\n",
    "        new_node = Node(value)\n",
    "        \n",
    "        if self.length != 0:\n",
    "            self.head.prev = new_node\n",
    "            new_node.next = self.head\n",
    "            self.head = new_node\n",
    "        else:\n",
    "            self.tail = new_node\n",
    "            self.head = new_node\n",
    "            \n",
    "        self.length += 1\n",
    "        \n",
    "        return True\n",
    "    \n",
    "    def pop(self):\n",
    "        if self.length == 0:\n",
    "            return None\n",
    "        \n",
    "        if self.length == 1:\n",
    "            temp = self.head\n",
    "            \n",
    "            self.head = None\n",
    "            self.tail = None\n",
    "            self.length = 0\n",
    "            \n",
    "            return temp\n",
    "        \n",
    "        temp = self.tail\n",
    "        self.tail = self.tail.prev\n",
    "        self.tail.next = None\n",
    "        temp.prev = None\n",
    "        \n",
    "        self.length -= 1\n",
    "        \n",
    "        return temp\n",
    "    \n",
    "    def pop_first(self):\n",
    "        if self.length == 0:\n",
    "            return None\n",
    "        \n",
    "        if self.length == 1:\n",
    "            temp = self.head\n",
    "            \n",
    "            self.head = None\n",
    "            self.tail = None\n",
    "            \n",
    "            return temp\n",
    "        \n",
    "        temp = self.head\n",
    "        self.head = self.head.next\n",
    "        self.head.prev = None\n",
    "        temp.next = None\n",
    "        \n",
    "        self.length -= 1\n",
    "        \n",
    "        return temp\n",
    "    \n",
    "    def get(self, index):\n",
    "        if index < 0 or index >= self.length:\n",
    "            return None\n",
    "        \n",
    "        temp = self.head\n",
    "        \n",
    "        if index < self.length / 2:\n",
    "            for _ in range(index):\n",
    "                temp = temp.next\n",
    "        else:\n",
    "            temp = self.tail\n",
    "            \n",
    "            for _ in range(self.length - 1, index, -1):\n",
    "                temp = temp.prev\n",
    "                \n",
    "        return temp\n",
    "    \n",
    "    def set_value(self, index, value):\n",
    "        temp = self.get(index)\n",
    "        \n",
    "        if temp:\n",
    "            temp.value = value\n",
    "            return True\n",
    "        \n",
    "        return False"
   ]
  },
  {
   "cell_type": "code",
   "execution_count": 140,
   "id": "54742c72",
   "metadata": {},
   "outputs": [],
   "source": [
    "dl = DoublyLinkedList(10)"
   ]
  },
  {
   "cell_type": "code",
   "execution_count": 141,
   "id": "17e9ce6b",
   "metadata": {},
   "outputs": [
    {
     "name": "stdout",
     "output_type": "stream",
     "text": [
      "10\n"
     ]
    }
   ],
   "source": [
    "dl.print_list()"
   ]
  },
  {
   "cell_type": "code",
   "execution_count": 142,
   "id": "57752d04",
   "metadata": {},
   "outputs": [
    {
     "data": {
      "text/plain": [
       "True"
      ]
     },
     "execution_count": 142,
     "metadata": {},
     "output_type": "execute_result"
    }
   ],
   "source": [
    "dl.append(20)\n",
    "dl.append(30)"
   ]
  },
  {
   "cell_type": "code",
   "execution_count": 143,
   "id": "d4f42189",
   "metadata": {},
   "outputs": [
    {
     "name": "stdout",
     "output_type": "stream",
     "text": [
      "10\n",
      "20\n",
      "30\n"
     ]
    }
   ],
   "source": [
    "dl.print_list()"
   ]
  },
  {
   "cell_type": "code",
   "execution_count": 144,
   "id": "d06dab6d",
   "metadata": {},
   "outputs": [
    {
     "data": {
      "text/plain": [
       "<__main__.Node at 0x7f85b04d4790>"
      ]
     },
     "execution_count": 144,
     "metadata": {},
     "output_type": "execute_result"
    }
   ],
   "source": [
    "dl.pop()"
   ]
  },
  {
   "cell_type": "code",
   "execution_count": 145,
   "id": "9c64abbb",
   "metadata": {},
   "outputs": [
    {
     "data": {
      "text/plain": [
       "<__main__.Node at 0x7f858004acd0>"
      ]
     },
     "execution_count": 145,
     "metadata": {},
     "output_type": "execute_result"
    }
   ],
   "source": [
    "dl.pop()"
   ]
  },
  {
   "cell_type": "code",
   "execution_count": 146,
   "id": "44417a0d",
   "metadata": {},
   "outputs": [
    {
     "data": {
      "text/plain": [
       "<__main__.Node at 0x7f85b04d48e0>"
      ]
     },
     "execution_count": 146,
     "metadata": {},
     "output_type": "execute_result"
    }
   ],
   "source": [
    "dl.pop()"
   ]
  },
  {
   "cell_type": "code",
   "execution_count": 147,
   "id": "47f5814b",
   "metadata": {},
   "outputs": [],
   "source": [
    "dl.pop()"
   ]
  },
  {
   "cell_type": "code",
   "execution_count": 148,
   "id": "f332f29c",
   "metadata": {},
   "outputs": [
    {
     "data": {
      "text/plain": [
       "True"
      ]
     },
     "execution_count": 148,
     "metadata": {},
     "output_type": "execute_result"
    }
   ],
   "source": [
    "dl.prepend(0)"
   ]
  },
  {
   "cell_type": "code",
   "execution_count": 149,
   "id": "ecf5e066",
   "metadata": {},
   "outputs": [
    {
     "name": "stdout",
     "output_type": "stream",
     "text": [
      "0\n"
     ]
    }
   ],
   "source": [
    "dl.print_list()"
   ]
  },
  {
   "cell_type": "code",
   "execution_count": 150,
   "id": "7a4077ba",
   "metadata": {},
   "outputs": [
    {
     "data": {
      "text/plain": [
       "True"
      ]
     },
     "execution_count": 150,
     "metadata": {},
     "output_type": "execute_result"
    }
   ],
   "source": [
    "dl.append(10)\n",
    "dl.append(20)\n",
    "dl.prepend(-10)"
   ]
  },
  {
   "cell_type": "code",
   "execution_count": 151,
   "id": "d54c51bf",
   "metadata": {},
   "outputs": [
    {
     "name": "stdout",
     "output_type": "stream",
     "text": [
      "-10\n",
      "0\n",
      "10\n",
      "20\n"
     ]
    }
   ],
   "source": [
    "dl.print_list()"
   ]
  },
  {
   "cell_type": "code",
   "execution_count": 152,
   "id": "3b757468",
   "metadata": {},
   "outputs": [
    {
     "data": {
      "text/plain": [
       "<__main__.Node at 0x7f858004a8b0>"
      ]
     },
     "execution_count": 152,
     "metadata": {},
     "output_type": "execute_result"
    }
   ],
   "source": [
    "dl.pop_first()"
   ]
  },
  {
   "cell_type": "code",
   "execution_count": 153,
   "id": "3228dba9",
   "metadata": {},
   "outputs": [
    {
     "name": "stdout",
     "output_type": "stream",
     "text": [
      "0\n",
      "10\n",
      "20\n"
     ]
    }
   ],
   "source": [
    "dl.print_list()"
   ]
  },
  {
   "cell_type": "code",
   "execution_count": 154,
   "id": "8c546e4d",
   "metadata": {},
   "outputs": [
    {
     "data": {
      "text/plain": [
       "True"
      ]
     },
     "execution_count": 154,
     "metadata": {},
     "output_type": "execute_result"
    }
   ],
   "source": [
    "dl.append(30)\n",
    "dl.append(40)"
   ]
  },
  {
   "cell_type": "code",
   "execution_count": 155,
   "id": "a05d7154",
   "metadata": {},
   "outputs": [
    {
     "name": "stdout",
     "output_type": "stream",
     "text": [
      "0\n",
      "10\n",
      "20\n",
      "30\n",
      "40\n"
     ]
    }
   ],
   "source": [
    "dl.print_list()"
   ]
  },
  {
   "cell_type": "code",
   "execution_count": 156,
   "id": "83817adc",
   "metadata": {},
   "outputs": [
    {
     "name": "stdout",
     "output_type": "stream",
     "text": [
      "<__main__.Node object at 0x7f858004afa0>\n"
     ]
    }
   ],
   "source": [
    "print(dl.get(1))"
   ]
  },
  {
   "cell_type": "code",
   "execution_count": 157,
   "id": "2f61069a",
   "metadata": {},
   "outputs": [
    {
     "name": "stdout",
     "output_type": "stream",
     "text": [
      "<__main__.Node object at 0x7f858004ad90>\n"
     ]
    }
   ],
   "source": [
    "print(dl.get(3))"
   ]
  },
  {
   "cell_type": "code",
   "execution_count": 158,
   "id": "870db4d4",
   "metadata": {},
   "outputs": [
    {
     "name": "stdout",
     "output_type": "stream",
     "text": [
      "0\n",
      "10\n",
      "20\n",
      "30\n",
      "40\n"
     ]
    }
   ],
   "source": [
    "dl.print_list()"
   ]
  },
  {
   "cell_type": "code",
   "execution_count": 159,
   "id": "fbacbc9e",
   "metadata": {},
   "outputs": [
    {
     "data": {
      "text/plain": [
       "True"
      ]
     },
     "execution_count": 159,
     "metadata": {},
     "output_type": "execute_result"
    }
   ],
   "source": [
    "dl.set_value(2, 200)"
   ]
  },
  {
   "cell_type": "code",
   "execution_count": 161,
   "id": "dc2c7b89",
   "metadata": {},
   "outputs": [
    {
     "name": "stdout",
     "output_type": "stream",
     "text": [
      "0\n",
      "10\n",
      "200\n",
      "30\n",
      "40\n"
     ]
    }
   ],
   "source": [
    "dl.print_list()"
   ]
  },
  {
   "cell_type": "code",
   "execution_count": 141,
   "id": "41360d57",
   "metadata": {},
   "outputs": [],
   "source": [
    "class Node:\n",
    "    def __init__(self, value):\n",
    "        self.value = value\n",
    "        self.next = None\n",
    "        self.prev = None\n",
    "        \n",
    "class DoublyLinkedList:\n",
    "    def __init__(self, value):\n",
    "        new_node = Node(value)\n",
    "        self.head = new_node\n",
    "        self.tail = new_node\n",
    "        self.length = 1\n",
    "        \n",
    "    def print_list(self):\n",
    "        temp = self.head\n",
    "        \n",
    "        while temp is not None:\n",
    "            print(temp.value)\n",
    "            temp = temp.next\n",
    "            \n",
    "    def append(self, value):\n",
    "        new_node = Node(value)\n",
    "        \n",
    "        if self.length != 0:\n",
    "            self.tail.next = new_node\n",
    "            new_node.prev = self.tail\n",
    "            self.tail = new_node\n",
    "        else:\n",
    "            self.tail = new_node\n",
    "            self.head = new_node\n",
    "        \n",
    "        self.length += 1\n",
    "        \n",
    "        return True\n",
    "    \n",
    "    def prepend(self, value):\n",
    "        new_node = Node(value)\n",
    "        \n",
    "        if self.length != 0:\n",
    "            self.head.prev = new_node\n",
    "            new_node.next = self.head\n",
    "            self.head = new_node\n",
    "        else:\n",
    "            self.tail = new_node\n",
    "            self.head = new_node\n",
    "            \n",
    "        self.length += 1\n",
    "        \n",
    "        return True\n",
    "    \n",
    "    def pop(self):\n",
    "        if self.length == 0:\n",
    "            return None\n",
    "        \n",
    "        if self.length == 1:\n",
    "            temp = self.head\n",
    "            \n",
    "            self.head = None\n",
    "            self.tail = None\n",
    "            self.length = 0\n",
    "            \n",
    "            return temp\n",
    "        \n",
    "        temp = self.tail\n",
    "        self.tail = self.tail.prev\n",
    "        self.tail.next = None\n",
    "        temp.prev = None\n",
    "        \n",
    "        self.length -= 1\n",
    "        \n",
    "        return temp\n",
    "    \n",
    "    def pop_first(self):\n",
    "        if self.length == 0:\n",
    "            return None\n",
    "        \n",
    "        if self.length == 1:\n",
    "            temp = self.head\n",
    "            \n",
    "            self.head = None\n",
    "            self.tail = None\n",
    "            \n",
    "            return temp\n",
    "        \n",
    "        temp = self.head\n",
    "        self.head = self.head.next\n",
    "        self.head.prev = None\n",
    "        temp.next = None\n",
    "        \n",
    "        self.length -= 1\n",
    "        \n",
    "        return temp\n",
    "    \n",
    "    def get(self, index):\n",
    "        if index < 0 or index >= self.length:\n",
    "            return None\n",
    "        \n",
    "        temp = self.head\n",
    "        \n",
    "        if index < self.length / 2:\n",
    "            for _ in range(index):\n",
    "                temp = temp.next\n",
    "        else:\n",
    "            temp = self.tail\n",
    "            \n",
    "            for _ in range(self.length - 1, index, -1):\n",
    "                temp = temp.prev\n",
    "                \n",
    "        return temp\n",
    "    \n",
    "    def set_value(self, index, value):\n",
    "        temp = self.get(index)\n",
    "        \n",
    "        if temp:\n",
    "            temp.value = value\n",
    "            return True\n",
    "        \n",
    "        return False\n",
    "    \n",
    "    def insert(self, index, value):\n",
    "        if index < 0 or index > self.length:\n",
    "            return False\n",
    "        \n",
    "        if index == 0:\n",
    "            return self.prepend(value)\n",
    "        \n",
    "        if index == self.length:\n",
    "            return self.append(value)\n",
    "\n",
    "        temp = self.get(index - 1)\n",
    "\n",
    "        new_node = Node(value)\n",
    "        \n",
    "        new_node.next = temp.next\n",
    "        new_node.prev = temp\n",
    "        temp.next = new_node\n",
    "        new_node.next.prev = new_node\n",
    "\n",
    "        self.length += 1\n",
    "\n",
    "        return True\n",
    "            \n",
    "    def remove(self, index):\n",
    "        if index < 0 or index >= self.length:\n",
    "            return None\n",
    "        \n",
    "        if index == 0:\n",
    "            return self.pop_first()\n",
    "        \n",
    "        if index == self.length - 1:\n",
    "            return self.pop()\n",
    "        \n",
    "        temp = self.get(index)\n",
    "        temp.prev.next = temp.next\n",
    "        temp.next.prev = temp.prev\n",
    "        \n",
    "        temp.next, temp.pev = None, None\n",
    "        \n",
    "        self.length -= 1\n",
    "        \n",
    "        return temp\n",
    "    \n",
    "    def reverse(self):\n",
    "        if self.length == 0:\n",
    "            return None\n",
    "            \n",
    "        temp = self.head\n",
    "        \n",
    "        while temp is not None:\n",
    "            s = temp.next\n",
    "            temp.next = temp.prev\n",
    "            temp.prev = s\n",
    "            \n",
    "            temp = temp.prev\n",
    "        \n",
    "        temp = self.head\n",
    "        self.head = self.tail\n",
    "        self.tail = temp\n",
    "        \n",
    "        return self\n",
    "\n",
    "    def is_palindrome(self):\n",
    "        if self.length <= 1:\n",
    "            return True\n",
    "            \n",
    "        front = self.head\n",
    "        back = self.tail\n",
    "        \n",
    "        for _ in range(self.length // 2 + 1):\n",
    "            if front.value != back.value:\n",
    "                return False\n",
    "                \n",
    "            front = front.next\n",
    "            back = back.prev\n",
    "            \n",
    "        return True\n",
    "    \n",
    "    def swap_pairs(self):\n",
    "        if self.length <= 1:\n",
    "            return self\n",
    "        \n",
    "        a = self.head\n",
    "        b = a.next\n",
    "        \n",
    "        self.head = b\n",
    "        \n",
    "        while a is not None and b is not None:\n",
    "            a.next = b.next\n",
    "            b.next = a\n",
    "            b.prev = a.prev\n",
    "            a.prev = b\n",
    "            \n",
    "            if b.prev:\n",
    "                b.prev.next = b\n",
    "            \n",
    "            if a.next:\n",
    "                a.next.prev = a\n",
    "            \n",
    "            a = a.next\n",
    "            \n",
    "            if a:\n",
    "                b = a.next\n",
    "            \n",
    "        return self"
   ]
  },
  {
   "cell_type": "code",
   "execution_count": 145,
   "id": "0c68c8ae",
   "metadata": {},
   "outputs": [
    {
     "data": {
      "text/plain": [
       "True"
      ]
     },
     "execution_count": 145,
     "metadata": {},
     "output_type": "execute_result"
    }
   ],
   "source": [
    "dl = DoublyLinkedList(1)\n",
    "dl.append(2)\n",
    "dl.append(3)\n",
    "dl.append(4)\n",
    "dl.append(5)\n",
    "dl.append(6)"
   ]
  },
  {
   "cell_type": "code",
   "execution_count": 146,
   "id": "0226a355",
   "metadata": {},
   "outputs": [],
   "source": [
    "swapped = dl.swap_pairs()"
   ]
  },
  {
   "cell_type": "code",
   "execution_count": 147,
   "id": "18fcd085",
   "metadata": {},
   "outputs": [
    {
     "name": "stdout",
     "output_type": "stream",
     "text": [
      "2\n",
      "1\n",
      "4\n",
      "3\n",
      "6\n",
      "5\n"
     ]
    }
   ],
   "source": [
    "swapped.print_list()"
   ]
  },
  {
   "cell_type": "code",
   "execution_count": 98,
   "id": "d40c62f2",
   "metadata": {},
   "outputs": [],
   "source": [
    "reversed_dl = dl.reverse()"
   ]
  },
  {
   "cell_type": "code",
   "execution_count": 37,
   "id": "cc662741",
   "metadata": {},
   "outputs": [
    {
     "name": "stdout",
     "output_type": "stream",
     "text": [
      "6\n",
      "5\n",
      "4\n",
      "3\n",
      "2\n",
      "1\n"
     ]
    }
   ],
   "source": [
    "reversed_dl.print_list()"
   ]
  },
  {
   "cell_type": "code",
   "execution_count": 55,
   "id": "a29a1408",
   "metadata": {},
   "outputs": [],
   "source": [
    "dl = DoublyLinkedList(1)"
   ]
  },
  {
   "cell_type": "code",
   "execution_count": 56,
   "id": "27799ee5",
   "metadata": {},
   "outputs": [
    {
     "data": {
      "text/plain": [
       "True"
      ]
     },
     "execution_count": 56,
     "metadata": {},
     "output_type": "execute_result"
    }
   ],
   "source": [
    "dl.append(2)\n",
    "dl.append(3)\n",
    "dl.append(3)\n",
    "dl.append(2)\n",
    "dl.append(1)"
   ]
  },
  {
   "cell_type": "code",
   "execution_count": 57,
   "id": "5f300e99",
   "metadata": {},
   "outputs": [
    {
     "name": "stdout",
     "output_type": "stream",
     "text": [
      "1\n",
      "2\n",
      "3\n",
      "3\n",
      "2\n",
      "1\n"
     ]
    }
   ],
   "source": [
    "dl.print_list()"
   ]
  },
  {
   "cell_type": "code",
   "execution_count": 58,
   "id": "5b399cb5",
   "metadata": {},
   "outputs": [
    {
     "data": {
      "text/plain": [
       "True"
      ]
     },
     "execution_count": 58,
     "metadata": {},
     "output_type": "execute_result"
    }
   ],
   "source": [
    "dl.is_palindrome()"
   ]
  },
  {
   "cell_type": "code",
   "execution_count": null,
   "id": "6e81a939",
   "metadata": {},
   "outputs": [],
   "source": []
  }
 ],
 "metadata": {
  "kernelspec": {
   "display_name": "Python 3 (ipykernel)",
   "language": "python",
   "name": "python3"
  },
  "language_info": {
   "codemirror_mode": {
    "name": "ipython",
    "version": 3
   },
   "file_extension": ".py",
   "mimetype": "text/x-python",
   "name": "python",
   "nbconvert_exporter": "python",
   "pygments_lexer": "ipython3",
   "version": "3.11.9"
  }
 },
 "nbformat": 4,
 "nbformat_minor": 5
}
