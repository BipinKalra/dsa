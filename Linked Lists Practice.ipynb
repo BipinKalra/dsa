{
 "cells": [
  {
   "cell_type": "markdown",
   "id": "f18ca413-4473-4347-ab85-d6557a54edfc",
   "metadata": {},
   "source": [
    "### Linked List Class"
   ]
  },
  {
   "cell_type": "code",
   "execution_count": 1,
   "id": "f75541e1-b6bd-4d72-833b-c5d4f873b0a7",
   "metadata": {},
   "outputs": [],
   "source": [
    "class Node:\n",
    "    def __init__(self, value):\n",
    "        self.value = value\n",
    "        self.next = None\n",
    "\n",
    "class LinkedList:\n",
    "    def __init__(self, value):\n",
    "        new_node = Node(value)\n",
    "        self.head = new_node\n",
    "        self.tail = new_node\n",
    "        self.length = 1\n",
    "\n",
    "    def empty_list(self):\n",
    "        self.head = None\n",
    "        self.tail = None\n",
    "        self.length = 0\n",
    "\n",
    "    def print_list(self):\n",
    "        temp = self.head\n",
    "\n",
    "        while temp is not None:\n",
    "            print(f\"{temp.value} -> \", end = \"\")\n",
    "            temp = temp.next\n",
    "\n",
    "    def append(self, value):\n",
    "        new_node = Node(value)\n",
    "\n",
    "        if self.length == 0:\n",
    "            self.head = new_node\n",
    "            self.tail = new_node\n",
    "        else:\n",
    "            self.tail.next = new_node\n",
    "            self.tail = new_node\n",
    "\n",
    "        self.length += 1\n",
    "\n",
    "        return True\n",
    "\n",
    "    def pop(self):\n",
    "        if self.length == 0:\n",
    "            return None\n",
    "\n",
    "        temp = self.head\n",
    "        \n",
    "        if self.length == 1:\n",
    "            self.head = None\n",
    "            self.tail = None\n",
    "            self.length = 0\n",
    "\n",
    "            return temp\n",
    "\n",
    "        while temp.next is not None:\n",
    "            prev = temp\n",
    "            temp = temp.next\n",
    "\n",
    "        prev.next = None\n",
    "        self.tail = prev\n",
    "        self.length -= 1\n",
    "\n",
    "        return temp\n",
    "\n",
    "    def prepend(self, value):\n",
    "        new_node = Node(value)\n",
    "        \n",
    "        if self.length == 0:\n",
    "            self.head = new_node\n",
    "            self.tail = new_node\n",
    "        else:\n",
    "            new_node.next = self.head\n",
    "            self.head = new_node\n",
    "\n",
    "        self.length += 1\n",
    "\n",
    "        return True\n",
    "\n",
    "    def pop_first(self):\n",
    "        if self.length == 0:\n",
    "            return None\n",
    "\n",
    "        temp = self.head\n",
    "        \n",
    "        if self.length == 1:\n",
    "            self.head = None\n",
    "            self.tail = None\n",
    "            self.length = 0\n",
    "\n",
    "            return temp\n",
    "\n",
    "        self.head = temp.next\n",
    "        temp.next = None\n",
    "\n",
    "        self.length -= 1\n",
    "\n",
    "        return temp\n",
    "\n",
    "    def get(self, index):\n",
    "        if index < 0 or index >= self.length:\n",
    "            return None\n",
    "\n",
    "        temp = self.head\n",
    "\n",
    "        for _ in range(index):\n",
    "            temp = temp.next\n",
    "\n",
    "        return temp\n",
    "\n",
    "    def set(self, index, new_value):\n",
    "        temp = self.get(index)\n",
    "\n",
    "        if not temp:\n",
    "            return False\n",
    "\n",
    "        temp.value = new_value\n",
    "\n",
    "        return True\n",
    "\n",
    "    def insert(self, index, value):\n",
    "        if index < 0 or index > self.length:\n",
    "            return False\n",
    "            \n",
    "        if index == 0:\n",
    "            return self.prepend(value)\n",
    "        elif index == self.length:\n",
    "            return self.append(value)\n",
    "\n",
    "        new_node = Node(value)\n",
    "        prev = self.get(index - 1)\n",
    "\n",
    "        new_node.next = prev.next\n",
    "        prev.next = new_node\n",
    "\n",
    "        self.length += 1\n",
    "\n",
    "        return True\n",
    "\n",
    "    def remove(self, index):\n",
    "        if index < 0 or index >= self.length:\n",
    "            return None\n",
    "\n",
    "        if index == 0:\n",
    "            return self.pop_first()\n",
    "\n",
    "        if index == self.length - 1:\n",
    "            return self.pop()\n",
    "\n",
    "        temp = self.get(index - 1)\n",
    "        removed = temp.next\n",
    "\n",
    "        temp.next = removed.next\n",
    "        removed.next = None\n",
    "\n",
    "        return removed\n",
    "\n",
    "    def reverse(self):\n",
    "        current = self.head\n",
    "        after = current.next\n",
    "        before = None\n",
    "\n",
    "        self.head, self.tail = self.tail, self.head\n",
    "\n",
    "        for _ in range(self.length):\n",
    "            after = current.next\n",
    "            current.next = before\n",
    "            before = current\n",
    "            current = after\n",
    "\n",
    "        return True"
   ]
  },
  {
   "cell_type": "code",
   "execution_count": 2,
   "id": "eaeafd4f-9983-4d24-a9b7-3bd12aa897ec",
   "metadata": {},
   "outputs": [],
   "source": [
    "l = LinkedList(1)"
   ]
  },
  {
   "cell_type": "code",
   "execution_count": 3,
   "id": "b0b17357-7f95-4928-ab60-1b64b8ab0b26",
   "metadata": {},
   "outputs": [
    {
     "data": {
      "text/plain": [
       "True"
      ]
     },
     "execution_count": 3,
     "metadata": {},
     "output_type": "execute_result"
    }
   ],
   "source": [
    "l.append(2)\n",
    "l.append(3)\n",
    "l.append(4)\n",
    "l.append(5)"
   ]
  },
  {
   "cell_type": "code",
   "execution_count": 4,
   "id": "256ab6ef-8f83-4920-912f-34b9092f5341",
   "metadata": {},
   "outputs": [
    {
     "name": "stdout",
     "output_type": "stream",
     "text": [
      "1 -> 2 -> 3 -> 4 -> 5 -> "
     ]
    }
   ],
   "source": [
    "l.print_list()"
   ]
  },
  {
   "cell_type": "code",
   "execution_count": 5,
   "id": "fc0e411f-6ba6-4e79-9f35-f52d5a262090",
   "metadata": {},
   "outputs": [
    {
     "name": "stdout",
     "output_type": "stream",
     "text": [
      "5 -> 4 -> 3 -> 2 -> 1 -> "
     ]
    }
   ],
   "source": [
    "l.reverse()\n",
    "l.print_list()"
   ]
  },
  {
   "cell_type": "markdown",
   "id": "67d608ea-1662-4281-8ad1-954dda97a304",
   "metadata": {},
   "source": [
    "### Q1 -> Find Middle Node\n",
    "- Length value not available\n",
    "- In case of even elements, first element of the second half"
   ]
  },
  {
   "cell_type": "code",
   "execution_count": 6,
   "id": "2df469be-435d-4632-bff3-a17bf41d9114",
   "metadata": {},
   "outputs": [],
   "source": [
    "def middle_element(l):\n",
    "    if l.head.next is None:\n",
    "        return self.head\n",
    "        \n",
    "    slow, fast = l.head, l.head\n",
    "\n",
    "    while fast.next is not None:\n",
    "        slow = slow.next\n",
    "        fast = fast.next.next\n",
    "\n",
    "        if fast == None:\n",
    "            break\n",
    "\n",
    "    return slow"
   ]
  },
  {
   "cell_type": "markdown",
   "id": "fd7c0efe-d60f-4f5a-9f8d-ce28556110dc",
   "metadata": {},
   "source": [
    "### Q2 -> Has Loop\n",
    "- Check if there is a loop inside a linked list\n",
    "- Return the starting point of that loop"
   ]
  },
  {
   "cell_type": "code",
   "execution_count": 7,
   "id": "a0bd63b0-5033-452b-9af3-66b808f48048",
   "metadata": {},
   "outputs": [],
   "source": [
    "def detect_loop(l):\n",
    "    slow, fast = l.head, l.head\n",
    "\n",
    "    while fast is not None and fast.next is not None:\n",
    "        slow = slow.next\n",
    "        fast = fast.next.next\n",
    "        met = False\n",
    "\n",
    "        if slow == fast:\n",
    "            met = True\n",
    "            break\n",
    "\n",
    "    return met        "
   ]
  },
  {
   "cell_type": "code",
   "execution_count": 8,
   "id": "edd84e58-ce4b-4bf5-94c3-56a12d10ba94",
   "metadata": {},
   "outputs": [
    {
     "name": "stdout",
     "output_type": "stream",
     "text": [
      "True\n"
     ]
    }
   ],
   "source": [
    "my_linked_list_1 = LinkedList(1)\n",
    "my_linked_list_1.append(2)\n",
    "my_linked_list_1.append(3)\n",
    "my_linked_list_1.append(4)\n",
    "my_linked_list_1.tail.next = my_linked_list_1.head\n",
    "print(detect_loop(my_linked_list_1))"
   ]
  },
  {
   "cell_type": "code",
   "execution_count": 9,
   "id": "295f97db-c846-4886-814f-51ff01a922e9",
   "metadata": {},
   "outputs": [
    {
     "name": "stdout",
     "output_type": "stream",
     "text": [
      "False\n"
     ]
    }
   ],
   "source": [
    "my_linked_list_2 = LinkedList(1)\n",
    "my_linked_list_2.append(2)\n",
    "my_linked_list_2.append(3)\n",
    "my_linked_list_2.append(4)\n",
    "print(detect_loop(my_linked_list_2))"
   ]
  },
  {
   "cell_type": "markdown",
   "id": "7325c319-8f21-42c0-892f-9fe8cbf3e49b",
   "metadata": {},
   "source": [
    "### Q3 -> Kth node from the end\n",
    "- Length is not available"
   ]
  },
  {
   "cell_type": "code",
   "execution_count": 10,
   "id": "ad7b2f80-f45e-4119-b3dd-4298589cb783",
   "metadata": {},
   "outputs": [],
   "source": [
    "def kth_from_end(l, k):\n",
    "    slow, fast = l.head, l.head\n",
    "\n",
    "    # Creates a gap of k elements between slow and fast\n",
    "    for _ in range(k-1):\n",
    "        if not fast.next:\n",
    "            return None\n",
    "\n",
    "        fast = fast.next\n",
    "\n",
    "    # When fast reaches the end, slow is k nodes behind which makes it k nodes from the end\n",
    "    while fast.next:\n",
    "        slow = slow.next\n",
    "        fast = fast.next\n",
    "\n",
    "    return slow, slow.value"
   ]
  },
  {
   "cell_type": "code",
   "execution_count": 11,
   "id": "6c1e3ee0-54f1-4556-8ff1-d3c592c65775",
   "metadata": {},
   "outputs": [
    {
     "data": {
      "text/plain": [
       "True"
      ]
     },
     "execution_count": 11,
     "metadata": {},
     "output_type": "execute_result"
    }
   ],
   "source": [
    "l = LinkedList(10)\n",
    "l.append(20)\n",
    "l.append(30)\n",
    "l.append(40)\n",
    "l.append(50)"
   ]
  },
  {
   "cell_type": "code",
   "execution_count": 12,
   "id": "cbd08459-3073-4744-8655-52469cbe3cd2",
   "metadata": {},
   "outputs": [
    {
     "data": {
      "text/plain": [
       "(<__main__.Node at 0x109be4c10>, 40)"
      ]
     },
     "execution_count": 12,
     "metadata": {},
     "output_type": "execute_result"
    }
   ],
   "source": [
    "kth_from_end(l, 2)"
   ]
  },
  {
   "cell_type": "code",
   "execution_count": 13,
   "id": "3c555123-c9f3-41e8-b572-445600d30ffd",
   "metadata": {},
   "outputs": [
    {
     "data": {
      "text/plain": [
       "True"
      ]
     },
     "execution_count": 13,
     "metadata": {},
     "output_type": "execute_result"
    }
   ],
   "source": [
    "l2 = LinkedList(10)\n",
    "l2.append(20)\n",
    "l2.append(30)\n",
    "l2.append(40)\n",
    "l2.append(50)\n",
    "l2.append(60)"
   ]
  },
  {
   "cell_type": "code",
   "execution_count": 14,
   "id": "ec8c383c-fc6c-4a6a-bec4-23cfeebd3885",
   "metadata": {},
   "outputs": [
    {
     "data": {
      "text/plain": [
       "(<__main__.Node at 0x109bea4d0>, 40)"
      ]
     },
     "execution_count": 14,
     "metadata": {},
     "output_type": "execute_result"
    }
   ],
   "source": [
    "kth_from_end(l2, 3)"
   ]
  },
  {
   "cell_type": "markdown",
   "id": "e148bbd4-ebaa-4208-a15f-81b791e1484c",
   "metadata": {},
   "source": [
    "### Q4 -> Partition List\n",
    "- All values less than a given number x should come before x\n",
    "- All bigger values should come after x\n",
    "- Initial order should be preserved"
   ]
  },
  {
   "cell_type": "code",
   "execution_count": 32,
   "id": "2fa2eb18-d9fa-4064-9ad2-53e2532ebfb3",
   "metadata": {},
   "outputs": [],
   "source": [
    "def partition_list(l, partition_number):\n",
    "    if l.head is None:\n",
    "        return None\n",
    "    \n",
    "    smaller = LinkedList(None)\n",
    "    larger = LinkedList(None)\n",
    "    smaller.empty_list()\n",
    "    larger.empty_list()\n",
    "    smaller_end = smaller.head\n",
    "\n",
    "    temp = l.head\n",
    "\n",
    "    while temp is not None:        \n",
    "        if temp.value < partition_number:\n",
    "            smaller.append(temp.value)\n",
    "            \n",
    "            if not smaller_end:\n",
    "                smaller_end = smaller.head\n",
    "            else:\n",
    "                smaller_end = smaller_end.next\n",
    "        else:\n",
    "            larger.append(temp.value)\n",
    "\n",
    "        temp = temp.next\n",
    "\n",
    "    smaller_end.next = larger.head\n",
    "    smaller.length += larger.length\n",
    "\n",
    "    return smaller"
   ]
  },
  {
   "cell_type": "code",
   "execution_count": 33,
   "id": "ce29062e-4752-48b8-bd0f-cdb084a2a1b7",
   "metadata": {},
   "outputs": [
    {
     "data": {
      "text/plain": [
       "True"
      ]
     },
     "execution_count": 33,
     "metadata": {},
     "output_type": "execute_result"
    }
   ],
   "source": [
    "l = LinkedList(5)\n",
    "l.append(4)\n",
    "l.append(2)\n",
    "l.append(10)\n",
    "l.append(1)\n",
    "l.append(3)\n",
    "l.append(0)"
   ]
  },
  {
   "cell_type": "code",
   "execution_count": 34,
   "id": "c2caf021-720b-4c72-a7aa-1bdad25acee4",
   "metadata": {},
   "outputs": [],
   "source": [
    "result = partition_list(l, 3)"
   ]
  },
  {
   "cell_type": "code",
   "execution_count": 35,
   "id": "d6dcec62-8693-4811-bf24-041e095f904d",
   "metadata": {},
   "outputs": [
    {
     "name": "stdout",
     "output_type": "stream",
     "text": [
      "2 -> 1 -> 0 -> 5 -> 4 -> 10 -> 3 -> "
     ]
    }
   ],
   "source": [
    "result.print_list()"
   ]
  },
  {
   "cell_type": "code",
   "execution_count": 56,
   "id": "a9b025d2-6367-45f2-97b6-ec7173cbf3db",
   "metadata": {},
   "outputs": [],
   "source": [
    "# Method 2\n",
    "# This does not require extra memory\n",
    "\n",
    "def partition_list_2(l, partition_value):\n",
    "    if l.head is None:\n",
    "        return None\n",
    "\n",
    "    smaller = Node(0)\n",
    "    larger = Node(0)\n",
    "\n",
    "    smaller_pointer = smaller\n",
    "    larger_pointer = larger\n",
    "\n",
    "    current = l.head\n",
    "\n",
    "    while current is not None:\n",
    "        if current.value < partition_value:\n",
    "            smaller_pointer.next = current\n",
    "            smaller_pointer = current\n",
    "        else:\n",
    "            larger_pointer.next = current\n",
    "            larger_pointer = current\n",
    "\n",
    "        current = current.next\n",
    "\n",
    "    smaller_pointer.next, larger_pointer.next = None, None\n",
    "    smaller_pointer.next = larger.next\n",
    "    l.head = smaller.next\n",
    "\n",
    "    return l"
   ]
  },
  {
   "cell_type": "code",
   "execution_count": 57,
   "id": "4114e429-a70e-476d-9ab4-ff92b0548f95",
   "metadata": {},
   "outputs": [
    {
     "data": {
      "text/plain": [
       "True"
      ]
     },
     "execution_count": 57,
     "metadata": {},
     "output_type": "execute_result"
    }
   ],
   "source": [
    "l = LinkedList(5)\n",
    "l.append(4)\n",
    "l.append(2)\n",
    "l.append(10)\n",
    "l.append(1)\n",
    "l.append(3)\n",
    "l.append(0)"
   ]
  },
  {
   "cell_type": "code",
   "execution_count": 58,
   "id": "0a382758-5688-4bd5-b416-3ef81ec431fa",
   "metadata": {},
   "outputs": [],
   "source": [
    "result = partition_list_2(l, 3)"
   ]
  },
  {
   "cell_type": "code",
   "execution_count": 59,
   "id": "a7965a68-e401-40f1-9dc5-c46bdbe0f1f8",
   "metadata": {},
   "outputs": [
    {
     "name": "stdout",
     "output_type": "stream",
     "text": [
      "2 -> 1 -> 0 -> 5 -> 4 -> 10 -> 3 -> "
     ]
    }
   ],
   "source": [
    "result.print_list()"
   ]
  },
  {
   "cell_type": "markdown",
   "id": "84843d6f-85df-4b8a-aff8-a4f0d68d7edd",
   "metadata": {},
   "source": [
    "### Q5 -> Remove duplicates from a linked list\n",
    "- Needs to be done in place without creating another linked list"
   ]
  },
  {
   "cell_type": "code",
   "execution_count": 67,
   "id": "da36d6f2-9e44-4a5c-b3a1-d43b68c7bb0e",
   "metadata": {},
   "outputs": [],
   "source": [
    "def remove_duplicates(l):\n",
    "    if l.length <= 1:\n",
    "        return l\n",
    "        \n",
    "    temp = l.head\n",
    "    unique_values = {temp.value}\n",
    "\n",
    "    while temp.next is not None:\n",
    "        prev = temp\n",
    "        temp = temp.next\n",
    "\n",
    "        if temp.value not in unique_values:\n",
    "            unique_values.add(temp.value)\n",
    "        else:\n",
    "            prev.next = temp.next\n",
    "            temp.next = None\n",
    "            temp = prev\n",
    "            l.length -= 1\n",
    "\n",
    "    return l"
   ]
  },
  {
   "cell_type": "code",
   "execution_count": 68,
   "id": "08edbe9d-e9ae-4325-ba54-1681174cd658",
   "metadata": {},
   "outputs": [
    {
     "data": {
      "text/plain": [
       "True"
      ]
     },
     "execution_count": 68,
     "metadata": {},
     "output_type": "execute_result"
    }
   ],
   "source": [
    "l = LinkedList(5)\n",
    "l.append(5)\n",
    "l.append(4)\n",
    "l.append(5)\n",
    "l.append(4)\n",
    "l.append(10)\n",
    "l.append(20)"
   ]
  },
  {
   "cell_type": "code",
   "execution_count": 70,
   "id": "72becc2e-baec-4e4c-a5a1-6d86202259bb",
   "metadata": {},
   "outputs": [],
   "source": [
    "result = remove_duplicates(l)"
   ]
  },
  {
   "cell_type": "code",
   "execution_count": 71,
   "id": "687b868c-f65d-4723-9898-fd84c606ac61",
   "metadata": {},
   "outputs": [
    {
     "name": "stdout",
     "output_type": "stream",
     "text": [
      "5 -> 4 -> 10 -> 20 -> "
     ]
    }
   ],
   "source": [
    "result.print_list()"
   ]
  },
  {
   "cell_type": "markdown",
   "id": "e129d19d-1942-46b6-aacd-ed6f2bffea4a",
   "metadata": {},
   "source": [
    "### Q6 -> Convert a binary number represented as a linked list to Decimal\n",
    "- Each node contains a digit of the binary number\n",
    "- Answer would be an integer"
   ]
  },
  {
   "cell_type": "code",
   "execution_count": 72,
   "id": "2fdf804b-c54c-45b0-8c31-e5760a35c1b1",
   "metadata": {},
   "outputs": [],
   "source": [
    "def binary_to_decimal(l):\n",
    "    decimal = 0\n",
    "\n",
    "    temp = l.head\n",
    "    power = l.length - 1\n",
    "\n",
    "    while temp is not None:\n",
    "        decimal += (temp.value) * (2 ** power)\n",
    "        power -= 1\n",
    "        temp = temp.next\n",
    "\n",
    "    return decimal"
   ]
  },
  {
   "cell_type": "code",
   "execution_count": 73,
   "id": "9fb6a78c-a2bf-4652-ab3c-dc057175b8af",
   "metadata": {},
   "outputs": [
    {
     "data": {
      "text/plain": [
       "True"
      ]
     },
     "execution_count": 73,
     "metadata": {},
     "output_type": "execute_result"
    }
   ],
   "source": [
    "l = LinkedList(1)\n",
    "l.append(0)\n",
    "l.append(1)\n",
    "l.append(0)\n",
    "l.append(1)\n",
    "l.append(0)\n",
    "l.append(0)"
   ]
  },
  {
   "cell_type": "code",
   "execution_count": 74,
   "id": "509e5f55-be4e-47d1-ac7f-9f53d757551d",
   "metadata": {},
   "outputs": [
    {
     "name": "stdout",
     "output_type": "stream",
     "text": [
      "1 -> 0 -> 1 -> 0 -> 1 -> 0 -> 0 -> "
     ]
    }
   ],
   "source": [
    "l.print_list()"
   ]
  },
  {
   "cell_type": "code",
   "execution_count": 75,
   "id": "0887fb5f-b193-4d15-87de-c6eb559dfd20",
   "metadata": {},
   "outputs": [
    {
     "data": {
      "text/plain": [
       "84"
      ]
     },
     "execution_count": 75,
     "metadata": {},
     "output_type": "execute_result"
    }
   ],
   "source": [
    "binary_to_decimal(l)"
   ]
  },
  {
   "cell_type": "markdown",
   "id": "f7fa46ee-84f4-4a6f-bae8-babe52716338",
   "metadata": {},
   "source": [
    "# NEEDS REVISION\n",
    "### Q7 -> Reverse Between\n",
    "- A linked list and two indexes (start and end) are given\n",
    "- Reverse the nodes between the start and end indexes\n",
    "- Start and end can be assumed to be in bounds\n",
    "- Needs to solved in place"
   ]
  },
  {
   "cell_type": "code",
   "execution_count": 134,
   "id": "a49d2b4d-f02f-4da2-a60c-bb8dc0e59b7d",
   "metadata": {},
   "outputs": [],
   "source": [
    "def reverse_between(l, start, end):\n",
    "    current = l.head\n",
    "    before = None\n",
    "\n",
    "    for _ in range(start):\n",
    "        before = current\n",
    "        current = current.next\n",
    "\n",
    "    after = current.next\n",
    "\n",
    "    a = before\n",
    "    b = current\n",
    "\n",
    "    for _ in range(end - start + 1):\n",
    "        after = current.next\n",
    "        current.next = before\n",
    "        before = current\n",
    "        current = after\n",
    "\n",
    "    if start > 0 and end < l.length:\n",
    "        a.next = before\n",
    "        b.next = current\n",
    "    elif start == 0 and end == l.length - 1:\n",
    "        l.head = before\n",
    "    elif start == 0:\n",
    "        l.head = before\n",
    "        b.next = current\n",
    "\n",
    "    return l"
   ]
  },
  {
   "cell_type": "code",
   "execution_count": 140,
   "id": "5cdec10c-9fb8-4dbe-8419-52314fd8c5d2",
   "metadata": {},
   "outputs": [
    {
     "data": {
      "text/plain": [
       "True"
      ]
     },
     "execution_count": 140,
     "metadata": {},
     "output_type": "execute_result"
    }
   ],
   "source": [
    "l = LinkedList(10)\n",
    "l.append(20)\n",
    "l.append(30)\n",
    "l.append(40)\n",
    "l.append(50)\n",
    "l.append(60)"
   ]
  },
  {
   "cell_type": "code",
   "execution_count": 136,
   "id": "d22eea9f-a124-42f7-95a3-243122d5517c",
   "metadata": {},
   "outputs": [],
   "source": [
    "result = reverse_between(l, 1, 4)"
   ]
  },
  {
   "cell_type": "code",
   "execution_count": 137,
   "id": "ea34dee3-2a89-4000-8cca-c48017e0dddf",
   "metadata": {},
   "outputs": [
    {
     "name": "stdout",
     "output_type": "stream",
     "text": [
      "10 -> 50 -> 40 -> 30 -> 20 -> 60 -> "
     ]
    }
   ],
   "source": [
    "result.print_list()"
   ]
  },
  {
   "cell_type": "code",
   "execution_count": 141,
   "id": "91b7b357-c9ff-4c8a-b0bf-0bf82510ab1d",
   "metadata": {},
   "outputs": [],
   "source": [
    "result = reverse_between(l, 0, 5)"
   ]
  },
  {
   "cell_type": "code",
   "execution_count": 142,
   "id": "34e319a6-663c-43e5-9de2-3f8f584d1035",
   "metadata": {},
   "outputs": [
    {
     "name": "stdout",
     "output_type": "stream",
     "text": [
      "60 -> 50 -> 40 -> 30 -> 20 -> 10 -> "
     ]
    }
   ],
   "source": [
    "result.print_list()"
   ]
  },
  {
   "cell_type": "code",
   "execution_count": null,
   "id": "1a0516ae-f812-4698-bf0a-87f48bc258c0",
   "metadata": {},
   "outputs": [],
   "source": []
  }
 ],
 "metadata": {
  "kernelspec": {
   "display_name": "Python 3 (ipykernel)",
   "language": "python",
   "name": "python3"
  },
  "language_info": {
   "codemirror_mode": {
    "name": "ipython",
    "version": 3
   },
   "file_extension": ".py",
   "mimetype": "text/x-python",
   "name": "python",
   "nbconvert_exporter": "python",
   "pygments_lexer": "ipython3",
   "version": "3.11.9"
  }
 },
 "nbformat": 4,
 "nbformat_minor": 5
}
