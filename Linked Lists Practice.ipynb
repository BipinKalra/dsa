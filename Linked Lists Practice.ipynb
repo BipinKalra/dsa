{
 "cells": [
  {
   "cell_type": "markdown",
   "id": "f18ca413-4473-4347-ab85-d6557a54edfc",
   "metadata": {},
   "source": [
    "### Linked List Class"
   ]
  },
  {
   "cell_type": "code",
   "execution_count": 237,
   "id": "f75541e1-b6bd-4d72-833b-c5d4f873b0a7",
   "metadata": {},
   "outputs": [],
   "source": [
    "class Node:\n",
    "    def __init__(self, value):\n",
    "        self.value = value\n",
    "        self.next = None\n",
    "\n",
    "class LinkedList:\n",
    "    def __init__(self, value):\n",
    "        new_node = Node(value)\n",
    "        self.head = new_node\n",
    "        self.tail = new_node\n",
    "        self.length = 1\n",
    "\n",
    "    def empty_list(self):\n",
    "        self.head = None\n",
    "        self.tail = None\n",
    "        self.length = 0\n",
    "\n",
    "    def print_list(self):\n",
    "        temp = self.head\n",
    "\n",
    "        while temp is not None:\n",
    "            print(f\"{temp.value} -> \", end = \"\")\n",
    "            temp = temp.next\n",
    "\n",
    "    def append(self, value):\n",
    "        new_node = Node(value)\n",
    "\n",
    "        if self.length == 0:\n",
    "            self.head = new_node\n",
    "            self.tail = new_node\n",
    "        else:\n",
    "            self.tail.next = new_node\n",
    "            self.tail = new_node\n",
    "\n",
    "        self.length += 1\n",
    "\n",
    "        return True\n",
    "\n",
    "    def pop(self):\n",
    "        if self.length == 0:\n",
    "            return None\n",
    "\n",
    "        temp = self.head\n",
    "        \n",
    "        if self.length == 1:\n",
    "            self.head = None\n",
    "            self.tail = None\n",
    "            self.length = 0\n",
    "\n",
    "            return temp\n",
    "\n",
    "        while temp.next is not None:\n",
    "            prev = temp\n",
    "            temp = temp.next\n",
    "\n",
    "        prev.next = None\n",
    "        self.tail = prev\n",
    "        self.length -= 1\n",
    "\n",
    "        return temp\n",
    "\n",
    "    def prepend(self, value):\n",
    "        new_node = Node(value)\n",
    "        \n",
    "        if self.length == 0:\n",
    "            self.head = new_node\n",
    "            self.tail = new_node\n",
    "        else:\n",
    "            new_node.next = self.head\n",
    "            self.head = new_node\n",
    "\n",
    "        self.length += 1\n",
    "\n",
    "        return True\n",
    "\n",
    "    def pop_first(self):\n",
    "        if self.length == 0:\n",
    "            return None\n",
    "\n",
    "        temp = self.head\n",
    "        \n",
    "        if self.length == 1:\n",
    "            self.head = None\n",
    "            self.tail = None\n",
    "            self.length = 0\n",
    "\n",
    "            return temp\n",
    "\n",
    "        self.head = temp.next\n",
    "        temp.next = None\n",
    "\n",
    "        self.length -= 1\n",
    "\n",
    "        return temp\n",
    "\n",
    "    def get(self, index):\n",
    "        if index < 0 or index >= self.length:\n",
    "            return None\n",
    "\n",
    "        temp = self.head\n",
    "\n",
    "        for _ in range(index):\n",
    "            temp = temp.next\n",
    "\n",
    "        return temp\n",
    "\n",
    "    def set(self, index, new_value):\n",
    "        temp = self.get(index)\n",
    "\n",
    "        if not temp:\n",
    "            return False\n",
    "\n",
    "        temp.value = new_value\n",
    "\n",
    "        return True\n",
    "\n",
    "    def insert(self, index, value):\n",
    "        if index < 0 or index > self.length:\n",
    "            return False\n",
    "            \n",
    "        if index == 0:\n",
    "            return self.prepend(value)\n",
    "        elif index == self.length:\n",
    "            return self.append(value)\n",
    "\n",
    "        new_node = Node(value)\n",
    "        prev = self.get(index - 1)\n",
    "\n",
    "        new_node.next = prev.next\n",
    "        prev.next = new_node\n",
    "\n",
    "        self.length += 1\n",
    "\n",
    "        return True\n",
    "\n",
    "    def remove(self, index):\n",
    "        if index < 0 or index >= self.length:\n",
    "            return None\n",
    "\n",
    "        if index == 0:\n",
    "            return self.pop_first()\n",
    "\n",
    "        if index == self.length - 1:\n",
    "            return self.pop()\n",
    "\n",
    "        temp = self.get(index - 1)\n",
    "        removed = temp.next\n",
    "\n",
    "        temp.next = removed.next\n",
    "        removed.next = None\n",
    "\n",
    "        return removed\n",
    "\n",
    "    def reverse(self):\n",
    "        current = self.head\n",
    "        after = current.next\n",
    "        before = None\n",
    "\n",
    "        self.head, self.tail = self.tail, self.head\n",
    "\n",
    "        for _ in range(self.length):\n",
    "            after = current.next\n",
    "            current.next = before\n",
    "            before = current\n",
    "            current = after\n",
    "\n",
    "        return True"
   ]
  },
  {
   "cell_type": "code",
   "execution_count": 238,
   "id": "eaeafd4f-9983-4d24-a9b7-3bd12aa897ec",
   "metadata": {},
   "outputs": [],
   "source": [
    "l = LinkedList(1)"
   ]
  },
  {
   "cell_type": "code",
   "execution_count": 239,
   "id": "b0b17357-7f95-4928-ab60-1b64b8ab0b26",
   "metadata": {},
   "outputs": [
    {
     "data": {
      "text/plain": [
       "True"
      ]
     },
     "execution_count": 239,
     "metadata": {},
     "output_type": "execute_result"
    }
   ],
   "source": [
    "l.append(2)\n",
    "l.append(3)\n",
    "l.append(4)\n",
    "l.append(5)"
   ]
  },
  {
   "cell_type": "code",
   "execution_count": 240,
   "id": "256ab6ef-8f83-4920-912f-34b9092f5341",
   "metadata": {},
   "outputs": [
    {
     "name": "stdout",
     "output_type": "stream",
     "text": [
      "1 -> 2 -> 3 -> 4 -> 5 -> "
     ]
    }
   ],
   "source": [
    "l.print_list()"
   ]
  },
  {
   "cell_type": "code",
   "execution_count": 241,
   "id": "fc0e411f-6ba6-4e79-9f35-f52d5a262090",
   "metadata": {},
   "outputs": [
    {
     "name": "stdout",
     "output_type": "stream",
     "text": [
      "5 -> 4 -> 3 -> 2 -> 1 -> "
     ]
    }
   ],
   "source": [
    "l.reverse()\n",
    "l.print_list()"
   ]
  },
  {
   "cell_type": "markdown",
   "id": "67d608ea-1662-4281-8ad1-954dda97a304",
   "metadata": {},
   "source": [
    "### Q1 -> Find Middle Node\n",
    "- Length value not available\n",
    "- In case of even elements, first element of the second half"
   ]
  },
  {
   "cell_type": "code",
   "execution_count": 264,
   "id": "2df469be-435d-4632-bff3-a17bf41d9114",
   "metadata": {},
   "outputs": [],
   "source": [
    "def middle_element(l):\n",
    "    if l.head.next is None:\n",
    "        return self.head\n",
    "        \n",
    "    slow, fast = l.head, l.head\n",
    "\n",
    "    while fast.next is not None:\n",
    "        slow = slow.next\n",
    "        fast = fast.next.next\n",
    "\n",
    "        if fast == None:\n",
    "            break\n",
    "\n",
    "    return slow"
   ]
  },
  {
   "cell_type": "markdown",
   "id": "fd7c0efe-d60f-4f5a-9f8d-ce28556110dc",
   "metadata": {},
   "source": [
    "### Q2 -> Has Loop\n",
    "- Check if there is a loop inside a linked list\n",
    "- Return the starting point of that loop"
   ]
  },
  {
   "cell_type": "code",
   "execution_count": 268,
   "id": "a0bd63b0-5033-452b-9af3-66b808f48048",
   "metadata": {},
   "outputs": [],
   "source": [
    "def detect_loop(l):\n",
    "    slow, fast = l.head, l.head\n",
    "\n",
    "    while fast is not None and fast.next is not None:\n",
    "        slow = slow.next\n",
    "        fast = fast.next.next\n",
    "        met = False\n",
    "\n",
    "        if slow == fast:\n",
    "            met = True\n",
    "            break\n",
    "\n",
    "    return met        "
   ]
  },
  {
   "cell_type": "code",
   "execution_count": 269,
   "id": "edd84e58-ce4b-4bf5-94c3-56a12d10ba94",
   "metadata": {},
   "outputs": [
    {
     "name": "stdout",
     "output_type": "stream",
     "text": [
      "True\n"
     ]
    }
   ],
   "source": [
    "my_linked_list_1 = LinkedList(1)\n",
    "my_linked_list_1.append(2)\n",
    "my_linked_list_1.append(3)\n",
    "my_linked_list_1.append(4)\n",
    "my_linked_list_1.tail.next = my_linked_list_1.head\n",
    "print(detect_loop(my_linked_list_1))"
   ]
  },
  {
   "cell_type": "code",
   "execution_count": 270,
   "id": "295f97db-c846-4886-814f-51ff01a922e9",
   "metadata": {},
   "outputs": [
    {
     "name": "stdout",
     "output_type": "stream",
     "text": [
      "False\n"
     ]
    }
   ],
   "source": [
    "my_linked_list_2 = LinkedList(1)\n",
    "my_linked_list_2.append(2)\n",
    "my_linked_list_2.append(3)\n",
    "my_linked_list_2.append(4)\n",
    "print(detect_loop(my_linked_list_2))"
   ]
  },
  {
   "cell_type": "markdown",
   "id": "7325c319-8f21-42c0-892f-9fe8cbf3e49b",
   "metadata": {},
   "source": [
    "### Q3 -> Kth node from the end\n",
    "- Length is not available"
   ]
  },
  {
   "cell_type": "code",
   "execution_count": 284,
   "id": "ad7b2f80-f45e-4119-b3dd-4298589cb783",
   "metadata": {},
   "outputs": [],
   "source": [
    "def kth_from_end(l, k):\n",
    "    slow, fast = l.head, l.head\n",
    "\n",
    "    for _ in range(k-1):\n",
    "        if not fast.next:\n",
    "            return None\n",
    "\n",
    "        fast = fast.next\n",
    "\n",
    "    while fast.next:\n",
    "        slow = slow.next\n",
    "        fast = fast.next\n",
    "\n",
    "    return slow"
   ]
  },
  {
   "cell_type": "code",
   "execution_count": 285,
   "id": "6c1e3ee0-54f1-4556-8ff1-d3c592c65775",
   "metadata": {},
   "outputs": [
    {
     "data": {
      "text/plain": [
       "True"
      ]
     },
     "execution_count": 285,
     "metadata": {},
     "output_type": "execute_result"
    }
   ],
   "source": [
    "l = LinkedList(10)\n",
    "l.append(20)\n",
    "l.append(30)\n",
    "l.append(40)\n",
    "l.append(50)"
   ]
  },
  {
   "cell_type": "code",
   "execution_count": 280,
   "id": "cbd08459-3073-4744-8655-52469cbe3cd2",
   "metadata": {},
   "outputs": [
    {
     "data": {
      "text/plain": [
       "(<__main__.Node at 0x108714290>, 40)"
      ]
     },
     "execution_count": 280,
     "metadata": {},
     "output_type": "execute_result"
    }
   ],
   "source": [
    "kth_from_end(l, 2)"
   ]
  },
  {
   "cell_type": "code",
   "execution_count": 281,
   "id": "3c555123-c9f3-41e8-b572-445600d30ffd",
   "metadata": {},
   "outputs": [
    {
     "data": {
      "text/plain": [
       "True"
      ]
     },
     "execution_count": 281,
     "metadata": {},
     "output_type": "execute_result"
    }
   ],
   "source": [
    "l2 = LinkedList(10)\n",
    "l2.append(20)\n",
    "l2.append(30)\n",
    "l2.append(40)\n",
    "l2.append(50)\n",
    "l2.append(60)"
   ]
  },
  {
   "cell_type": "code",
   "execution_count": 283,
   "id": "ec8c383c-fc6c-4a6a-bec4-23cfeebd3885",
   "metadata": {},
   "outputs": [
    {
     "data": {
      "text/plain": [
       "(<__main__.Node at 0x10923acd0>, 60)"
      ]
     },
     "execution_count": 283,
     "metadata": {},
     "output_type": "execute_result"
    }
   ],
   "source": [
    "kth_from_end(l2, 2)"
   ]
  },
  {
   "cell_type": "code",
   "execution_count": null,
   "id": "ceca9c2a-f49c-4f2b-a813-724556c1614d",
   "metadata": {},
   "outputs": [],
   "source": []
  }
 ],
 "metadata": {
  "kernelspec": {
   "display_name": "Python 3 (ipykernel)",
   "language": "python",
   "name": "python3"
  },
  "language_info": {
   "codemirror_mode": {
    "name": "ipython",
    "version": 3
   },
   "file_extension": ".py",
   "mimetype": "text/x-python",
   "name": "python",
   "nbconvert_exporter": "python",
   "pygments_lexer": "ipython3",
   "version": "3.11.9"
  }
 },
 "nbformat": 4,
 "nbformat_minor": 5
}
