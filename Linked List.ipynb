{
 "cells": [
  {
   "cell_type": "markdown",
   "id": "70187fdc",
   "metadata": {},
   "source": [
    "# Linked Lists"
   ]
  },
  {
   "cell_type": "code",
   "execution_count": 63,
   "id": "ff8b033e",
   "metadata": {},
   "outputs": [],
   "source": [
    "class Node:\n",
    "    def __init__(self, value):\n",
    "        self.value = value\n",
    "        self.next = None\n",
    "        \n",
    "class LinkedList:\n",
    "    def __init__(self, value):\n",
    "        new_node = Node(value)\n",
    "        self.head = new_node\n",
    "        self.tail = new_node\n",
    "        self.length = 1\n",
    "        \n",
    "    def print_list(self):\n",
    "        temp = self.head\n",
    "        while temp is not None:\n",
    "            print(temp.value)\n",
    "            temp = temp.next\n",
    "            \n",
    "    def append(self, value):\n",
    "        new_node = Node(value)\n",
    "        \n",
    "        if self.length != 0:\n",
    "            self.tail.next = new_node\n",
    "            self.tail = new_node\n",
    "        else:\n",
    "            self.head = new_node\n",
    "            self.tail = new_node\n",
    "        \n",
    "        self.length += 1\n",
    "        \n",
    "        return True            \n",
    "    \n",
    "    def pop(self):\n",
    "        if self.length == 0:\n",
    "            return None\n",
    "        elif self.length == 1:\n",
    "            temp = self.head\n",
    "            \n",
    "            self.head = None\n",
    "            self.tail = None\n",
    "            self.length = 0\n",
    "            \n",
    "            return temp\n",
    "        \n",
    "        temp = self.head\n",
    "        pre = temp\n",
    "        \n",
    "        while temp.next != None:\n",
    "            pre = temp\n",
    "            temp = temp.next\n",
    "        \n",
    "        self.tail = pre\n",
    "        self.tail.next = None\n",
    "        \n",
    "        self.length -= 1\n",
    "        \n",
    "        return temp        "
   ]
  },
  {
   "cell_type": "code",
   "execution_count": 64,
   "id": "eccbd1ee",
   "metadata": {},
   "outputs": [],
   "source": [
    "my_linked_list = LinkedList(4)"
   ]
  },
  {
   "cell_type": "code",
   "execution_count": 65,
   "id": "79260f2e",
   "metadata": {},
   "outputs": [
    {
     "data": {
      "text/plain": [
       "4"
      ]
     },
     "execution_count": 65,
     "metadata": {},
     "output_type": "execute_result"
    }
   ],
   "source": [
    "my_linked_list.head.value"
   ]
  },
  {
   "cell_type": "code",
   "execution_count": 66,
   "id": "822c71c0",
   "metadata": {},
   "outputs": [
    {
     "data": {
      "text/plain": [
       "True"
      ]
     },
     "execution_count": 66,
     "metadata": {},
     "output_type": "execute_result"
    }
   ],
   "source": [
    "my_linked_list.append(5)"
   ]
  },
  {
   "cell_type": "code",
   "execution_count": 67,
   "id": "69d4d7c1",
   "metadata": {},
   "outputs": [
    {
     "name": "stdout",
     "output_type": "stream",
     "text": [
      "4\n",
      "5\n"
     ]
    }
   ],
   "source": [
    "my_linked_list.print_list()"
   ]
  },
  {
   "cell_type": "code",
   "execution_count": 68,
   "id": "5cddf9cd",
   "metadata": {},
   "outputs": [
    {
     "data": {
      "text/plain": [
       "True"
      ]
     },
     "execution_count": 68,
     "metadata": {},
     "output_type": "execute_result"
    }
   ],
   "source": [
    "my_linked_list.append(6)"
   ]
  },
  {
   "cell_type": "code",
   "execution_count": 69,
   "id": "c5b54200",
   "metadata": {},
   "outputs": [
    {
     "name": "stdout",
     "output_type": "stream",
     "text": [
      "4\n",
      "5\n",
      "6\n"
     ]
    }
   ],
   "source": [
    "my_linked_list.print_list()"
   ]
  },
  {
   "cell_type": "code",
   "execution_count": 70,
   "id": "7ab9e4a8",
   "metadata": {},
   "outputs": [
    {
     "data": {
      "text/plain": [
       "<__main__.Node at 0x7fbbd067e880>"
      ]
     },
     "execution_count": 70,
     "metadata": {},
     "output_type": "execute_result"
    }
   ],
   "source": [
    "my_linked_list.pop()"
   ]
  },
  {
   "cell_type": "code",
   "execution_count": 71,
   "id": "177b4ee3",
   "metadata": {},
   "outputs": [
    {
     "name": "stdout",
     "output_type": "stream",
     "text": [
      "4\n",
      "5\n"
     ]
    }
   ],
   "source": [
    "my_linked_list.print_list()"
   ]
  },
  {
   "cell_type": "code",
   "execution_count": 72,
   "id": "da8d5740",
   "metadata": {},
   "outputs": [
    {
     "data": {
      "text/plain": [
       "<__main__.Node at 0x7fbbd067ef40>"
      ]
     },
     "execution_count": 72,
     "metadata": {},
     "output_type": "execute_result"
    }
   ],
   "source": [
    "my_linked_list.pop()"
   ]
  },
  {
   "cell_type": "code",
   "execution_count": 73,
   "id": "7b125ee7",
   "metadata": {},
   "outputs": [
    {
     "name": "stdout",
     "output_type": "stream",
     "text": [
      "4\n"
     ]
    }
   ],
   "source": [
    "my_linked_list.print_list()"
   ]
  },
  {
   "cell_type": "code",
   "execution_count": 74,
   "id": "d5ab4d95",
   "metadata": {},
   "outputs": [
    {
     "data": {
      "text/plain": [
       "<__main__.Node at 0x7fbbd067ea00>"
      ]
     },
     "execution_count": 74,
     "metadata": {},
     "output_type": "execute_result"
    }
   ],
   "source": [
    "my_linked_list.pop()"
   ]
  },
  {
   "cell_type": "code",
   "execution_count": 75,
   "id": "2f6ec02a",
   "metadata": {},
   "outputs": [],
   "source": [
    "my_linked_list.print_list()"
   ]
  },
  {
   "cell_type": "code",
   "execution_count": 76,
   "id": "e2d30852",
   "metadata": {},
   "outputs": [
    {
     "name": "stdout",
     "output_type": "stream",
     "text": [
      "None\n"
     ]
    }
   ],
   "source": [
    "print(my_linked_list.pop())"
   ]
  },
  {
   "cell_type": "code",
   "execution_count": 104,
   "id": "2e0d3075",
   "metadata": {},
   "outputs": [],
   "source": [
    "class Node:\n",
    "    def __init__(self, value):\n",
    "        self.value = value\n",
    "        self.next = None\n",
    "        \n",
    "class LinkedList:\n",
    "    def __init__(self, value):\n",
    "        new_node = Node(value)\n",
    "        self.head = new_node\n",
    "        self.tail = new_node\n",
    "        self.length = 1\n",
    "        \n",
    "    def print_list(self):\n",
    "        temp = self.head\n",
    "        while temp is not None:\n",
    "            print(temp.value)\n",
    "            temp = temp.next\n",
    "            \n",
    "    def append(self, value):\n",
    "        new_node = Node(value)\n",
    "        \n",
    "        if self.length != 0:\n",
    "            self.tail.next = new_node\n",
    "            self.tail = new_node\n",
    "        else:\n",
    "            self.head = new_node\n",
    "            self.tail = new_node\n",
    "        \n",
    "        self.length += 1\n",
    "        \n",
    "        return True            \n",
    "    \n",
    "    def pop(self):\n",
    "        if self.length == 0:\n",
    "            return None\n",
    "        elif self.length == 1:\n",
    "            temp = self.head\n",
    "            \n",
    "            self.head = None\n",
    "            self.tail = None\n",
    "            self.length = 0\n",
    "            \n",
    "            return temp\n",
    "        \n",
    "        temp = self.head\n",
    "        pre = temp\n",
    "        \n",
    "        while temp.next != None:\n",
    "            pre = temp\n",
    "            temp = temp.next\n",
    "        \n",
    "        self.tail = pre\n",
    "        self.tail.next = None\n",
    "        \n",
    "        self.length -= 1\n",
    "        \n",
    "        return temp        \n",
    "    \n",
    "    def prepend(self, value):\n",
    "        new_node = Node(value)\n",
    "        \n",
    "        if self.length == 0:\n",
    "            self.head = new_node\n",
    "            self.tail = new_node\n",
    "        else:\n",
    "            new_node.next = self.head\n",
    "            self.head = new_node\n",
    "        \n",
    "        self.length += 1\n",
    "            \n",
    "        return True\n",
    "    \n",
    "    def pop_first(self):\n",
    "        if self.length == 0:\n",
    "            return None\n",
    "        \n",
    "        temp = self.head\n",
    "        self.head = self.head.next\n",
    "        temp.next = None\n",
    "        self.length -= 1\n",
    "        \n",
    "        if self.length == 0:\n",
    "            self.tail = None\n",
    "        \n",
    "        return temp"
   ]
  },
  {
   "cell_type": "code",
   "execution_count": 105,
   "id": "8de31873",
   "metadata": {},
   "outputs": [],
   "source": [
    "my_linked_list = LinkedList(5)"
   ]
  },
  {
   "cell_type": "code",
   "execution_count": 106,
   "id": "b73df62e",
   "metadata": {},
   "outputs": [
    {
     "data": {
      "text/plain": [
       "<__main__.Node at 0x7fbbd067b490>"
      ]
     },
     "execution_count": 106,
     "metadata": {},
     "output_type": "execute_result"
    }
   ],
   "source": [
    "my_linked_list.pop()"
   ]
  },
  {
   "cell_type": "code",
   "execution_count": 107,
   "id": "7179345e",
   "metadata": {},
   "outputs": [
    {
     "data": {
      "text/plain": [
       "0"
      ]
     },
     "execution_count": 107,
     "metadata": {},
     "output_type": "execute_result"
    }
   ],
   "source": [
    "my_linked_list.length"
   ]
  },
  {
   "cell_type": "code",
   "execution_count": 108,
   "id": "20916ad3",
   "metadata": {},
   "outputs": [
    {
     "data": {
      "text/plain": [
       "True"
      ]
     },
     "execution_count": 108,
     "metadata": {},
     "output_type": "execute_result"
    }
   ],
   "source": [
    "my_linked_list.prepend(10)"
   ]
  },
  {
   "cell_type": "code",
   "execution_count": 109,
   "id": "e225c2c8",
   "metadata": {},
   "outputs": [
    {
     "data": {
      "text/plain": [
       "1"
      ]
     },
     "execution_count": 109,
     "metadata": {},
     "output_type": "execute_result"
    }
   ],
   "source": [
    "my_linked_list.length"
   ]
  },
  {
   "cell_type": "code",
   "execution_count": 110,
   "id": "171c0ae5",
   "metadata": {},
   "outputs": [
    {
     "name": "stdout",
     "output_type": "stream",
     "text": [
      "10\n"
     ]
    }
   ],
   "source": [
    "my_linked_list.print_list()"
   ]
  },
  {
   "cell_type": "code",
   "execution_count": 111,
   "id": "2016dde0",
   "metadata": {},
   "outputs": [
    {
     "data": {
      "text/plain": [
       "True"
      ]
     },
     "execution_count": 111,
     "metadata": {},
     "output_type": "execute_result"
    }
   ],
   "source": [
    "my_linked_list.prepend(5)"
   ]
  },
  {
   "cell_type": "code",
   "execution_count": 112,
   "id": "3a30cebc",
   "metadata": {},
   "outputs": [
    {
     "name": "stdout",
     "output_type": "stream",
     "text": [
      "5\n",
      "10\n"
     ]
    }
   ],
   "source": [
    "my_linked_list.print_list()"
   ]
  },
  {
   "cell_type": "code",
   "execution_count": 113,
   "id": "ec35158d",
   "metadata": {},
   "outputs": [
    {
     "data": {
      "text/plain": [
       "2"
      ]
     },
     "execution_count": 113,
     "metadata": {},
     "output_type": "execute_result"
    }
   ],
   "source": [
    "my_linked_list.length"
   ]
  },
  {
   "cell_type": "code",
   "execution_count": 114,
   "id": "82ffa737",
   "metadata": {},
   "outputs": [
    {
     "data": {
      "text/plain": [
       "<__main__.Node at 0x7fbbe22ad6d0>"
      ]
     },
     "execution_count": 114,
     "metadata": {},
     "output_type": "execute_result"
    }
   ],
   "source": [
    "my_linked_list.pop_first()"
   ]
  },
  {
   "cell_type": "code",
   "execution_count": 115,
   "id": "998b001c",
   "metadata": {},
   "outputs": [
    {
     "data": {
      "text/plain": [
       "1"
      ]
     },
     "execution_count": 115,
     "metadata": {},
     "output_type": "execute_result"
    }
   ],
   "source": [
    "my_linked_list.length"
   ]
  },
  {
   "cell_type": "code",
   "execution_count": 116,
   "id": "c0ce30d6",
   "metadata": {},
   "outputs": [
    {
     "name": "stdout",
     "output_type": "stream",
     "text": [
      "10\n"
     ]
    }
   ],
   "source": [
    "my_linked_list.print_list()"
   ]
  },
  {
   "cell_type": "code",
   "execution_count": 117,
   "id": "c141b729",
   "metadata": {},
   "outputs": [
    {
     "data": {
      "text/plain": [
       "<__main__.Node at 0x7fbbe22ada60>"
      ]
     },
     "execution_count": 117,
     "metadata": {},
     "output_type": "execute_result"
    }
   ],
   "source": [
    "my_linked_list.pop_first()"
   ]
  },
  {
   "cell_type": "code",
   "execution_count": 118,
   "id": "06a59438",
   "metadata": {},
   "outputs": [
    {
     "data": {
      "text/plain": [
       "0"
      ]
     },
     "execution_count": 118,
     "metadata": {},
     "output_type": "execute_result"
    }
   ],
   "source": [
    "my_linked_list.length"
   ]
  },
  {
   "cell_type": "code",
   "execution_count": 119,
   "id": "823778a4",
   "metadata": {},
   "outputs": [],
   "source": [
    "my_linked_list.print_list()"
   ]
  },
  {
   "cell_type": "code",
   "execution_count": 120,
   "id": "62637d3e",
   "metadata": {},
   "outputs": [],
   "source": [
    "my_linked_list.pop_first()"
   ]
  },
  {
   "cell_type": "code",
   "execution_count": 183,
   "id": "23ad4d93",
   "metadata": {},
   "outputs": [],
   "source": [
    "class Node:\n",
    "    def __init__(self, value):\n",
    "        self.value = value\n",
    "        self.next = None\n",
    "        \n",
    "class LinkedList:\n",
    "    def __init__(self, value):\n",
    "        new_node = Node(value)\n",
    "        self.head = new_node\n",
    "        self.tail = new_node\n",
    "        self.length = 1\n",
    "        \n",
    "    def print_list(self):\n",
    "        temp = self.head\n",
    "        while temp is not None:\n",
    "            print(temp.value)\n",
    "            temp = temp.next\n",
    "            \n",
    "    def append(self, value):\n",
    "        new_node = Node(value)\n",
    "        \n",
    "        if self.length != 0:\n",
    "            self.tail.next = new_node\n",
    "            self.tail = new_node\n",
    "        else:\n",
    "            self.head = new_node\n",
    "            self.tail = new_node\n",
    "        \n",
    "        self.length += 1\n",
    "        \n",
    "        return True            \n",
    "    \n",
    "    def pop(self):\n",
    "        if self.length == 0:\n",
    "            return None\n",
    "        elif self.length == 1:\n",
    "            temp = self.head\n",
    "            \n",
    "            self.head = None\n",
    "            self.tail = None\n",
    "            self.length = 0\n",
    "            \n",
    "            return temp\n",
    "        \n",
    "        temp = self.head\n",
    "        pre = temp\n",
    "        \n",
    "        while temp.next != None:\n",
    "            pre = temp\n",
    "            temp = temp.next\n",
    "        \n",
    "        self.tail = pre\n",
    "        self.tail.next = None\n",
    "        \n",
    "        self.length -= 1\n",
    "        \n",
    "        return temp        \n",
    "    \n",
    "    def prepend(self, value):\n",
    "        new_node = Node(value)\n",
    "        \n",
    "        if self.length == 0:\n",
    "            self.head = new_node\n",
    "            self.tail = new_node\n",
    "        else:\n",
    "            new_node.next = self.head\n",
    "            self.head = new_node\n",
    "        \n",
    "        self.length += 1\n",
    "            \n",
    "        return True\n",
    "    \n",
    "    def pop_first(self):\n",
    "        if self.length == 0:\n",
    "            return None\n",
    "        \n",
    "        temp = self.head\n",
    "        self.head = self.head.next\n",
    "        temp.next = None\n",
    "        self.length -= 1\n",
    "        \n",
    "        if self.length == 0:\n",
    "            self.tail = None\n",
    "        \n",
    "        return temp\n",
    "    \n",
    "    def get(self, index):\n",
    "        if index < 0 or index >= self.length:\n",
    "            return None\n",
    "        \n",
    "        temp = self.head\n",
    "        \n",
    "        for _ in range(index):\n",
    "            temp = temp.next\n",
    "            \n",
    "        return temp\n",
    "    \n",
    "    def set_value(self, index, value):\n",
    "        temp = self.get(index)\n",
    "            \n",
    "        if temp:\n",
    "            temp.value = value\n",
    "            return True\n",
    "        \n",
    "        return False\n",
    "    \n",
    "    def insert(self, index, value):\n",
    "        if index < 0 or index > self.length:\n",
    "            return False\n",
    "        \n",
    "        if index == 0:\n",
    "            return self.prepend(value)\n",
    "        \n",
    "        if index == self.length:\n",
    "            return self.append(value)\n",
    "        \n",
    "        temp = self.get(index - 1)\n",
    "            \n",
    "        new_node = Node(value)\n",
    "        \n",
    "        new_node.next = temp.next\n",
    "        temp.next = new_node\n",
    "        \n",
    "        self.length += 1\n",
    "        \n",
    "        return True\n",
    "    \n",
    "    def remove(self, index):\n",
    "        if index < 0 or index >= self.length:\n",
    "            return None\n",
    "        \n",
    "        if index == 0:\n",
    "            return self.pop_first()\n",
    "        \n",
    "        if index == self.length - 1:\n",
    "            return self.pop()\n",
    "        \n",
    "        pre = self.get(index - 1)\n",
    "        temp = pre.next\n",
    "        \n",
    "        pre.next = temp.next\n",
    "        temp.next = None\n",
    "        \n",
    "        return temp"
   ]
  },
  {
   "cell_type": "code",
   "execution_count": 184,
   "id": "558ff8d8",
   "metadata": {},
   "outputs": [
    {
     "data": {
      "text/plain": [
       "True"
      ]
     },
     "execution_count": 184,
     "metadata": {},
     "output_type": "execute_result"
    }
   ],
   "source": [
    "l = LinkedList(4)\n",
    "l.append(5)\n",
    "l.append(6)\n",
    "l.append(7)"
   ]
  },
  {
   "cell_type": "code",
   "execution_count": 185,
   "id": "bd07169e",
   "metadata": {},
   "outputs": [
    {
     "name": "stdout",
     "output_type": "stream",
     "text": [
      "4\n",
      "5\n",
      "6\n",
      "7\n"
     ]
    }
   ],
   "source": [
    "l.print_list()"
   ]
  },
  {
   "cell_type": "code",
   "execution_count": 186,
   "id": "a9997584",
   "metadata": {},
   "outputs": [
    {
     "data": {
      "text/plain": [
       "<__main__.Node at 0x7fbbd0684b50>"
      ]
     },
     "execution_count": 186,
     "metadata": {},
     "output_type": "execute_result"
    }
   ],
   "source": [
    "l.get(3)"
   ]
  },
  {
   "cell_type": "code",
   "execution_count": 187,
   "id": "4c1223be",
   "metadata": {},
   "outputs": [],
   "source": [
    "l.get(10)"
   ]
  },
  {
   "cell_type": "code",
   "execution_count": 188,
   "id": "837e2523",
   "metadata": {},
   "outputs": [],
   "source": [
    "l.get(-1)"
   ]
  },
  {
   "cell_type": "code",
   "execution_count": 189,
   "id": "0c2a93ce",
   "metadata": {},
   "outputs": [
    {
     "data": {
      "text/plain": [
       "True"
      ]
     },
     "execution_count": 189,
     "metadata": {},
     "output_type": "execute_result"
    }
   ],
   "source": [
    "l.set_value(0, 10)"
   ]
  },
  {
   "cell_type": "code",
   "execution_count": 190,
   "id": "0b04c12e",
   "metadata": {},
   "outputs": [
    {
     "name": "stdout",
     "output_type": "stream",
     "text": [
      "10\n",
      "5\n",
      "6\n",
      "7\n"
     ]
    }
   ],
   "source": [
    "l.print_list()"
   ]
  },
  {
   "cell_type": "code",
   "execution_count": 191,
   "id": "a4858536",
   "metadata": {},
   "outputs": [
    {
     "data": {
      "text/plain": [
       "True"
      ]
     },
     "execution_count": 191,
     "metadata": {},
     "output_type": "execute_result"
    }
   ],
   "source": [
    "l.set_value(1, 20)"
   ]
  },
  {
   "cell_type": "code",
   "execution_count": 192,
   "id": "9567b468",
   "metadata": {},
   "outputs": [
    {
     "name": "stdout",
     "output_type": "stream",
     "text": [
      "10\n",
      "20\n",
      "6\n",
      "7\n"
     ]
    }
   ],
   "source": [
    "l.print_list()"
   ]
  },
  {
   "cell_type": "code",
   "execution_count": 193,
   "id": "6eb3cb28",
   "metadata": {},
   "outputs": [
    {
     "data": {
      "text/plain": [
       "True"
      ]
     },
     "execution_count": 193,
     "metadata": {},
     "output_type": "execute_result"
    }
   ],
   "source": [
    "l.insert(1, 15)"
   ]
  },
  {
   "cell_type": "code",
   "execution_count": 194,
   "id": "aae7bf76",
   "metadata": {},
   "outputs": [
    {
     "name": "stdout",
     "output_type": "stream",
     "text": [
      "10\n",
      "15\n",
      "20\n",
      "6\n",
      "7\n"
     ]
    }
   ],
   "source": [
    "l.print_list()"
   ]
  },
  {
   "cell_type": "code",
   "execution_count": 195,
   "id": "73d579cb",
   "metadata": {},
   "outputs": [
    {
     "data": {
      "text/plain": [
       "<__main__.Node at 0x7fbbd0684460>"
      ]
     },
     "execution_count": 195,
     "metadata": {},
     "output_type": "execute_result"
    }
   ],
   "source": [
    "l.remove(0)"
   ]
  },
  {
   "cell_type": "code",
   "execution_count": 196,
   "id": "8af9b702",
   "metadata": {},
   "outputs": [
    {
     "name": "stdout",
     "output_type": "stream",
     "text": [
      "15\n",
      "20\n",
      "6\n",
      "7\n"
     ]
    }
   ],
   "source": [
    "l.print_list()"
   ]
  },
  {
   "cell_type": "code",
   "execution_count": 197,
   "id": "11d48936",
   "metadata": {},
   "outputs": [
    {
     "data": {
      "text/plain": [
       "<__main__.Node at 0x7fbbd0684d00>"
      ]
     },
     "execution_count": 197,
     "metadata": {},
     "output_type": "execute_result"
    }
   ],
   "source": [
    "l.remove(2)"
   ]
  },
  {
   "cell_type": "code",
   "execution_count": 198,
   "id": "1bc66fd7",
   "metadata": {},
   "outputs": [
    {
     "name": "stdout",
     "output_type": "stream",
     "text": [
      "15\n",
      "20\n",
      "7\n"
     ]
    }
   ],
   "source": [
    "l.print_list()"
   ]
  },
  {
   "cell_type": "code",
   "execution_count": 219,
   "id": "0bd80f31",
   "metadata": {},
   "outputs": [],
   "source": [
    "class Node:\n",
    "    def __init__(self, value):\n",
    "        self.value = value\n",
    "        self.next = None\n",
    "        \n",
    "class LinkedList:\n",
    "    def __init__(self, value):\n",
    "        new_node = Node(value)\n",
    "        self.head = new_node\n",
    "        self.tail = new_node\n",
    "        self.length = 1\n",
    "        \n",
    "    def print_list(self):\n",
    "        temp = self.head\n",
    "        while temp is not None:\n",
    "            print(temp.value)\n",
    "            temp = temp.next\n",
    "            \n",
    "    def append(self, value):\n",
    "        new_node = Node(value)\n",
    "        \n",
    "        if self.length != 0:\n",
    "            self.tail.next = new_node\n",
    "            self.tail = new_node\n",
    "        else:\n",
    "            self.head = new_node\n",
    "            self.tail = new_node\n",
    "        \n",
    "        self.length += 1\n",
    "        \n",
    "        return True            \n",
    "    \n",
    "    def pop(self):\n",
    "        if self.length == 0:\n",
    "            return None\n",
    "        elif self.length == 1:\n",
    "            temp = self.head\n",
    "            \n",
    "            self.head = None\n",
    "            self.tail = None\n",
    "            self.length = 0\n",
    "            \n",
    "            return temp\n",
    "        \n",
    "        temp = self.head\n",
    "        pre = temp\n",
    "        \n",
    "        while temp.next != None:\n",
    "            pre = temp\n",
    "            temp = temp.next\n",
    "        \n",
    "        self.tail = pre\n",
    "        self.tail.next = None\n",
    "        \n",
    "        self.length -= 1\n",
    "        \n",
    "        return temp        \n",
    "    \n",
    "    def prepend(self, value):\n",
    "        new_node = Node(value)\n",
    "        \n",
    "        if self.length == 0:\n",
    "            self.head = new_node\n",
    "            self.tail = new_node\n",
    "        else:\n",
    "            new_node.next = self.head\n",
    "            self.head = new_node\n",
    "        \n",
    "        self.length += 1\n",
    "            \n",
    "        return True\n",
    "    \n",
    "    def pop_first(self):\n",
    "        if self.length == 0:\n",
    "            return None\n",
    "        \n",
    "        temp = self.head\n",
    "        self.head = self.head.next\n",
    "        temp.next = None\n",
    "        self.length -= 1\n",
    "        \n",
    "        if self.length == 0:\n",
    "            self.tail = None\n",
    "        \n",
    "        return temp\n",
    "    \n",
    "    def get(self, index):\n",
    "        if index < 0 or index >= self.length:\n",
    "            return None\n",
    "        \n",
    "        temp = self.head\n",
    "        \n",
    "        for _ in range(index):\n",
    "            temp = temp.next\n",
    "            \n",
    "        return temp\n",
    "    \n",
    "    def set_value(self, index, value):\n",
    "        temp = self.get(index)\n",
    "            \n",
    "        if temp:\n",
    "            temp.value = value\n",
    "            return True\n",
    "        \n",
    "        return False\n",
    "    \n",
    "    def insert(self, index, value):\n",
    "        if index < 0 or index > self.length:\n",
    "            return False\n",
    "        \n",
    "        if index == 0:\n",
    "            return self.prepend(value)\n",
    "        \n",
    "        if index == self.length:\n",
    "            return self.append(value)\n",
    "        \n",
    "        temp = self.get(index - 1)\n",
    "            \n",
    "        new_node = Node(value)\n",
    "        \n",
    "        new_node.next = temp.next\n",
    "        temp.next = new_node\n",
    "        \n",
    "        self.length += 1\n",
    "        \n",
    "        return True\n",
    "    \n",
    "    def remove(self, index):\n",
    "        if index < 0 or index >= self.length:\n",
    "            return None\n",
    "        \n",
    "        if index == 0:\n",
    "            return self.pop_first()\n",
    "        \n",
    "        if index == self.length - 1:\n",
    "            return self.pop()\n",
    "        \n",
    "        pre = self.get(index - 1)\n",
    "        temp = pre.next\n",
    "        \n",
    "        pre.next = temp.next\n",
    "        temp.next = None\n",
    "        \n",
    "        return temp\n",
    "    \n",
    "    def reverse(self):\n",
    "        temp = self.head\n",
    "        self.head = self.tail\n",
    "        self.tail = temp\n",
    "        \n",
    "        before = None\n",
    "        after = temp.next\n",
    "        \n",
    "        for _ in range(self.length):\n",
    "            after = temp.next\n",
    "            temp.next = before\n",
    "            before = temp\n",
    "            temp = after"
   ]
  },
  {
   "cell_type": "code",
   "execution_count": 220,
   "id": "354a115b",
   "metadata": {},
   "outputs": [
    {
     "data": {
      "text/plain": [
       "True"
      ]
     },
     "execution_count": 220,
     "metadata": {},
     "output_type": "execute_result"
    }
   ],
   "source": [
    "l = LinkedList(10)\n",
    "l.append(20)\n",
    "l.append(30)\n",
    "l.append(40)\n",
    "l.append(50)"
   ]
  },
  {
   "cell_type": "code",
   "execution_count": 221,
   "id": "adcc620e",
   "metadata": {},
   "outputs": [
    {
     "name": "stdout",
     "output_type": "stream",
     "text": [
      "10\n",
      "20\n",
      "30\n",
      "40\n",
      "50\n"
     ]
    }
   ],
   "source": [
    "l.print_list()"
   ]
  },
  {
   "cell_type": "code",
   "execution_count": 222,
   "id": "0226931f",
   "metadata": {},
   "outputs": [],
   "source": [
    "l.reverse()"
   ]
  },
  {
   "cell_type": "code",
   "execution_count": 223,
   "id": "675d5137",
   "metadata": {},
   "outputs": [
    {
     "name": "stdout",
     "output_type": "stream",
     "text": [
      "50\n",
      "40\n",
      "30\n",
      "20\n",
      "10\n"
     ]
    }
   ],
   "source": [
    "l.print_list()"
   ]
  },
  {
   "cell_type": "code",
   "execution_count": 230,
   "id": "9bdaeb04",
   "metadata": {},
   "outputs": [
    {
     "name": "stdout",
     "output_type": "stream",
     "text": [
      "s : 1, f : 3\n",
      "-------------------------\n",
      "s : 2, f : 4\n",
      "-------------------------\n",
      "3\n"
     ]
    },
    {
     "data": {
      "text/plain": [
       "'\\n    EXPECTED OUTPUT:\\n    ----------------\\n    3\\n    \\n'"
      ]
     },
     "execution_count": 230,
     "metadata": {},
     "output_type": "execute_result"
    }
   ],
   "source": [
    "class Node:\n",
    "    def __init__(self, value):\n",
    "        self.value = value\n",
    "        self.next = None\n",
    "        \n",
    "\n",
    "class LinkedList:\n",
    "    def __init__(self, value):\n",
    "        new_node = Node(value)\n",
    "        self.head = new_node\n",
    "        self.tail = new_node\n",
    "\n",
    "        \n",
    "    def append(self, value):\n",
    "        new_node = Node(value)\n",
    "        if self.head == None:\n",
    "            self.head = new_node\n",
    "            self.tail = new_node\n",
    "        else:\n",
    "            self.tail.next = new_node\n",
    "            self.tail = new_node\n",
    "        return True\n",
    "        \n",
    "\n",
    "    def find_middle_node(self):\n",
    "        if self.head.next is None:\n",
    "            return self.head\n",
    "            \n",
    "        s = self.head\n",
    "        f = s.next.next\n",
    "        \n",
    "        print(f\"s : {s.value}, f : {f.value}\")\n",
    "        print(\"-\" * 25)\n",
    "        \n",
    "        loop_counter = 0\n",
    "        \n",
    "        while f.next:\n",
    "            s = s.next\n",
    "            f = s.next.next\n",
    "            print(f\"s : {s.value}, f : {f.value}\")\n",
    "            print(\"-\" * 25)\n",
    "            loop_counter += 1\n",
    "        \n",
    "        return s if loop_counter % 2 == 0 else s.next\n",
    "    \n",
    "    # READ LATER\n",
    "    def find_middle_node_annotated(self):\n",
    "    # 1. Initialize two pointers: 'slow' and 'fast', \n",
    "    # both starting from the head.\n",
    "    slow = self.head\n",
    "    fast = self.head\n",
    "\n",
    "    # 2. Iterate as long as 'fast' pointer and its next \n",
    "    # node are not None.\n",
    "    # This ensures we don't get an error trying to access\n",
    "    # a non-existent node.\n",
    "    while fast is not None and fast.next is not None:\n",
    "\n",
    "        # 2.1. Move 'slow' one step ahead.\n",
    "        # This covers half the distance that 'fast' covers.\n",
    "        slow = slow.next\n",
    "\n",
    "        # 2.2. Move 'fast' two steps ahead.\n",
    "        # Thus, when 'fast' reaches the end, 'slow' \n",
    "        # will be at the middle.\n",
    "        fast = fast.next.next\n",
    "\n",
    "    # 3. By now, 'fast' has reached or surpassed the end, \n",
    "    # and 'slow' is positioned at the middle node.\n",
    "    # Return the 'slow' pointer, which points to \n",
    "    # the middle node.\n",
    "    return slow\n",
    "\n",
    "\n",
    "\n",
    "\n",
    "my_linked_list = LinkedList(1)\n",
    "my_linked_list.append(2)\n",
    "my_linked_list.append(3)\n",
    "my_linked_list.append(4)\n",
    "# my_linked_list.append(5)\n",
    "\n",
    "print( my_linked_list.find_middle_node().value )\n",
    "\n",
    "\n",
    "\n",
    "\"\"\"\n",
    "    EXPECTED OUTPUT:\n",
    "    ----------------\n",
    "    3\n",
    "    \n",
    "\"\"\""
   ]
  },
  {
   "cell_type": "markdown",
   "id": "4338a261",
   "metadata": {},
   "source": [
    "# Cycle Detection"
   ]
  },
  {
   "cell_type": "code",
   "execution_count": 306,
   "id": "adb99924",
   "metadata": {},
   "outputs": [],
   "source": [
    "class Node:\n",
    "    def __init__(self, value):\n",
    "        self.value = value\n",
    "        self.next = None\n",
    "        \n",
    "class LinkedList:\n",
    "    def __init__(self, value):\n",
    "        new_node = Node(value)\n",
    "        self.head = new_node\n",
    "        self.tail = new_node\n",
    "        self.length = 1\n",
    "        \n",
    "    def print_list(self):\n",
    "        temp = self.head\n",
    "        while temp is not None:\n",
    "            print(temp.value)\n",
    "            temp = temp.next\n",
    "            \n",
    "    def append(self, value):\n",
    "        new_node = Node(value)\n",
    "        \n",
    "        if self.length != 0:\n",
    "            self.tail.next = new_node\n",
    "            self.tail = new_node\n",
    "        else:\n",
    "            self.head = new_node\n",
    "            self.tail = new_node\n",
    "        \n",
    "        self.length += 1\n",
    "        \n",
    "        return True            \n",
    "    \n",
    "    def pop(self):\n",
    "        if self.length == 0:\n",
    "            return None\n",
    "        elif self.length == 1:\n",
    "            temp = self.head\n",
    "            \n",
    "            self.head = None\n",
    "            self.tail = None\n",
    "            self.length = 0\n",
    "            \n",
    "            return temp\n",
    "        \n",
    "        temp = self.head\n",
    "        pre = temp\n",
    "        \n",
    "        while temp.next != None:\n",
    "            pre = temp\n",
    "            temp = temp.next\n",
    "        \n",
    "        self.tail = pre\n",
    "        self.tail.next = None\n",
    "        \n",
    "        self.length -= 1\n",
    "        \n",
    "        return temp        \n",
    "    \n",
    "    def prepend(self, value):\n",
    "        new_node = Node(value)\n",
    "        \n",
    "        if self.length == 0:\n",
    "            self.head = new_node\n",
    "            self.tail = new_node\n",
    "        else:\n",
    "            new_node.next = self.head\n",
    "            self.head = new_node\n",
    "        \n",
    "        self.length += 1\n",
    "            \n",
    "        return True\n",
    "    \n",
    "    def pop_first(self):\n",
    "        if self.length == 0:\n",
    "            return None\n",
    "        \n",
    "        temp = self.head\n",
    "        self.head = self.head.next\n",
    "        temp.next = None\n",
    "        self.length -= 1\n",
    "        \n",
    "        if self.length == 0:\n",
    "            self.tail = None\n",
    "        \n",
    "        return temp\n",
    "    \n",
    "    def get(self, index):\n",
    "        if index < 0 or index >= self.length:\n",
    "            return None\n",
    "        \n",
    "        temp = self.head\n",
    "        \n",
    "        for _ in range(index):\n",
    "            temp = temp.next\n",
    "            \n",
    "        return temp\n",
    "    \n",
    "    def set_value(self, index, value):\n",
    "        temp = self.get(index)\n",
    "            \n",
    "        if temp:\n",
    "            temp.value = value\n",
    "            return True\n",
    "        \n",
    "        return False\n",
    "    \n",
    "    def insert(self, index, value):\n",
    "        if index < 0 or index > self.length:\n",
    "            return False\n",
    "        \n",
    "        if index == 0:\n",
    "            return self.prepend(value)\n",
    "        \n",
    "        if index == self.length:\n",
    "            return self.append(value)\n",
    "        \n",
    "        temp = self.get(index - 1)\n",
    "            \n",
    "        new_node = Node(value)\n",
    "        \n",
    "        new_node.next = temp.next\n",
    "        temp.next = new_node\n",
    "        \n",
    "        self.length += 1\n",
    "        \n",
    "        return True\n",
    "    \n",
    "    def remove(self, index):\n",
    "        if index < 0 or index >= self.length:\n",
    "            return None\n",
    "        \n",
    "        if index == 0:\n",
    "            return self.pop_first()\n",
    "        \n",
    "        if index == self.length - 1:\n",
    "            return self.pop()\n",
    "        \n",
    "        pre = self.get(index - 1)\n",
    "        temp = pre.next\n",
    "        \n",
    "        pre.next = temp.next\n",
    "        temp.next = None\n",
    "        \n",
    "        return temp\n",
    "    \n",
    "    def reverse(self):\n",
    "        temp = self.head\n",
    "        self.head = self.tail\n",
    "        self.tail = temp\n",
    "        \n",
    "        before = None\n",
    "        after = temp.next\n",
    "        \n",
    "        for _ in range(self.length):\n",
    "            after = temp.next\n",
    "            temp.next = before\n",
    "            before = temp\n",
    "            temp = after\n",
    "    \n",
    "    def make_empty(self):\n",
    "        self.head = None\n",
    "        self.tail = None\n",
    "        self.length = 0"
   ]
  },
  {
   "cell_type": "code",
   "execution_count": 307,
   "id": "fb1c0f56",
   "metadata": {},
   "outputs": [
    {
     "data": {
      "text/plain": [
       "True"
      ]
     },
     "execution_count": 307,
     "metadata": {},
     "output_type": "execute_result"
    }
   ],
   "source": [
    "cycle = LinkedList(10)\n",
    "cycle.append(20)\n",
    "cycle.append(30)\n",
    "cycle.append(40)\n",
    "cycle.append(50)"
   ]
  },
  {
   "cell_type": "code",
   "execution_count": 308,
   "id": "990aef3f",
   "metadata": {},
   "outputs": [
    {
     "name": "stdout",
     "output_type": "stream",
     "text": [
      "10\n",
      "20\n",
      "30\n",
      "40\n",
      "50\n"
     ]
    }
   ],
   "source": [
    "cycle.print_list()"
   ]
  },
  {
   "cell_type": "code",
   "execution_count": 309,
   "id": "30c24bf2",
   "metadata": {},
   "outputs": [
    {
     "data": {
      "text/plain": [
       "30"
      ]
     },
     "execution_count": 309,
     "metadata": {},
     "output_type": "execute_result"
    }
   ],
   "source": [
    "cycle.head.next.next.value"
   ]
  },
  {
   "cell_type": "code",
   "execution_count": 310,
   "id": "60db83c3",
   "metadata": {},
   "outputs": [],
   "source": [
    "cycle.head.next.next.next.next.next = cycle.head.next.next"
   ]
  },
  {
   "cell_type": "code",
   "execution_count": 311,
   "id": "08080ca4",
   "metadata": {},
   "outputs": [],
   "source": [
    "# cycle.print_list()"
   ]
  },
  {
   "cell_type": "code",
   "execution_count": 312,
   "id": "f09860ce",
   "metadata": {},
   "outputs": [],
   "source": [
    "# METHOD 1\n",
    "\n",
    "def cycle_detection_1(l):\n",
    "    temp = l.head\n",
    "    visited = set()\n",
    "    \n",
    "    while temp is not None:\n",
    "        if temp in visited:\n",
    "            return temp\n",
    "        else:\n",
    "            visited.add(temp)\n",
    "            temp = temp.next\n",
    "            \n",
    "    return None\n",
    "\n",
    "# TC -> O(n)\n",
    "# SC -> O(n)"
   ]
  },
  {
   "cell_type": "code",
   "execution_count": 313,
   "id": "647fab38",
   "metadata": {},
   "outputs": [
    {
     "data": {
      "text/plain": [
       "<__main__.Node at 0x7fbbe1f70220>"
      ]
     },
     "execution_count": 313,
     "metadata": {},
     "output_type": "execute_result"
    }
   ],
   "source": [
    "cycle_detection_1(cycle)"
   ]
  },
  {
   "cell_type": "markdown",
   "id": "cf29e66c",
   "metadata": {},
   "source": [
    "## References - \n",
    "\n",
    "https://www.youtube.com/watch?v=PvrxZaH_eZ4"
   ]
  },
  {
   "cell_type": "code",
   "execution_count": 314,
   "id": "8c5a8e6a",
   "metadata": {},
   "outputs": [],
   "source": [
    "# METHOD 2 -> Floyd's Algorithm\n",
    "\n",
    "def cycle_detection_2(l):\n",
    "    slow = l.head\n",
    "    fast = l.head\n",
    "    met = False\n",
    "    \n",
    "    while fast is not None and fast.next is not None:\n",
    "        slow = slow.next\n",
    "        fast = fast.next.next\n",
    "        \n",
    "        if slow == fast:\n",
    "            met = True\n",
    "            break\n",
    "            \n",
    "    if not met:\n",
    "        return None\n",
    "    \n",
    "    slow = l.head\n",
    "    \n",
    "    while slow != fast:\n",
    "        slow = slow.next\n",
    "        fast = fast.next\n",
    "        \n",
    "    return slow"
   ]
  },
  {
   "cell_type": "code",
   "execution_count": 315,
   "id": "bb87b658",
   "metadata": {},
   "outputs": [
    {
     "data": {
      "text/plain": [
       "<__main__.Node at 0x7fbbe1f70220>"
      ]
     },
     "execution_count": 315,
     "metadata": {},
     "output_type": "execute_result"
    }
   ],
   "source": [
    "cycle_detection_2(cycle)"
   ]
  },
  {
   "cell_type": "code",
   "execution_count": 316,
   "id": "d3f4d996",
   "metadata": {},
   "outputs": [],
   "source": [
    "a = [4, 3, 7, 8, 6, 9, 2, 1, 5, 2]"
   ]
  },
  {
   "cell_type": "code",
   "execution_count": 317,
   "id": "bcbe6a65",
   "metadata": {},
   "outputs": [],
   "source": [
    "slow = a[0]\n",
    "fast = a[0]"
   ]
  },
  {
   "cell_type": "code",
   "execution_count": 318,
   "id": "ee9aca48",
   "metadata": {},
   "outputs": [],
   "source": [
    "slow = a[a[0]]"
   ]
  },
  {
   "cell_type": "code",
   "execution_count": 319,
   "id": "841b36d5",
   "metadata": {},
   "outputs": [
    {
     "data": {
      "text/plain": [
       "6"
      ]
     },
     "execution_count": 319,
     "metadata": {},
     "output_type": "execute_result"
    }
   ],
   "source": [
    "slow"
   ]
  },
  {
   "cell_type": "code",
   "execution_count": 320,
   "id": "cdd9c5a5",
   "metadata": {},
   "outputs": [],
   "source": [
    "fast = a[a[a[0]]]"
   ]
  },
  {
   "cell_type": "code",
   "execution_count": 321,
   "id": "9ab98134",
   "metadata": {},
   "outputs": [
    {
     "data": {
      "text/plain": [
       "2"
      ]
     },
     "execution_count": 321,
     "metadata": {},
     "output_type": "execute_result"
    }
   ],
   "source": [
    "fast"
   ]
  },
  {
   "cell_type": "code",
   "execution_count": 322,
   "id": "6b70748e",
   "metadata": {},
   "outputs": [],
   "source": [
    "def duplicate_value_detection(a):\n",
    "    slow = 0\n",
    "    fast = 0\n",
    "    met = False\n",
    "    \n",
    "    while True:\n",
    "        slow = a[slow]\n",
    "        fast = a[a[fast]]\n",
    "        \n",
    "        if slow == fast:\n",
    "            break\n",
    "            \n",
    "    slow = 0\n",
    "    \n",
    "    while slow != fast:\n",
    "        slow = a[slow]\n",
    "        fast = a[fast]\n",
    "        \n",
    "    return slow"
   ]
  },
  {
   "cell_type": "code",
   "execution_count": 323,
   "id": "36c6067f",
   "metadata": {},
   "outputs": [
    {
     "data": {
      "text/plain": [
       "2"
      ]
     },
     "execution_count": 323,
     "metadata": {},
     "output_type": "execute_result"
    }
   ],
   "source": [
    "duplicate_value_detection(a)"
   ]
  },
  {
   "cell_type": "code",
   "execution_count": 324,
   "id": "32e01d58",
   "metadata": {},
   "outputs": [],
   "source": [
    "# REVISION NEEDED\n",
    "\n",
    "def find_kth_from_end(l, k):\n",
    "    slow = l.head\n",
    "    fast = l.head\n",
    "    \n",
    "    for _ in range(k - 1):\n",
    "        if not fast.next:\n",
    "            return None\n",
    "        \n",
    "        fast = fast.next\n",
    "    \n",
    "    while fast.next:\n",
    "        slow = slow.next\n",
    "        fast = fast.next\n",
    "        \n",
    "    return slow, slow.value"
   ]
  },
  {
   "cell_type": "code",
   "execution_count": 325,
   "id": "f3b36af2",
   "metadata": {},
   "outputs": [],
   "source": [
    "l = LinkedList(10)"
   ]
  },
  {
   "cell_type": "code",
   "execution_count": 326,
   "id": "d06af6b8",
   "metadata": {},
   "outputs": [
    {
     "data": {
      "text/plain": [
       "True"
      ]
     },
     "execution_count": 326,
     "metadata": {},
     "output_type": "execute_result"
    }
   ],
   "source": [
    "l.append(20)\n",
    "l.append(30)\n",
    "l.append(40)\n",
    "l.append(50)\n",
    "l.append(60)"
   ]
  },
  {
   "cell_type": "code",
   "execution_count": 327,
   "id": "50988d92",
   "metadata": {},
   "outputs": [
    {
     "name": "stdout",
     "output_type": "stream",
     "text": [
      "10\n",
      "20\n",
      "30\n",
      "40\n",
      "50\n",
      "60\n"
     ]
    }
   ],
   "source": [
    "l.print_list()"
   ]
  },
  {
   "cell_type": "code",
   "execution_count": 328,
   "id": "0a77c0fe",
   "metadata": {},
   "outputs": [],
   "source": [
    "find_kth_from_end(l, 10)"
   ]
  },
  {
   "cell_type": "code",
   "execution_count": 329,
   "id": "39706a80",
   "metadata": {},
   "outputs": [
    {
     "data": {
      "text/plain": [
       "(<__main__.Node at 0x7fbbe1f7a8b0>, 30)"
      ]
     },
     "execution_count": 329,
     "metadata": {},
     "output_type": "execute_result"
    }
   ],
   "source": [
    "find_kth_from_end(l, 4)"
   ]
  },
  {
   "cell_type": "code",
   "execution_count": 373,
   "id": "6e0bf636",
   "metadata": {},
   "outputs": [],
   "source": [
    "def partition_list(l, x):\n",
    "    if l.head is None:\n",
    "        return None\n",
    "    \n",
    "    d1 = Node(0)\n",
    "    d2 = Node(0)\n",
    "    \n",
    "    p1 = d1\n",
    "    p2 = d2\n",
    "    \n",
    "    current = l.head\n",
    "    \n",
    "    while current is not None:\n",
    "        if current.value < x:\n",
    "            p1.next = current\n",
    "            p1 = current\n",
    "        else:\n",
    "            p2.next = current\n",
    "            p2 = current\n",
    "        \n",
    "        current = current.next\n",
    "        \n",
    "    p1.next, p2.next = None, None\n",
    "    \n",
    "    p1.next = d2.next\n",
    "    \n",
    "    l.head = d1.next\n",
    "    \n",
    "    return l"
   ]
  },
  {
   "cell_type": "code",
   "execution_count": 374,
   "id": "76070820",
   "metadata": {},
   "outputs": [
    {
     "data": {
      "text/plain": [
       "True"
      ]
     },
     "execution_count": 374,
     "metadata": {},
     "output_type": "execute_result"
    }
   ],
   "source": [
    "l = LinkedList(3)\n",
    "l.append(8)\n",
    "l.append(5)\n",
    "l.append(10)\n",
    "l.append(2)\n",
    "l.append(1)"
   ]
  },
  {
   "cell_type": "code",
   "execution_count": 375,
   "id": "8ef75c61",
   "metadata": {
    "scrolled": true
   },
   "outputs": [
    {
     "name": "stdout",
     "output_type": "stream",
     "text": [
      "3\n",
      "8\n",
      "5\n",
      "10\n",
      "2\n",
      "1\n"
     ]
    }
   ],
   "source": [
    "l.print_list()"
   ]
  },
  {
   "cell_type": "code",
   "execution_count": 376,
   "id": "7679ec16",
   "metadata": {},
   "outputs": [],
   "source": [
    "random = partition_list(l, 5)"
   ]
  },
  {
   "cell_type": "code",
   "execution_count": 377,
   "id": "1def2002",
   "metadata": {},
   "outputs": [
    {
     "name": "stdout",
     "output_type": "stream",
     "text": [
      "3\n",
      "2\n",
      "1\n",
      "8\n",
      "5\n",
      "10\n"
     ]
    }
   ],
   "source": [
    "random.print_list()"
   ]
  },
  {
   "cell_type": "code",
   "execution_count": 382,
   "id": "151b1667",
   "metadata": {},
   "outputs": [],
   "source": [
    "def binary_to_decimal(l):\n",
    "    power = l.length - 1\n",
    "    decimal = 0\n",
    "\n",
    "    temp = l.head\n",
    "\n",
    "    while temp is not None:\n",
    "        print(f\"Current Decimal - {decimal}\")\n",
    "        print(f\"Power - {power}\")\n",
    "        print(f\"Current Binary Bit - {temp.value}\")\n",
    "        \n",
    "        decimal += temp.value * (2 ** power)\n",
    "        power -= 1\n",
    "        temp = temp.next\n",
    "\n",
    "    return decimal"
   ]
  },
  {
   "cell_type": "code",
   "execution_count": 383,
   "id": "4bfb8dec",
   "metadata": {},
   "outputs": [
    {
     "data": {
      "text/plain": [
       "True"
      ]
     },
     "execution_count": 383,
     "metadata": {},
     "output_type": "execute_result"
    }
   ],
   "source": [
    "l = LinkedList(1)\n",
    "l.append(1)\n",
    "l.append(0)"
   ]
  },
  {
   "cell_type": "code",
   "execution_count": 384,
   "id": "2a86a2a4",
   "metadata": {},
   "outputs": [
    {
     "name": "stdout",
     "output_type": "stream",
     "text": [
      "1\n",
      "1\n",
      "0\n"
     ]
    }
   ],
   "source": [
    "l.print_list()"
   ]
  },
  {
   "cell_type": "code",
   "execution_count": 385,
   "id": "f8a1df3d",
   "metadata": {},
   "outputs": [
    {
     "name": "stdout",
     "output_type": "stream",
     "text": [
      "Current Decimal - 0\n",
      "Power - 2\n",
      "Current Binary Bit - 1\n",
      "Current Decimal - 1\n",
      "Power - 1\n",
      "Current Binary Bit - 1\n",
      "Current Decimal - 2\n",
      "Power - 0\n",
      "Current Binary Bit - 0\n"
     ]
    },
    {
     "data": {
      "text/plain": [
       "3"
      ]
     },
     "execution_count": 385,
     "metadata": {},
     "output_type": "execute_result"
    }
   ],
   "source": [
    "binary_to_decimal(l)"
   ]
  },
  {
   "cell_type": "code",
   "execution_count": 437,
   "id": "87cdeacb",
   "metadata": {},
   "outputs": [],
   "source": [
    "# LOOK FOR FURTHER OPTIMISATION\n",
    "\n",
    "def reverse_between(l, start, end):\n",
    "    temp = l.head\n",
    "    before = None\n",
    "    \n",
    "    for _ in range(start):\n",
    "        before = temp\n",
    "        temp = temp.next\n",
    "        \n",
    "    after = temp.next\n",
    "    anchor = before\n",
    "    \n",
    "    for _ in range(end - start + 1):\n",
    "        after = temp.next\n",
    "        temp.next = before\n",
    "        before = temp\n",
    "        temp = after\n",
    "        \n",
    "    if start > 0 and end < l.length:\n",
    "        anchor.next.next = temp\n",
    "        anchor.next = before\n",
    "    elif start == 0 and end == l.length - 1:\n",
    "        l.head = before\n",
    "    elif start == 0:\n",
    "        l.head = before\n",
    "        anchor.next.next = temp\n",
    "    \n",
    "    return l"
   ]
  },
  {
   "cell_type": "code",
   "execution_count": 438,
   "id": "8192f5ed",
   "metadata": {},
   "outputs": [
    {
     "data": {
      "text/plain": [
       "True"
      ]
     },
     "execution_count": 438,
     "metadata": {},
     "output_type": "execute_result"
    }
   ],
   "source": [
    "l = LinkedList(1)\n",
    "l.append(2)\n",
    "l.append(3)\n",
    "l.append(4)\n",
    "l.append(5)"
   ]
  },
  {
   "cell_type": "code",
   "execution_count": 439,
   "id": "eb988ee3",
   "metadata": {},
   "outputs": [],
   "source": [
    "random = reverse_between(l, 2, 4)"
   ]
  },
  {
   "cell_type": "code",
   "execution_count": 440,
   "id": "6d8b8e98",
   "metadata": {},
   "outputs": [
    {
     "name": "stdout",
     "output_type": "stream",
     "text": [
      "1\n",
      "2\n",
      "5\n",
      "4\n",
      "3\n"
     ]
    }
   ],
   "source": [
    "random.print_list()"
   ]
  },
  {
   "cell_type": "code",
   "execution_count": null,
   "id": "e1306deb",
   "metadata": {},
   "outputs": [],
   "source": []
  }
 ],
 "metadata": {
  "kernelspec": {
   "display_name": "Python 3 (ipykernel)",
   "language": "python",
   "name": "python3"
  },
  "language_info": {
   "codemirror_mode": {
    "name": "ipython",
    "version": 3
   },
   "file_extension": ".py",
   "mimetype": "text/x-python",
   "name": "python",
   "nbconvert_exporter": "python",
   "pygments_lexer": "ipython3",
   "version": "3.11.9"
  }
 },
 "nbformat": 4,
 "nbformat_minor": 5
}
