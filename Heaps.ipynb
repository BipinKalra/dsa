{
 "cells": [
  {
   "cell_type": "code",
   "execution_count": 41,
   "id": "32880ee9",
   "metadata": {},
   "outputs": [],
   "source": [
    "class MaxHeap:\n",
    "    def __init__(self):\n",
    "        self.heap = []\n",
    "    \n",
    "    def _left_child(self, index):\n",
    "        return 2 * index + 1\n",
    "    \n",
    "    def _right_child(self, index):\n",
    "        return 2 * index + 2\n",
    "    \n",
    "    def _parent(self, index):\n",
    "        return (index - 1) // 2\n",
    "    \n",
    "    def _swap(self, index1, index2):\n",
    "        self.heap[index1], self.heap[index2] = self.heap[index2], self.heap[index1]\n",
    "        \n",
    "    def insert(self, value):\n",
    "        self.heap.append(value)\n",
    "        current_index = len(self.heap) - 1\n",
    "        parent_index = self._parent(current_index)\n",
    "        \n",
    "        while current_index > 0 and self.heap[current_index] > self.heap[parent_index]:\n",
    "            self._swap(current_index, parent_index)\n",
    "            current_index = parent_index\n",
    "            parent_index = self._parent(current_index)\n",
    "            \n",
    "        return True\n",
    "    \n",
    "    # ANOTHER WAY OF WRITING\n",
    "    #     def insert(self, value):\n",
    "    #         self.heap.append(value)\n",
    "    #         current_index = len(self.heap) - 1\n",
    "\n",
    "    #         while True:\n",
    "    #             parent_index = self._parent(current_index)\n",
    "\n",
    "    #             if value <= self.heap[parent_index] or parent_index < 0:\n",
    "    #                 break\n",
    "\n",
    "    #             self._swap(current_index, parent_index)\n",
    "\n",
    "    #             current_index = parent_index\n",
    "    #             parent_index = self._parent(parent_index) \n",
    "\n",
    "    #         return True\n",
    "    \n",
    "    def sink_down(self, index):\n",
    "        max_index = index\n",
    "        \n",
    "        while True:\n",
    "            left_index = self._left_child(index)\n",
    "            right_index = self._right_child(index)\n",
    "            \n",
    "            if left_index < len(self.heap) and self.heap[left_index] > self.heap[max_index]:\n",
    "                max_index = left_index\n",
    "                \n",
    "            if right_index < len(self.heap) and self.heap[right_index] > self.heap[max_index]:\n",
    "                max_index = right_index\n",
    "                \n",
    "            if index != max_index:\n",
    "                self._swap(index, max_index)\n",
    "                index = max_index\n",
    "            else:\n",
    "                return\n",
    "            \n",
    "    \n",
    "    def remove(self): # In heaps, we only remove the first item\n",
    "        if len(self.heap) == 0:\n",
    "            return None\n",
    "        \n",
    "        if len(self.heap) == 1:\n",
    "            return self.heap.pop()\n",
    "        \n",
    "        max_value = self.heap[0]\n",
    "        self.heap[0] = self.heap.pop()\n",
    "        self.sink_down(0)\n",
    "        \n",
    "        return max_value"
   ]
  },
  {
   "cell_type": "code",
   "execution_count": 30,
   "id": "2ce425e6",
   "metadata": {},
   "outputs": [],
   "source": [
    "max_heap = MaxHeap()"
   ]
  },
  {
   "cell_type": "code",
   "execution_count": 31,
   "id": "6b39e3dd",
   "metadata": {},
   "outputs": [
    {
     "data": {
      "text/plain": [
       "True"
      ]
     },
     "execution_count": 31,
     "metadata": {},
     "output_type": "execute_result"
    }
   ],
   "source": [
    "max_heap.insert(50)"
   ]
  },
  {
   "cell_type": "code",
   "execution_count": 32,
   "id": "794fd3bf",
   "metadata": {},
   "outputs": [
    {
     "data": {
      "text/plain": [
       "[50]"
      ]
     },
     "execution_count": 32,
     "metadata": {},
     "output_type": "execute_result"
    }
   ],
   "source": [
    "max_heap.heap"
   ]
  },
  {
   "cell_type": "code",
   "execution_count": 33,
   "id": "c90225a3",
   "metadata": {},
   "outputs": [
    {
     "data": {
      "text/plain": [
       "True"
      ]
     },
     "execution_count": 33,
     "metadata": {},
     "output_type": "execute_result"
    }
   ],
   "source": [
    "max_heap.insert(40)"
   ]
  },
  {
   "cell_type": "code",
   "execution_count": 34,
   "id": "d1f39997",
   "metadata": {},
   "outputs": [
    {
     "data": {
      "text/plain": [
       "[50, 40]"
      ]
     },
     "execution_count": 34,
     "metadata": {},
     "output_type": "execute_result"
    }
   ],
   "source": [
    "max_heap.heap"
   ]
  },
  {
   "cell_type": "code",
   "execution_count": 35,
   "id": "91bc9dac",
   "metadata": {},
   "outputs": [
    {
     "data": {
      "text/plain": [
       "True"
      ]
     },
     "execution_count": 35,
     "metadata": {},
     "output_type": "execute_result"
    }
   ],
   "source": [
    "max_heap.insert(60)"
   ]
  },
  {
   "cell_type": "code",
   "execution_count": 36,
   "id": "2f6b823f",
   "metadata": {},
   "outputs": [
    {
     "data": {
      "text/plain": [
       "[60, 40, 50]"
      ]
     },
     "execution_count": 36,
     "metadata": {},
     "output_type": "execute_result"
    }
   ],
   "source": [
    "max_heap.heap"
   ]
  },
  {
   "cell_type": "code",
   "execution_count": 37,
   "id": "047e7377",
   "metadata": {},
   "outputs": [
    {
     "data": {
      "text/plain": [
       "True"
      ]
     },
     "execution_count": 37,
     "metadata": {},
     "output_type": "execute_result"
    }
   ],
   "source": [
    "max_heap.insert(55)"
   ]
  },
  {
   "cell_type": "code",
   "execution_count": 38,
   "id": "fca4e853",
   "metadata": {},
   "outputs": [
    {
     "data": {
      "text/plain": [
       "[60, 55, 50, 40]"
      ]
     },
     "execution_count": 38,
     "metadata": {},
     "output_type": "execute_result"
    }
   ],
   "source": [
    "max_heap.heap"
   ]
  },
  {
   "cell_type": "code",
   "execution_count": 39,
   "id": "8114873e",
   "metadata": {},
   "outputs": [],
   "source": [
    "a = [60, 55, 50, 40]"
   ]
  },
  {
   "cell_type": "code",
   "execution_count": 40,
   "id": "9f0eca53",
   "metadata": {},
   "outputs": [
    {
     "ename": "IndexError",
     "evalue": "list index out of range",
     "output_type": "error",
     "traceback": [
      "\u001b[0;31m---------------------------------------------------------------------------\u001b[0m",
      "\u001b[0;31mIndexError\u001b[0m                                Traceback (most recent call last)",
      "Cell \u001b[0;32mIn[40], line 1\u001b[0m\n\u001b[0;32m----> 1\u001b[0m \u001b[43ma\u001b[49m\u001b[43m[\u001b[49m\u001b[38;5;241;43m5\u001b[39;49m\u001b[43m]\u001b[49m\n",
      "\u001b[0;31mIndexError\u001b[0m: list index out of range"
     ]
    }
   ],
   "source": [
    "a[5]"
   ]
  },
  {
   "cell_type": "code",
   "execution_count": 42,
   "id": "761d588a",
   "metadata": {},
   "outputs": [
    {
     "data": {
      "text/plain": [
       "True"
      ]
     },
     "execution_count": 42,
     "metadata": {},
     "output_type": "execute_result"
    }
   ],
   "source": [
    "random = MaxHeap()\n",
    "random.insert(95)\n",
    "random.insert(75)\n",
    "random.insert(80)\n",
    "random.insert(55)\n",
    "random.insert(60)\n",
    "random.insert(50)\n",
    "random.insert(65)"
   ]
  },
  {
   "cell_type": "code",
   "execution_count": 43,
   "id": "d157f313",
   "metadata": {},
   "outputs": [
    {
     "data": {
      "text/plain": [
       "[95, 75, 80, 55, 60, 50, 65]"
      ]
     },
     "execution_count": 43,
     "metadata": {},
     "output_type": "execute_result"
    }
   ],
   "source": [
    "random.heap"
   ]
  },
  {
   "cell_type": "code",
   "execution_count": 44,
   "id": "60a18c28",
   "metadata": {},
   "outputs": [
    {
     "data": {
      "text/plain": [
       "[80, 75, 65, 55, 60, 50]"
      ]
     },
     "execution_count": 44,
     "metadata": {},
     "output_type": "execute_result"
    }
   ],
   "source": [
    "random.remove()\n",
    "random.heap"
   ]
  },
  {
   "cell_type": "code",
   "execution_count": 45,
   "id": "62d64072",
   "metadata": {},
   "outputs": [
    {
     "data": {
      "text/plain": [
       "[75, 60, 65, 55, 50]"
      ]
     },
     "execution_count": 45,
     "metadata": {},
     "output_type": "execute_result"
    }
   ],
   "source": [
    "random.remove()\n",
    "random.heap"
   ]
  },
  {
   "cell_type": "code",
   "execution_count": 47,
   "id": "88373c35",
   "metadata": {},
   "outputs": [
    {
     "name": "stdout",
     "output_type": "stream",
     "text": [
      "\n",
      "Test 1\n",
      "Input: []\n",
      "Expected Output: []\n",
      "Actual Output: []\n",
      "Status: Passed\n",
      "\n",
      "Test 2\n",
      "Input: [1]\n",
      "Expected Output: [1]\n",
      "Actual Output: [1]\n",
      "Status: Passed\n",
      "\n",
      "Test 3\n",
      "Input: [1, 2, 3, 4, 5]\n",
      "Expected Output: [1, 2, 3, 4, 5]\n",
      "Actual Output: [1, 2, 3, 4, 5]\n",
      "Status: Passed\n",
      "\n",
      "Test 4\n",
      "Input: [1, 2, 2, 1, 3, 3, 3, 2, 2]\n",
      "Expected Output: [1, 2, 2, 2, 3, 3, 3, 3, 3]\n",
      "Actual Output: [1, 2, 2, 2, 3, 3, 3, 3, 3]\n",
      "Status: Passed\n",
      "\n",
      "Test 5\n",
      "Input: [-1, -2, -3, -4, -5]\n",
      "Expected Output: [-1, -1, -1, -1, -1]\n",
      "Actual Output: [-1, -1, -1, -1, -1]\n",
      "Status: Passed\n"
     ]
    }
   ],
   "source": [
    "# MAXIMUM ELEMENT IN A STREAM QUESTION\n",
    "\n",
    "class MaxHeap:\n",
    "    def __init__(self):\n",
    "        self.heap = []\n",
    "\n",
    "    def _left_child(self, index):\n",
    "        return 2 * index + 1\n",
    "\n",
    "    def _right_child(self, index):\n",
    "        return 2 * index + 2\n",
    "\n",
    "    def _parent(self, index):\n",
    "        return (index - 1) // 2\n",
    "\n",
    "    def _swap(self, index1, index2):\n",
    "        self.heap[index1], self.heap[index2] = self.heap[index2], self.heap[index1]\n",
    "\n",
    "    def insert(self, value):\n",
    "        self.heap.append(value)\n",
    "        current = len(self.heap) - 1\n",
    "\n",
    "        while current > 0 and self.heap[current] > self.heap[self._parent(current)]:\n",
    "            self._swap(current, self._parent(current))\n",
    "            current = self._parent(current)\n",
    "\n",
    "    def _sink_down(self, index):\n",
    "        max_index = index\n",
    "        while True:\n",
    "            left_index = self._left_child(index)\n",
    "            right_index = self._right_child(index)\n",
    "\n",
    "            if (left_index < len(self.heap) and \n",
    "                    self.heap[left_index] > self.heap[max_index]):\n",
    "                max_index = left_index\n",
    "\n",
    "            if (right_index < len(self.heap) and \n",
    "                    self.heap[right_index] > self.heap[max_index]):\n",
    "                max_index = right_index\n",
    "\n",
    "            if max_index != index:\n",
    "                self._swap(index, max_index)\n",
    "                index = max_index\n",
    "            else:\n",
    "                return\n",
    "                       \n",
    "    def remove(self):\n",
    "        if len(self.heap) == 0:\n",
    "            return None\n",
    "\n",
    "        if len(self.heap) == 1:\n",
    "            return self.heap.pop()\n",
    "\n",
    "        max_value = self.heap[0]\n",
    "        self.heap[0] = self.heap.pop()\n",
    "        self._sink_down(0)\n",
    "\n",
    "        return max_value\n",
    "        \n",
    "\n",
    "\n",
    "def stream_max(nums):\n",
    "    max_value = float(\"-inf\")\n",
    "    max_list = []\n",
    "    \n",
    "    for num in nums:\n",
    "        if num > max_value:\n",
    "            max_value = num\n",
    "            \n",
    "        max_list.append(max_value)\n",
    "    \n",
    "    return max_list\n",
    "\n",
    "\n",
    "\n",
    "test_cases = [\n",
    "    ([], []),\n",
    "    ([1], [1]),\n",
    "    ([1, 2, 3, 4, 5], [1, 2, 3, 4, 5]),\n",
    "    ([1, 2, 2, 1, 3, 3, 3, 2, 2], [1, 2, 2, 2, 3, 3, 3, 3, 3]),\n",
    "    ([-1, -2, -3, -4, -5], [-1, -1, -1, -1, -1])\n",
    "]\n",
    "\n",
    "for i, (nums, expected) in enumerate(test_cases):\n",
    "    result = stream_max(nums)\n",
    "    print(f'\\nTest {i+1}')\n",
    "    print(f'Input: {nums}')\n",
    "    print(f'Expected Output: {expected}')\n",
    "    print(f'Actual Output: {result}')\n",
    "    if result == expected:\n",
    "        print('Status: Passed')\n",
    "    else:\n",
    "        print('Status: Failed')"
   ]
  },
  {
   "cell_type": "code",
   "execution_count": 51,
   "id": "31d2c405",
   "metadata": {},
   "outputs": [],
   "source": [
    "def factorial(n):\n",
    "    if n < 0:\n",
    "        return None\n",
    "    \n",
    "    if n == 0 or n == 1:\n",
    "        return 1\n",
    "    \n",
    "    return n * factorial(n-1)"
   ]
  },
  {
   "cell_type": "code",
   "execution_count": 52,
   "id": "b3758344",
   "metadata": {},
   "outputs": [
    {
     "data": {
      "text/plain": [
       "24"
      ]
     },
     "execution_count": 52,
     "metadata": {},
     "output_type": "execute_result"
    }
   ],
   "source": [
    "factorial(4)"
   ]
  },
  {
   "cell_type": "code",
   "execution_count": 53,
   "id": "3ec4da0c",
   "metadata": {},
   "outputs": [
    {
     "data": {
      "text/plain": [
       "120"
      ]
     },
     "execution_count": 53,
     "metadata": {},
     "output_type": "execute_result"
    }
   ],
   "source": [
    "factorial(5)"
   ]
  },
  {
   "cell_type": "code",
   "execution_count": null,
   "id": "29838a91",
   "metadata": {},
   "outputs": [],
   "source": []
  }
 ],
 "metadata": {
  "kernelspec": {
   "display_name": "Python 3 (ipykernel)",
   "language": "python",
   "name": "python3"
  },
  "language_info": {
   "codemirror_mode": {
    "name": "ipython",
    "version": 3
   },
   "file_extension": ".py",
   "mimetype": "text/x-python",
   "name": "python",
   "nbconvert_exporter": "python",
   "pygments_lexer": "ipython3",
   "version": "3.9.5"
  }
 },
 "nbformat": 4,
 "nbformat_minor": 5
}
