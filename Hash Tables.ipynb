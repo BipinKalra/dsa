{
 "cells": [
  {
   "cell_type": "code",
   "execution_count": 1,
   "id": "2289958a",
   "metadata": {},
   "outputs": [],
   "source": [
    "class HashTable:\n",
    "    def __init__(self, size = 7):\n",
    "        self.data_map = [None] * size\n",
    "        \n",
    "    def __hash(self, key):\n",
    "        my_hash = 0\n",
    "        \n",
    "        for letter in key:\n",
    "            my_hash = (my_hash + ord(letter) * 23) % len(self.data_map)\n",
    "            \n",
    "        return my_hash\n",
    "    \n",
    "    def print_table(self):\n",
    "        for i, val in enumerate(self.data_map):\n",
    "            print(f\"{i} : {val}\")\n",
    "            \n",
    "    def set_item(self, key, value):\n",
    "        index = self.__hash(key)\n",
    "        \n",
    "        if self.data_map[index] is None:\n",
    "            self.data_map[index] = []\n",
    "        \n",
    "        self.data_map[index].append([key, value])\n",
    "        \n",
    "        return True\n",
    "    \n",
    "    def get_item(self, key):\n",
    "        index = self.__hash(key)\n",
    "        \n",
    "        target = self.data_map[index]\n",
    "        \n",
    "        if target is None:\n",
    "            return None\n",
    "        \n",
    "        for k, v in target:\n",
    "            if k == key:\n",
    "                return v\n",
    "        \n",
    "        return None\n",
    "    \n",
    "    def keys(self):\n",
    "        keys = []\n",
    "        \n",
    "        for x in self.data_map:\n",
    "            if x:\n",
    "                for y in x:\n",
    "                    keys.append(y[0])\n",
    "                    \n",
    "        return keys"
   ]
  },
  {
   "cell_type": "code",
   "execution_count": 2,
   "id": "9d9ca835",
   "metadata": {},
   "outputs": [
    {
     "name": "stdout",
     "output_type": "stream",
     "text": [
      "0 : None\n",
      "1 : None\n",
      "2 : None\n",
      "3 : None\n",
      "4 : None\n",
      "5 : None\n",
      "6 : None\n"
     ]
    }
   ],
   "source": [
    "h = HashTable()\n",
    "h.print_table()"
   ]
  },
  {
   "cell_type": "code",
   "execution_count": 3,
   "id": "0aa5c111",
   "metadata": {},
   "outputs": [
    {
     "data": {
      "text/plain": [
       "True"
      ]
     },
     "execution_count": 3,
     "metadata": {},
     "output_type": "execute_result"
    }
   ],
   "source": [
    "h.set_item(\"bolts\", 1400)\n",
    "h.set_item(\"washers\", 50)\n",
    "h.set_item(\"lumber\", 70)"
   ]
  },
  {
   "cell_type": "code",
   "execution_count": 4,
   "id": "afe22135",
   "metadata": {},
   "outputs": [
    {
     "name": "stdout",
     "output_type": "stream",
     "text": [
      "0 : None\n",
      "1 : None\n",
      "2 : None\n",
      "3 : None\n",
      "4 : [['bolts', 1400], ['washers', 50]]\n",
      "5 : None\n",
      "6 : [['lumber', 70]]\n"
     ]
    }
   ],
   "source": [
    "h.print_table()"
   ]
  },
  {
   "cell_type": "code",
   "execution_count": 5,
   "id": "0068fd67",
   "metadata": {},
   "outputs": [
    {
     "data": {
      "text/plain": [
       "50"
      ]
     },
     "execution_count": 5,
     "metadata": {},
     "output_type": "execute_result"
    }
   ],
   "source": [
    "h.get_item(\"washers\")"
   ]
  },
  {
   "cell_type": "code",
   "execution_count": 6,
   "id": "154f5226",
   "metadata": {},
   "outputs": [],
   "source": [
    "h.get_item(\"bipin\")"
   ]
  },
  {
   "cell_type": "code",
   "execution_count": 7,
   "id": "1aeb3c54",
   "metadata": {},
   "outputs": [
    {
     "data": {
      "text/plain": [
       "['bolts', 'washers', 'lumber']"
      ]
     },
     "execution_count": 7,
     "metadata": {},
     "output_type": "execute_result"
    }
   ],
   "source": [
    "h.keys()"
   ]
  },
  {
   "cell_type": "code",
   "execution_count": 8,
   "id": "020ed9ea",
   "metadata": {},
   "outputs": [],
   "source": [
    "# Takes two lists as input and returns True if their is a common element in those lists\n",
    "def common_in_lists(l1, l2):\n",
    "    s1 = set(l1)\n",
    "    \n",
    "    for i in l2:\n",
    "        if i in s1:\n",
    "            return True\n",
    "    \n",
    "    return False"
   ]
  },
  {
   "cell_type": "code",
   "execution_count": 9,
   "id": "57633e07",
   "metadata": {},
   "outputs": [
    {
     "data": {
      "text/plain": [
       "True"
      ]
     },
     "execution_count": 9,
     "metadata": {},
     "output_type": "execute_result"
    }
   ],
   "source": [
    "common_in_lists([2,3,4], [5,4,7])"
   ]
  },
  {
   "cell_type": "code",
   "execution_count": 10,
   "id": "4b51dad9",
   "metadata": {},
   "outputs": [],
   "source": [
    "def first_non_repeating_char(string):\n",
    "    non_repeating = {}\n",
    "    index = 1\n",
    "    \n",
    "    for i in string:\n",
    "        if i in non_repeating:\n",
    "            non_repeating.pop(i)\n",
    "        else:\n",
    "            non_repeating[i] = index\n",
    "            index += 1\n",
    "    \n",
    "    if non_repeating:\n",
    "        return next(iter(non_repeating))\n",
    "    \n",
    "    return None"
   ]
  },
  {
   "cell_type": "code",
   "execution_count": 11,
   "id": "2245b48a",
   "metadata": {},
   "outputs": [
    {
     "data": {
      "text/plain": [
       "'b'"
      ]
     },
     "execution_count": 11,
     "metadata": {},
     "output_type": "execute_result"
    }
   ],
   "source": [
    "first_non_repeating_char(\"bipin\")"
   ]
  },
  {
   "cell_type": "code",
   "execution_count": 12,
   "id": "04cb6f3f",
   "metadata": {},
   "outputs": [],
   "source": [
    "first_non_repeating_char(\"aabbcc\")"
   ]
  },
  {
   "cell_type": "code",
   "execution_count": 13,
   "id": "6e0b1482",
   "metadata": {},
   "outputs": [],
   "source": [
    "# Alternate approach\n",
    "def first_non_repeating_char(string):\n",
    "    char_counts = {}\n",
    "    \n",
    "    for char in string:\n",
    "        char_counts[char] = char_counts.get(char, 0) + 1\n",
    "    \n",
    "    for char in string:\n",
    "        if char_counts[char] == 1:\n",
    "            return char\n",
    "        \n",
    "    return None"
   ]
  },
  {
   "cell_type": "code",
   "execution_count": 14,
   "id": "4c9231b3",
   "metadata": {},
   "outputs": [
    {
     "data": {
      "text/plain": [
       "'b'"
      ]
     },
     "execution_count": 14,
     "metadata": {},
     "output_type": "execute_result"
    }
   ],
   "source": [
    "first_non_repeating_char(\"bipin\")"
   ]
  },
  {
   "cell_type": "code",
   "execution_count": 15,
   "id": "af0c6c39",
   "metadata": {},
   "outputs": [],
   "source": [
    "first_non_repeating_char(\"aabbcc\")"
   ]
  },
  {
   "cell_type": "code",
   "execution_count": 16,
   "id": "83c4b7d4",
   "metadata": {},
   "outputs": [],
   "source": [
    "def check_anagram(s1, s2):\n",
    "    if len(s1) != len(s2):\n",
    "        return False\n",
    "    \n",
    "    counts = {}\n",
    "    \n",
    "    for c1, c2 in zip(s1, s2):\n",
    "        if c1 in counts:\n",
    "            counts[c1] += 1\n",
    "        else:\n",
    "            counts[c1] = 1\n",
    "            \n",
    "        if c2 in counts:\n",
    "            counts[c2] -= 1\n",
    "        else:\n",
    "            counts[c2] = -1\n",
    "        \n",
    "    for count in counts.values():\n",
    "        if count != 0:\n",
    "            return False\n",
    "    \n",
    "    return True        "
   ]
  },
  {
   "cell_type": "code",
   "execution_count": 17,
   "id": "2729724a",
   "metadata": {},
   "outputs": [
    {
     "data": {
      "text/plain": [
       "True"
      ]
     },
     "execution_count": 17,
     "metadata": {},
     "output_type": "execute_result"
    }
   ],
   "source": [
    "check_anagram(\"eat\", \"ate\")"
   ]
  },
  {
   "cell_type": "code",
   "execution_count": 18,
   "id": "08cec6f9",
   "metadata": {},
   "outputs": [],
   "source": [
    "def group_anagrams(strings):\n",
    "    groups = {}\n",
    "    \n",
    "    index = 0\n",
    "    \n",
    "    if strings:\n",
    "        groups[strings[0]] = [strings[0]]\n",
    "    \n",
    "    for string in strings[1:]:\n",
    "        anagram = False\n",
    "        \n",
    "        for key in groups:\n",
    "            anagram = check_anagram(string, key)\n",
    "            \n",
    "            if anagram:\n",
    "                groups[key].append(string)\n",
    "                \n",
    "        if not anagram:\n",
    "            groups[string] = [string]\n",
    "                \n",
    "    anagram_groups = []\n",
    "    \n",
    "    for group in groups.values():\n",
    "        anagram_groups.append(group)\n",
    "        \n",
    "    return anagram_groups\n",
    "\n",
    "# KEEP THINKING ON THESE LINES"
   ]
  },
  {
   "cell_type": "code",
   "execution_count": 19,
   "id": "3ef2a9f3",
   "metadata": {},
   "outputs": [
    {
     "data": {
      "text/plain": [
       "[['eat', 'tea', 'ate'], ['tan', 'nat'], ['ate'], ['nat'], ['bat']]"
      ]
     },
     "execution_count": 19,
     "metadata": {},
     "output_type": "execute_result"
    }
   ],
   "source": [
    "group_anagrams([\"eat\", \"tea\", \"tan\", \"ate\", \"nat\", \"bat\"])"
   ]
  },
  {
   "cell_type": "code",
   "execution_count": 20,
   "id": "14d6f8d1",
   "metadata": {},
   "outputs": [],
   "source": [
    "def group_anagrams(strings):\n",
    "    groups = {}\n",
    "    \n",
    "    for string in strings:\n",
    "        sorted_string = \"\".join(sorted(string))\n",
    "        \n",
    "        if sorted_string in groups:\n",
    "            groups[sorted_string].append(string)\n",
    "        else:\n",
    "            groups[sorted_string] = [string]\n",
    "            \n",
    "    return list(groups.values())"
   ]
  },
  {
   "cell_type": "code",
   "execution_count": 21,
   "id": "698c0a92",
   "metadata": {},
   "outputs": [
    {
     "data": {
      "text/plain": [
       "[['eat', 'tea', 'ate'], ['tan', 'nat'], ['bat']]"
      ]
     },
     "execution_count": 21,
     "metadata": {},
     "output_type": "execute_result"
    }
   ],
   "source": [
    "group_anagrams([\"eat\", \"tea\", \"tan\", \"ate\", \"nat\", \"bat\"])"
   ]
  },
  {
   "cell_type": "code",
   "execution_count": 22,
   "id": "df314fa6",
   "metadata": {},
   "outputs": [],
   "source": [
    "def two_sum(nums, target):\n",
    "    num_map = {}\n",
    "    \n",
    "    for i, num in enumerate(nums):\n",
    "        complement = target - num\n",
    "        \n",
    "        if complement in num_map:\n",
    "            return [num_map[complement], i]\n",
    "        \n",
    "        num_map[num] = i\n",
    "        \n",
    "    return []"
   ]
  },
  {
   "cell_type": "code",
   "execution_count": 23,
   "id": "2f78f558",
   "metadata": {},
   "outputs": [
    {
     "name": "stdout",
     "output_type": "stream",
     "text": [
      "[1, 4]\n",
      "[1, 3]\n",
      "[0, 3]\n",
      "[1, 3]\n",
      "[]\n",
      "[2, 3]\n",
      "[0, 1]\n",
      "[]\n"
     ]
    }
   ],
   "source": [
    "print(two_sum([5, 1, 7, 2, 9, 3], 10))  \n",
    "print(two_sum([4, 2, 11, 7, 6, 3], 9))  \n",
    "print(two_sum([10, 15, 5, 2, 8, 1, 7], 12))  \n",
    "print(two_sum([1, 3, 5, 7, 9], 10))  \n",
    "print (two_sum([1, 2, 3, 4, 5], 10) )\n",
    "print (two_sum([1, 2, 3, 4, 5], 7) )\n",
    "print (two_sum([1, 2, 3, 4, 5], 3) )\n",
    "print (two_sum([], 0) )"
   ]
  },
  {
   "cell_type": "code",
   "execution_count": 32,
   "id": "2a3e7bba",
   "metadata": {},
   "outputs": [],
   "source": [
    "def longest_subarray_sum(nums, target):\n",
    "    sum_index = { 0: -1 }\n",
    "    curr_sum = 0\n",
    "    longest_len = 0\n",
    "    \n",
    "    for i, num in enumerate(nums):\n",
    "        curr_sum += num\n",
    "        \n",
    "        if (curr_sum - target) in sum_index:\n",
    "            start = sum_index[curr_sum - target] + 1\n",
    "            current_len = i - start + 1\n",
    "            \n",
    "            print(f\"Number - {num}, Index - {i}\")\n",
    "            print(f\"Current Length = {current_len}\")\n",
    "            print(f\"Longest Length = {longest_len}\")\n",
    "            \n",
    "            longest_len = max(longest_len, current_len)\n",
    "        \n",
    "        sum_index[curr_sum] = i\n",
    "        \n",
    "    return longest_len"
   ]
  },
  {
   "cell_type": "code",
   "execution_count": 34,
   "id": "8c1f3553",
   "metadata": {},
   "outputs": [
    {
     "name": "stdout",
     "output_type": "stream",
     "text": [
      "Number - 2, Index - 1\n",
      "Current Length = 2\n",
      "Longest Length = 0\n",
      "Number - 3, Index - 2\n",
      "Current Length = 1\n",
      "Longest Length = 2\n",
      "Number - 1, Index - 5\n",
      "Current Length = 3\n",
      "Longest Length = 2\n",
      "Number - 0, Index - 6\n",
      "Current Length = 4\n",
      "Longest Length = 3\n",
      "Number - 1, Index - 8\n",
      "Current Length = 6\n",
      "Longest Length = 4\n",
      "Number - 1, Index - 12\n",
      "Current Length = 3\n",
      "Longest Length = 6\n"
     ]
    },
    {
     "data": {
      "text/plain": [
       "6"
      ]
     },
     "execution_count": 34,
     "metadata": {},
     "output_type": "execute_result"
    }
   ],
   "source": [
    "longest_subarray_sum([1, 2, 3, 1, 1, 1, 0, -1, 1, 4, 2, 0, 1], 3)"
   ]
  },
  {
   "cell_type": "code",
   "execution_count": null,
   "id": "04cbb4bb",
   "metadata": {},
   "outputs": [],
   "source": []
  }
 ],
 "metadata": {
  "kernelspec": {
   "display_name": "Python 3 (ipykernel)",
   "language": "python",
   "name": "python3"
  },
  "language_info": {
   "codemirror_mode": {
    "name": "ipython",
    "version": 3
   },
   "file_extension": ".py",
   "mimetype": "text/x-python",
   "name": "python",
   "nbconvert_exporter": "python",
   "pygments_lexer": "ipython3",
   "version": "3.11.9"
  }
 },
 "nbformat": 4,
 "nbformat_minor": 5
}
