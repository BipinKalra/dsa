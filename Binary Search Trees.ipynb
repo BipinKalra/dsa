{
 "cells": [
  {
   "cell_type": "code",
   "execution_count": 55,
   "id": "3207e284",
   "metadata": {},
   "outputs": [],
   "source": [
    "class Node:\n",
    "    def __init__(self, value):\n",
    "        self.value = value\n",
    "        self.left = None\n",
    "        self.right = None\n",
    "        \n",
    "class BinarySearchTree:\n",
    "    def __init__(self):\n",
    "        self.root = None\n",
    "        \n",
    "    def insert(self, value):\n",
    "        new_node = Node(value)\n",
    "        \n",
    "        if self.root is None:\n",
    "            self.root = new_node\n",
    "            \n",
    "            return True\n",
    "            \n",
    "        temp = self.root\n",
    "        \n",
    "        while True:\n",
    "            if new_node.value == temp.value:\n",
    "                return False\n",
    "            \n",
    "            if new_node.value < temp.value:\n",
    "                if temp.left is None:\n",
    "                    temp.left = new_node\n",
    "                    return True\n",
    "                \n",
    "                temp = temp.left\n",
    "            else:\n",
    "                if temp.right is None:\n",
    "                    temp.right = new_node\n",
    "                    return True\n",
    "                \n",
    "                temp = temp.right\n",
    "                \n",
    "    def contains(self, value):\n",
    "        # if self.root is None:\n",
    "            # return False\n",
    "        # Not needed since we would anywhich way return False using the last return statement\n",
    "        \n",
    "        temp = self.root\n",
    "        \n",
    "        while temp:\n",
    "            if temp.value == value:\n",
    "                return True\n",
    "            \n",
    "            if temp.value > value:\n",
    "                temp = temp.left\n",
    "            else:\n",
    "                temp = temp.right\n",
    "                \n",
    "        return False"
   ]
  },
  {
   "cell_type": "code",
   "execution_count": 40,
   "id": "bf718dbb",
   "metadata": {},
   "outputs": [],
   "source": [
    "bst = BinarySearchTree()"
   ]
  },
  {
   "cell_type": "code",
   "execution_count": 41,
   "id": "13272377",
   "metadata": {},
   "outputs": [
    {
     "data": {
      "text/plain": [
       "True"
      ]
     },
     "execution_count": 41,
     "metadata": {},
     "output_type": "execute_result"
    }
   ],
   "source": [
    "bst.insert(8)"
   ]
  },
  {
   "cell_type": "code",
   "execution_count": 42,
   "id": "474afd11",
   "metadata": {},
   "outputs": [
    {
     "data": {
      "text/plain": [
       "8"
      ]
     },
     "execution_count": 42,
     "metadata": {},
     "output_type": "execute_result"
    }
   ],
   "source": [
    "bst.root.value"
   ]
  },
  {
   "cell_type": "code",
   "execution_count": 43,
   "id": "d4c60d3e",
   "metadata": {},
   "outputs": [
    {
     "data": {
      "text/plain": [
       "True"
      ]
     },
     "execution_count": 43,
     "metadata": {},
     "output_type": "execute_result"
    }
   ],
   "source": [
    "bst.insert(4)"
   ]
  },
  {
   "cell_type": "code",
   "execution_count": 44,
   "id": "1f131ac7",
   "metadata": {},
   "outputs": [
    {
     "data": {
      "text/plain": [
       "8"
      ]
     },
     "execution_count": 44,
     "metadata": {},
     "output_type": "execute_result"
    }
   ],
   "source": [
    "bst.root.value"
   ]
  },
  {
   "cell_type": "code",
   "execution_count": 45,
   "id": "86be743e",
   "metadata": {},
   "outputs": [
    {
     "data": {
      "text/plain": [
       "4"
      ]
     },
     "execution_count": 45,
     "metadata": {},
     "output_type": "execute_result"
    }
   ],
   "source": [
    "bst.root.left.value"
   ]
  },
  {
   "cell_type": "code",
   "execution_count": 46,
   "id": "2f21e94b",
   "metadata": {},
   "outputs": [
    {
     "data": {
      "text/plain": [
       "True"
      ]
     },
     "execution_count": 46,
     "metadata": {},
     "output_type": "execute_result"
    }
   ],
   "source": [
    "bst.insert(10)"
   ]
  },
  {
   "cell_type": "code",
   "execution_count": 47,
   "id": "5f07b8a2",
   "metadata": {},
   "outputs": [
    {
     "data": {
      "text/plain": [
       "10"
      ]
     },
     "execution_count": 47,
     "metadata": {},
     "output_type": "execute_result"
    }
   ],
   "source": [
    "bst.root.right.value"
   ]
  },
  {
   "cell_type": "code",
   "execution_count": 48,
   "id": "92372d55",
   "metadata": {},
   "outputs": [
    {
     "data": {
      "text/plain": [
       "True"
      ]
     },
     "execution_count": 48,
     "metadata": {},
     "output_type": "execute_result"
    }
   ],
   "source": [
    "bst.insert(9)"
   ]
  },
  {
   "cell_type": "code",
   "execution_count": 49,
   "id": "ff210c1e",
   "metadata": {},
   "outputs": [
    {
     "data": {
      "text/plain": [
       "9"
      ]
     },
     "execution_count": 49,
     "metadata": {},
     "output_type": "execute_result"
    }
   ],
   "source": [
    "bst.root.right.left.value"
   ]
  },
  {
   "cell_type": "code",
   "execution_count": 50,
   "id": "381fe898",
   "metadata": {},
   "outputs": [
    {
     "data": {
      "text/plain": [
       "True"
      ]
     },
     "execution_count": 50,
     "metadata": {},
     "output_type": "execute_result"
    }
   ],
   "source": [
    "bst.contains(4)"
   ]
  },
  {
   "cell_type": "code",
   "execution_count": 51,
   "id": "b0dd2fc7",
   "metadata": {},
   "outputs": [
    {
     "data": {
      "text/plain": [
       "False"
      ]
     },
     "execution_count": 51,
     "metadata": {},
     "output_type": "execute_result"
    }
   ],
   "source": [
    "bst.contains(14)"
   ]
  },
  {
   "cell_type": "code",
   "execution_count": 52,
   "id": "f5da54cb",
   "metadata": {},
   "outputs": [
    {
     "data": {
      "text/plain": [
       "False"
      ]
     },
     "execution_count": 52,
     "metadata": {},
     "output_type": "execute_result"
    }
   ],
   "source": [
    "bst.contains(3)"
   ]
  },
  {
   "cell_type": "code",
   "execution_count": 53,
   "id": "8adee518",
   "metadata": {},
   "outputs": [
    {
     "data": {
      "text/plain": [
       "True"
      ]
     },
     "execution_count": 53,
     "metadata": {},
     "output_type": "execute_result"
    }
   ],
   "source": [
    "bst.contains(10)"
   ]
  },
  {
   "cell_type": "code",
   "execution_count": 54,
   "id": "e01784f5",
   "metadata": {},
   "outputs": [
    {
     "data": {
      "text/plain": [
       "True"
      ]
     },
     "execution_count": 54,
     "metadata": {},
     "output_type": "execute_result"
    }
   ],
   "source": [
    "bst.contains(8)"
   ]
  },
  {
   "cell_type": "markdown",
   "id": "a6656c77",
   "metadata": {},
   "source": [
    "# RECURSIVE"
   ]
  },
  {
   "cell_type": "code",
   "execution_count": 13,
   "id": "f9663174",
   "metadata": {},
   "outputs": [],
   "source": [
    "class Node:\n",
    "    def __init__(self, value):\n",
    "        self.value = value\n",
    "        self.left = None\n",
    "        self.right = None\n",
    "        \n",
    "class BinarySearchTree:\n",
    "    def __init__(self):\n",
    "        self.root = None\n",
    "    \n",
    "    def r_contains(self, value):\n",
    "        return self.__r_contains(self.root, value)\n",
    "    \n",
    "    def __r_contains(self, current_node, value):\n",
    "        if current_node == None:\n",
    "            return False\n",
    "        \n",
    "        if current_node.value == value:\n",
    "            return True\n",
    "        \n",
    "        if current_node.value > value:\n",
    "            return self.__r_contains(current_node.left)\n",
    "        else:\n",
    "            return self.__r_contains(current_node.right)\n",
    "                \n",
    "    def __r_insert(self, current_node, new_node):\n",
    "        if new_node.value == current_node.value:\n",
    "            return False\n",
    "        \n",
    "        if new_node.value < current_node.value:\n",
    "            if current_node.left is None:\n",
    "                current_node.left = new_node\n",
    "                return True\n",
    "            \n",
    "            return self.__r_insert(current_node.left, new_node)\n",
    "        else:\n",
    "            if current_node.right is None:\n",
    "                current_node.right = new_node\n",
    "                return True\n",
    "            \n",
    "            return self.__r_insert(current_node.right, new_node)\n",
    "                \n",
    "    def r_insert(self, value):\n",
    "        new_node = Node(value)\n",
    "        \n",
    "        if self.root is None:\n",
    "            self.root = new_node\n",
    "            \n",
    "            return True\n",
    "        \n",
    "        return self.__r_insert(self.root, new_node)\n",
    "    \n",
    "    def min_value(self, current_node):\n",
    "        while current_node.left is not None:\n",
    "            current_node = current_node.left\n",
    "            \n",
    "        return current_node.value\n",
    "    \n",
    "    def __r_delete(self, current_node, value):\n",
    "        if current_node == None:\n",
    "            return None\n",
    "        \n",
    "        if value < current_node.value:\n",
    "            current_node.left = self.__delete_node(current_node.left, value)\n",
    "        elif value > current_node.value:\n",
    "            current_node.right = self.__delete_node(current_node.right, value)\n",
    "        else:\n",
    "            if current_node.left == None and current_node.right == None:\n",
    "                return None\n",
    "            elif current_node.left == None:\n",
    "                current_node = current_node.right\n",
    "            elif current_node.right == None:\n",
    "                current_node = current_node.left\n",
    "            else:\n",
    "                sub_tree_min = self.min_value(current_node.right)\n",
    "                current_node.value = sub_tree_min\n",
    "                current_node.right = self.__r_delete(current_node.right, sub_tree_min)\n",
    "            \n",
    "        return current_node\n",
    "            \n",
    "    def r_delete(self, value):\n",
    "        self.__r_delete(self.root, value)"
   ]
  },
  {
   "cell_type": "code",
   "execution_count": 3,
   "id": "7b76e6f7",
   "metadata": {},
   "outputs": [],
   "source": [
    "b = BinarySearchTree()"
   ]
  },
  {
   "cell_type": "code",
   "execution_count": 4,
   "id": "e3b63a1b",
   "metadata": {},
   "outputs": [
    {
     "data": {
      "text/plain": [
       "True"
      ]
     },
     "execution_count": 4,
     "metadata": {},
     "output_type": "execute_result"
    }
   ],
   "source": [
    "b.insert(10)"
   ]
  },
  {
   "cell_type": "code",
   "execution_count": 7,
   "id": "88a0490e",
   "metadata": {},
   "outputs": [
    {
     "data": {
      "text/plain": [
       "10"
      ]
     },
     "execution_count": 7,
     "metadata": {},
     "output_type": "execute_result"
    }
   ],
   "source": [
    "b.root.value"
   ]
  },
  {
   "cell_type": "code",
   "execution_count": 8,
   "id": "cf36752d",
   "metadata": {},
   "outputs": [
    {
     "data": {
      "text/plain": [
       "True"
      ]
     },
     "execution_count": 8,
     "metadata": {},
     "output_type": "execute_result"
    }
   ],
   "source": [
    "b.insert(30)"
   ]
  },
  {
   "cell_type": "code",
   "execution_count": 9,
   "id": "b070a705",
   "metadata": {},
   "outputs": [
    {
     "data": {
      "text/plain": [
       "30"
      ]
     },
     "execution_count": 9,
     "metadata": {},
     "output_type": "execute_result"
    }
   ],
   "source": [
    "b.root.right.value"
   ]
  },
  {
   "cell_type": "code",
   "execution_count": 11,
   "id": "4e31c6f4",
   "metadata": {},
   "outputs": [],
   "source": [
    "b.root.left"
   ]
  },
  {
   "cell_type": "code",
   "execution_count": 12,
   "id": "9d831509",
   "metadata": {},
   "outputs": [
    {
     "data": {
      "text/plain": [
       "False"
      ]
     },
     "execution_count": 12,
     "metadata": {},
     "output_type": "execute_result"
    }
   ],
   "source": [
    "b.insert(30)"
   ]
  },
  {
   "cell_type": "code",
   "execution_count": null,
   "id": "826382f4",
   "metadata": {},
   "outputs": [],
   "source": []
  }
 ],
 "metadata": {
  "kernelspec": {
   "display_name": "Python 3 (ipykernel)",
   "language": "python",
   "name": "python3"
  },
  "language_info": {
   "codemirror_mode": {
    "name": "ipython",
    "version": 3
   },
   "file_extension": ".py",
   "mimetype": "text/x-python",
   "name": "python",
   "nbconvert_exporter": "python",
   "pygments_lexer": "ipython3",
   "version": "3.9.5"
  }
 },
 "nbformat": 4,
 "nbformat_minor": 5
}
